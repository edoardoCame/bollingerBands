{
 "cells": [
  {
   "cell_type": "code",
   "execution_count": 4,
   "id": "f4e40176",
   "metadata": {},
   "outputs": [],
   "source": [
    "import dask.dataframe as dd\n",
    "\n",
    "df = dd.read_csv('/home/edocame/Desktop/data_python/03_BID_ASK_DATA/EURCHF_oanda_alltime.csv')\n",
    "\n"
   ]
  },
  {
   "cell_type": "code",
   "execution_count": 6,
   "id": "c1e86d45",
   "metadata": {},
   "outputs": [
    {
     "name": "stdout",
     "output_type": "stream",
     "text": [
      "Current columns: Index(['2003.08.04 03:00:03.299', '1.53834', '1.53844'], dtype='object')\n"
     ]
    }
   ],
   "source": [
    "# Display current column names to inspect structure\n",
    "print('Current columns:', df.columns)"
   ]
  },
  {
   "cell_type": "code",
   "execution_count": 8,
   "id": "a809801c",
   "metadata": {},
   "outputs": [
    {
     "name": "stdout",
     "output_type": "stream",
     "text": [
      "Renamed columns: Index(['datetime', 'bid', 'ask'], dtype='object')\n"
     ]
    }
   ],
   "source": [
    "def rename_columns(df: dd.DataFrame) -> dd.DataFrame:\n",
    "    \"\"\"\n",
    "    Rename columns of the DataFrame to 'datetime', 'bid', and 'ask'.\n",
    "    Assumes the DataFrame has exactly three columns in the correct order.\n",
    "    \n",
    "    Parameters:\n",
    "    df (dd.DataFrame): The input DataFrame with original column names.\n",
    "    \n",
    "    Returns:\n",
    "    dd.DataFrame: DataFrame with renamed columns.\n",
    "    \"\"\"\n",
    "    # Edge case: Check if there are exactly three columns\n",
    "    if len(df.columns) != 3:\n",
    "        raise ValueError(f\"Expected 3 columns, got {len(df.columns)}: {df.columns}\")\n",
    "    \n",
    "    # Rename columns for clarity\n",
    "    df = df.rename(columns={df.columns[0]: 'datetime',\n",
    "                            df.columns[1]: 'bid',\n",
    "                            df.columns[2]: 'ask'})\n",
    "    return df\n",
    "\n",
    "# Apply the renaming function\n",
    "try:\n",
    "    df = rename_columns(df)\n",
    "    print('Renamed columns:', df.columns)\n",
    "except Exception as e:\n",
    "    print('Error:', e)"
   ]
  },
  {
   "cell_type": "code",
   "execution_count": 10,
   "id": "85f11149",
   "metadata": {},
   "outputs": [
    {
     "data": {
      "text/html": [
       "<div>\n",
       "<style scoped>\n",
       "    .dataframe tbody tr th:only-of-type {\n",
       "        vertical-align: middle;\n",
       "    }\n",
       "\n",
       "    .dataframe tbody tr th {\n",
       "        vertical-align: top;\n",
       "    }\n",
       "\n",
       "    .dataframe thead th {\n",
       "        text-align: right;\n",
       "    }\n",
       "</style>\n",
       "<table border=\"1\" class=\"dataframe\">\n",
       "  <thead>\n",
       "    <tr style=\"text-align: right;\">\n",
       "      <th></th>\n",
       "      <th>datetime</th>\n",
       "      <th>bid</th>\n",
       "      <th>ask</th>\n",
       "    </tr>\n",
       "  </thead>\n",
       "  <tbody>\n",
       "    <tr>\n",
       "      <th>0</th>\n",
       "      <td>2003.08.04 03:00:03.491</td>\n",
       "      <td>1.53844</td>\n",
       "      <td>1.53854</td>\n",
       "    </tr>\n",
       "    <tr>\n",
       "      <th>1</th>\n",
       "      <td>2003.08.04 03:00:36.109</td>\n",
       "      <td>1.53820</td>\n",
       "      <td>1.53845</td>\n",
       "    </tr>\n",
       "    <tr>\n",
       "      <th>2</th>\n",
       "      <td>2003.08.04 03:00:36.301</td>\n",
       "      <td>1.53834</td>\n",
       "      <td>1.53859</td>\n",
       "    </tr>\n",
       "    <tr>\n",
       "      <th>3</th>\n",
       "      <td>2003.08.04 03:00:46.305</td>\n",
       "      <td>1.53822</td>\n",
       "      <td>1.53832</td>\n",
       "    </tr>\n",
       "    <tr>\n",
       "      <th>4</th>\n",
       "      <td>2003.08.04 03:00:46.497</td>\n",
       "      <td>1.53838</td>\n",
       "      <td>1.53848</td>\n",
       "    </tr>\n",
       "  </tbody>\n",
       "</table>\n",
       "</div>"
      ],
      "text/plain": [
       "                  datetime      bid      ask\n",
       "0  2003.08.04 03:00:03.491  1.53844  1.53854\n",
       "1  2003.08.04 03:00:36.109  1.53820  1.53845\n",
       "2  2003.08.04 03:00:36.301  1.53834  1.53859\n",
       "3  2003.08.04 03:00:46.305  1.53822  1.53832\n",
       "4  2003.08.04 03:00:46.497  1.53838  1.53848"
      ]
     },
     "execution_count": 10,
     "metadata": {},
     "output_type": "execute_result"
    }
   ],
   "source": [
    "# Display the first few rows to confirm column renaming\n",
    "df.head()"
   ]
  },
  {
   "cell_type": "code",
   "execution_count": 11,
   "id": "0437d4f3",
   "metadata": {},
   "outputs": [
    {
     "name": "stdout",
     "output_type": "stream",
     "text": [
      "DataFrame esportato in /home/edocame/Desktop/data_python/03_BID_ASK_DATA/EURCHF_oanda_alltime.parquet\n"
     ]
    }
   ],
   "source": [
    "def convert_and_export(df: dd.DataFrame, parquet_path: str) -> None:\n",
    "    \"\"\"\n",
    "    Converte la colonna 'datetime' in tipo datetime e esporta il DataFrame in un unico file Parquet.\n",
    "    \n",
    "    Parameters:\n",
    "    df (dd.DataFrame): DataFrame con colonne 'datetime', 'bid', 'ask'.\n",
    "    parquet_path (str): Percorso del file Parquet di destinazione.\n",
    "    \"\"\"\n",
    "    # Conversione della colonna 'datetime' in tipo datetime\n",
    "    df['datetime'] = dd.to_datetime(df['datetime'], errors='coerce')\n",
    "    \n",
    "    # Edge case: verifica conversione\n",
    "    if df['datetime'].isnull().any().compute():\n",
    "        print('Attenzione: alcune date non sono state convertite correttamente.')\n",
    "    \n",
    "    # Esporta in un unico file Parquet\n",
    "    df.to_parquet(parquet_path, write_index=False, engine='pyarrow', compression='snappy', write_metadata_file=True, overwrite=True)\n",
    "    print(f\"DataFrame esportato in {parquet_path}\")\n",
    "\n",
    "# Esegui la conversione e l'esportazione\n",
    "convert_and_export(df, '/home/edocame/Desktop/data_python/03_BID_ASK_DATA/EURCHF_oanda_alltime.parquet')"
   ]
  },
  {
   "cell_type": "code",
   "execution_count": 1,
   "id": "c15f06e1",
   "metadata": {},
   "outputs": [
    {
     "data": {
      "text/html": [
       "<div>\n",
       "<style scoped>\n",
       "    .dataframe tbody tr th:only-of-type {\n",
       "        vertical-align: middle;\n",
       "    }\n",
       "\n",
       "    .dataframe tbody tr th {\n",
       "        vertical-align: top;\n",
       "    }\n",
       "\n",
       "    .dataframe thead th {\n",
       "        text-align: right;\n",
       "    }\n",
       "</style>\n",
       "<table border=\"1\" class=\"dataframe\">\n",
       "  <thead>\n",
       "    <tr style=\"text-align: right;\">\n",
       "      <th></th>\n",
       "      <th>datetime</th>\n",
       "      <th>bid</th>\n",
       "      <th>ask</th>\n",
       "    </tr>\n",
       "  </thead>\n",
       "  <tbody>\n",
       "    <tr>\n",
       "      <th>0</th>\n",
       "      <td>2003-08-04 03:00:03.491</td>\n",
       "      <td>1.53844</td>\n",
       "      <td>1.53854</td>\n",
       "    </tr>\n",
       "    <tr>\n",
       "      <th>1</th>\n",
       "      <td>2003-08-04 03:00:36.109</td>\n",
       "      <td>1.53820</td>\n",
       "      <td>1.53845</td>\n",
       "    </tr>\n",
       "    <tr>\n",
       "      <th>2</th>\n",
       "      <td>2003-08-04 03:00:36.301</td>\n",
       "      <td>1.53834</td>\n",
       "      <td>1.53859</td>\n",
       "    </tr>\n",
       "    <tr>\n",
       "      <th>3</th>\n",
       "      <td>2003-08-04 03:00:46.305</td>\n",
       "      <td>1.53822</td>\n",
       "      <td>1.53832</td>\n",
       "    </tr>\n",
       "    <tr>\n",
       "      <th>4</th>\n",
       "      <td>2003-08-04 03:00:46.497</td>\n",
       "      <td>1.53838</td>\n",
       "      <td>1.53848</td>\n",
       "    </tr>\n",
       "  </tbody>\n",
       "</table>\n",
       "</div>"
      ],
      "text/plain": [
       "                 datetime      bid      ask\n",
       "0 2003-08-04 03:00:03.491  1.53844  1.53854\n",
       "1 2003-08-04 03:00:36.109  1.53820  1.53845\n",
       "2 2003-08-04 03:00:36.301  1.53834  1.53859\n",
       "3 2003-08-04 03:00:46.305  1.53822  1.53832\n",
       "4 2003-08-04 03:00:46.497  1.53838  1.53848"
      ]
     },
     "execution_count": 1,
     "metadata": {},
     "output_type": "execute_result"
    }
   ],
   "source": [
    "# Leggi e mostra le prime righe del file Parquet esportato per conferma\n",
    "import pandas as pd\n",
    "parquet_preview = pd.read_parquet('/home/edocame/Desktop/data_python/03_BID_ASK_DATA/EURCHF_oanda_alltime.parquet')\n",
    "parquet_preview.head()"
   ]
  }
 ],
 "metadata": {
  "kernelspec": {
   "display_name": ".venv",
   "language": "python",
   "name": "python3"
  },
  "language_info": {
   "codemirror_mode": {
    "name": "ipython",
    "version": 3
   },
   "file_extension": ".py",
   "mimetype": "text/x-python",
   "name": "python",
   "nbconvert_exporter": "python",
   "pygments_lexer": "ipython3",
   "version": "3.10.12"
  }
 },
 "nbformat": 4,
 "nbformat_minor": 5
}
