{
 "cells": [
  {
   "cell_type": "code",
   "execution_count": 1,
   "id": "0d7e3a75",
   "metadata": {},
   "outputs": [],
   "source": [
    "# Sezione 1: Import delle librerie\n",
    "import numpy as np\n",
    "import pandas as pd\n",
    "import plotly.graph_objects as go\n",
    "import plotly.express as px\n",
    "from plotly.subplots import make_subplots\n",
    "import seaborn as sns\n",
    "import matplotlib.pyplot as plt\n",
    "from scipy.stats import pearsonr\n",
    "from scipy.cluster.hierarchy import dendrogram, linkage, fcluster\n",
    "from sklearn.decomposition import PCA\n",
    "from sklearn.preprocessing import StandardScaler\n",
    "from statsmodels.stats.outliers_influence import variance_inflation_factor\n",
    "import warnings\n",
    "warnings.filterwarnings('ignore')"
   ]
  },
  {
   "cell_type": "code",
   "execution_count": 2,
   "id": "847b5868",
   "metadata": {},
   "outputs": [
    {
     "name": "stdout",
     "output_type": "stream",
     "text": [
      "Caricamento dati...\n",
      "\n",
      "DataFrame combinato: 2380 righe, 28 colonne\n",
      "L'indice è unico: True\n",
      "Caricate 28 strategie: ['AUDJPY_14D_1', 'EURGBP_14D_1', 'AUDNZD_14D_1', 'USDCHF_1440_01', 'EURGBP_7200_02', 'EURUSD_7200_02', 'GBPUSD_1440_01', 'USDCAD_1440_01', 'GBPUSD_7200_02', 'GBPCHF_1440_01', 'EURUSD_1440_01', 'GBPUSD_14D_1', 'GBPCHF_7200_02', 'GBPCHF_14D_1', 'AUDJPY_1440_01', 'AUDJPY_7200_02', 'EURCHF_14D_1', 'EURCHF_1440_01', 'USDCHF_7200_02', 'EURUSD_14D_1', 'NZDJPY_7200_02', 'USDCAD_7200_02', 'USDCAD_14D_1', 'EURCHF_7200_02', 'USDCHF_14D_1', 'AUDNZD_7200_02', 'EURGBP_1440_01', 'AUDNZD_1440_01']\n",
      "\n",
      "DataFrame combinato: 2380 righe, 28 colonne\n",
      "L'indice è unico: True\n",
      "Caricate 28 strategie: ['AUDJPY_14D_1', 'EURGBP_14D_1', 'AUDNZD_14D_1', 'USDCHF_1440_01', 'EURGBP_7200_02', 'EURUSD_7200_02', 'GBPUSD_1440_01', 'USDCAD_1440_01', 'GBPUSD_7200_02', 'GBPCHF_1440_01', 'EURUSD_1440_01', 'GBPUSD_14D_1', 'GBPCHF_7200_02', 'GBPCHF_14D_1', 'AUDJPY_1440_01', 'AUDJPY_7200_02', 'EURCHF_14D_1', 'EURCHF_1440_01', 'USDCHF_7200_02', 'EURUSD_14D_1', 'NZDJPY_7200_02', 'USDCAD_7200_02', 'USDCAD_14D_1', 'EURCHF_7200_02', 'USDCHF_14D_1', 'AUDNZD_7200_02', 'EURGBP_1440_01', 'AUDNZD_1440_01']\n"
     ]
    }
   ],
   "source": [
    "# Sezione 2: Caricamento dati trading\n",
    "DATA_PATH = \"/home/edocame/Desktop/bollingerBands/DATA\"\n",
    "\n",
    "def load_trading_data():\n",
    "    \"\"\"Carica tutti i file CSV di trading dalla cartella DATA_PATH\"\"\"\n",
    "    import os\n",
    "    data_path = DATA_PATH\n",
    "    files = [f for f in os.listdir(data_path) if f.lower().endswith('.csv')]\n",
    "    if not files:\n",
    "        print(f\"Nessun file CSV trovato in {data_path}\")\n",
    "        return {}, None, None\n",
    "    dfs = {}\n",
    "    strategy_names = []\n",
    "    for file in files:\n",
    "        try:\n",
    "            with open(os.path.join(data_path, file), 'r', encoding='utf-16') as f:\n",
    "                lines = f.readlines()\n",
    "            dates = []\n",
    "            balances = []\n",
    "            for line in lines[1:]:\n",
    "                parts = line.strip().split('\\t')\n",
    "                if len(parts) >= 2:\n",
    "                    date_str = parts[0].strip()\n",
    "                    try:\n",
    "                        balance = float(parts[1].strip())\n",
    "                        dates.append(date_str)\n",
    "                        balances.append(balance)\n",
    "                    except ValueError:\n",
    "                        continue\n",
    "            df = pd.DataFrame({'BALANCE': balances}, index=pd.to_datetime(dates))\n",
    "            df = df.sort_index()\n",
    "            df = df[~df.index.duplicated(keep='last')]\n",
    "            strategy_name = file.replace('.csv', '').upper()\n",
    "            dfs[strategy_name] = df\n",
    "            strategy_names.append(strategy_name)\n",
    "        except Exception as e:\n",
    "            print(f\"Errore caricando {file}: {e}\")\n",
    "    combined_df = None\n",
    "    for name, df in dfs.items():\n",
    "        if combined_df is None:\n",
    "            combined_df = df.rename(columns={'BALANCE': name})\n",
    "        else:\n",
    "            combined_df = combined_df.join(df.rename(columns={'BALANCE': name}), how='outer')\n",
    "    combined_df = combined_df.fillna(method='ffill')\n",
    "    combined_df = combined_df.fillna(method='bfill')\n",
    "    combined_df = combined_df.resample('D').last().fillna(method='ffill')\n",
    "    returns_df = combined_df.pct_change().fillna(0)\n",
    "    for col in returns_df.columns:\n",
    "        returns_df[col] = np.where(\n",
    "            (returns_df[col] < -0.5) | (returns_df[col] > 0.5),\n",
    "            0,\n",
    "            returns_df[col]\n",
    "        )\n",
    "    strategies = {}\n",
    "    for name in strategy_names:\n",
    "        strategies[name] = pd.DataFrame({\n",
    "            'BALANCE': combined_df[name],\n",
    "            'returns': returns_df[name]\n",
    "        })\n",
    "    print(f\"\\nDataFrame combinato: {combined_df.shape[0]} righe, {combined_df.shape[1]} colonne\")\n",
    "    print(f\"L'indice è unico: {returns_df.index.is_unique}\")\n",
    "    return strategies, combined_df, returns_df\n",
    "\n",
    "print(\"Caricamento dati...\")\n",
    "strategies_data, combined_df, returns_df = load_trading_data()\n",
    "print(f\"Caricate {len(strategies_data)} strategie: {list(strategies_data.keys())}\")"
   ]
  },
  {
   "cell_type": "markdown",
   "id": "0c485597",
   "metadata": {},
   "source": [
    "# Sezione 3: Calcolo e Visualizzazione della Matrice di Correlazione\n",
    "Questa sezione calcola la matrice di correlazione tra i rendimenti delle strategie, mostra statistiche riassuntive, identifica le coppie altamente correlate e visualizza i risultati con heatmap e istogrammi."
   ]
  },
  {
   "cell_type": "code",
   "execution_count": 3,
   "id": "b719e3d2",
   "metadata": {},
   "outputs": [
    {
     "name": "stdout",
     "output_type": "stream",
     "text": [
      "📈 STATISTICHE CORRELAZIONE:\n",
      "   Correlazione media: 0.061\n",
      "   Correlazione mediana: 0.034\n",
      "   Correlazione min: -0.085\n",
      "   Correlazione max: 0.461\n",
      "   Deviazione standard: 0.089\n",
      "\n",
      "🚨 COPPIE AD ALTA CORRELAZIONE (|r| > 0.8):\n",
      "   Nessuna coppia con correlazione superiore alla soglia\n"
     ]
    },
    {
     "data": {
      "application/vnd.plotly.v1+json": {
       "config": {
        "plotlyServerURL": "https://plot.ly"
       },
       "data": [
        {
         "colorbar": {
          "title": {
           "text": "Correlazione"
          },
          "x": 0.45
         },
         "colorscale": [
          [
           0,
           "rgb(103,0,31)"
          ],
          [
           0.1,
           "rgb(178,24,43)"
          ],
          [
           0.2,
           "rgb(214,96,77)"
          ],
          [
           0.3,
           "rgb(244,165,130)"
          ],
          [
           0.4,
           "rgb(253,219,199)"
          ],
          [
           0.5,
           "rgb(247,247,247)"
          ],
          [
           0.6,
           "rgb(209,229,240)"
          ],
          [
           0.7,
           "rgb(146,197,222)"
          ],
          [
           0.8,
           "rgb(67,147,195)"
          ],
          [
           0.9,
           "rgb(33,102,172)"
          ],
          [
           1,
           "rgb(5,48,97)"
          ]
         ],
         "text": {
          "bdata": "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",
          "dtype": "f8",
          "shape": "28, 28"
         },
         "textfont": {
          "size": 8
         },
         "texttemplate": "%{text}",
         "type": "heatmap",
         "x": [
          "AUDJPY_14D_1",
          "EURGBP_14D_1",
          "AUDNZD_14D_1",
          "USDCHF_1440_01",
          "EURGBP_7200_02",
          "EURUSD_7200_02",
          "GBPUSD_1440_01",
          "USDCAD_1440_01",
          "GBPUSD_7200_02",
          "GBPCHF_1440_01",
          "EURUSD_1440_01",
          "GBPUSD_14D_1",
          "GBPCHF_7200_02",
          "GBPCHF_14D_1",
          "AUDJPY_1440_01",
          "AUDJPY_7200_02",
          "EURCHF_14D_1",
          "EURCHF_1440_01",
          "USDCHF_7200_02",
          "EURUSD_14D_1",
          "NZDJPY_7200_02",
          "USDCAD_7200_02",
          "USDCAD_14D_1",
          "EURCHF_7200_02",
          "USDCHF_14D_1",
          "AUDNZD_7200_02",
          "EURGBP_1440_01",
          "AUDNZD_1440_01"
         ],
         "xaxis": "x",
         "y": [
          "AUDJPY_14D_1",
          "EURGBP_14D_1",
          "AUDNZD_14D_1",
          "USDCHF_1440_01",
          "EURGBP_7200_02",
          "EURUSD_7200_02",
          "GBPUSD_1440_01",
          "USDCAD_1440_01",
          "GBPUSD_7200_02",
          "GBPCHF_1440_01",
          "EURUSD_1440_01",
          "GBPUSD_14D_1",
          "GBPCHF_7200_02",
          "GBPCHF_14D_1",
          "AUDJPY_1440_01",
          "AUDJPY_7200_02",
          "EURCHF_14D_1",
          "EURCHF_1440_01",
          "USDCHF_7200_02",
          "EURUSD_14D_1",
          "NZDJPY_7200_02",
          "USDCAD_7200_02",
          "USDCAD_14D_1",
          "EURCHF_7200_02",
          "USDCHF_14D_1",
          "AUDNZD_7200_02",
          "EURGBP_1440_01",
          "AUDNZD_1440_01"
         ],
         "yaxis": "y",
         "z": {
          "bdata": "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",
          "dtype": "f8",
          "shape": "28, 28"
         },
         "zmid": 0
        },
        {
         "marker": {
          "color": "skyblue",
          "opacity": 0.7
         },
         "name": "Distribuzione Correlazioni",
         "nbinsx": 30,
         "type": "histogram",
         "x": {
          "bdata": "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",
          "dtype": "f8"
         },
         "xaxis": "x2",
         "yaxis": "y2"
        }
       ],
       "layout": {
        "annotations": [
         {
          "font": {
           "size": 16
          },
          "showarrow": false,
          "text": "Matrice di Correlazione",
          "x": 0.225,
          "xanchor": "center",
          "xref": "paper",
          "y": 1,
          "yanchor": "bottom",
          "yref": "paper"
         },
         {
          "font": {
           "size": 16
          },
          "showarrow": false,
          "text": "Distribuzione Correlazioni",
          "x": 0.775,
          "xanchor": "center",
          "xref": "paper",
          "y": 1,
          "yanchor": "bottom",
          "yref": "paper"
         },
         {
          "showarrow": false,
          "text": "Media: 0.061",
          "x": 0.06103422281754559,
          "xanchor": "left",
          "xref": "x2",
          "y": 1,
          "yanchor": "top",
          "yref": "y2 domain"
         },
         {
          "showarrow": false,
          "text": "Mediana: 0.034",
          "x": 0.03432898352084132,
          "xanchor": "left",
          "xref": "x2",
          "y": 1,
          "yanchor": "top",
          "yref": "y2 domain"
         }
        ],
        "height": 600,
        "shapes": [
         {
          "line": {
           "color": "red",
           "dash": "dash"
          },
          "type": "line",
          "x0": 0.06103422281754559,
          "x1": 0.06103422281754559,
          "xref": "x2",
          "y0": 0,
          "y1": 1,
          "yref": "y2 domain"
         },
         {
          "line": {
           "color": "green",
           "dash": "dash"
          },
          "type": "line",
          "x0": 0.03432898352084132,
          "x1": 0.03432898352084132,
          "xref": "x2",
          "y0": 0,
          "y1": 1,
          "yref": "y2 domain"
         }
        ],
        "showlegend": false,
        "template": {
         "data": {
          "bar": [
           {
            "error_x": {
             "color": "#2a3f5f"
            },
            "error_y": {
             "color": "#2a3f5f"
            },
            "marker": {
             "line": {
              "color": "#E5ECF6",
              "width": 0.5
             },
             "pattern": {
              "fillmode": "overlay",
              "size": 10,
              "solidity": 0.2
             }
            },
            "type": "bar"
           }
          ],
          "barpolar": [
           {
            "marker": {
             "line": {
              "color": "#E5ECF6",
              "width": 0.5
             },
             "pattern": {
              "fillmode": "overlay",
              "size": 10,
              "solidity": 0.2
             }
            },
            "type": "barpolar"
           }
          ],
          "carpet": [
           {
            "aaxis": {
             "endlinecolor": "#2a3f5f",
             "gridcolor": "white",
             "linecolor": "white",
             "minorgridcolor": "white",
             "startlinecolor": "#2a3f5f"
            },
            "baxis": {
             "endlinecolor": "#2a3f5f",
             "gridcolor": "white",
             "linecolor": "white",
             "minorgridcolor": "white",
             "startlinecolor": "#2a3f5f"
            },
            "type": "carpet"
           }
          ],
          "choropleth": [
           {
            "colorbar": {
             "outlinewidth": 0,
             "ticks": ""
            },
            "type": "choropleth"
           }
          ],
          "contour": [
           {
            "colorbar": {
             "outlinewidth": 0,
             "ticks": ""
            },
            "colorscale": [
             [
              0,
              "#0d0887"
             ],
             [
              0.1111111111111111,
              "#46039f"
             ],
             [
              0.2222222222222222,
              "#7201a8"
             ],
             [
              0.3333333333333333,
              "#9c179e"
             ],
             [
              0.4444444444444444,
              "#bd3786"
             ],
             [
              0.5555555555555556,
              "#d8576b"
             ],
             [
              0.6666666666666666,
              "#ed7953"
             ],
             [
              0.7777777777777778,
              "#fb9f3a"
             ],
             [
              0.8888888888888888,
              "#fdca26"
             ],
             [
              1,
              "#f0f921"
             ]
            ],
            "type": "contour"
           }
          ],
          "contourcarpet": [
           {
            "colorbar": {
             "outlinewidth": 0,
             "ticks": ""
            },
            "type": "contourcarpet"
           }
          ],
          "heatmap": [
           {
            "colorbar": {
             "outlinewidth": 0,
             "ticks": ""
            },
            "colorscale": [
             [
              0,
              "#0d0887"
             ],
             [
              0.1111111111111111,
              "#46039f"
             ],
             [
              0.2222222222222222,
              "#7201a8"
             ],
             [
              0.3333333333333333,
              "#9c179e"
             ],
             [
              0.4444444444444444,
              "#bd3786"
             ],
             [
              0.5555555555555556,
              "#d8576b"
             ],
             [
              0.6666666666666666,
              "#ed7953"
             ],
             [
              0.7777777777777778,
              "#fb9f3a"
             ],
             [
              0.8888888888888888,
              "#fdca26"
             ],
             [
              1,
              "#f0f921"
             ]
            ],
            "type": "heatmap"
           }
          ],
          "histogram": [
           {
            "marker": {
             "pattern": {
              "fillmode": "overlay",
              "size": 10,
              "solidity": 0.2
             }
            },
            "type": "histogram"
           }
          ],
          "histogram2d": [
           {
            "colorbar": {
             "outlinewidth": 0,
             "ticks": ""
            },
            "colorscale": [
             [
              0,
              "#0d0887"
             ],
             [
              0.1111111111111111,
              "#46039f"
             ],
             [
              0.2222222222222222,
              "#7201a8"
             ],
             [
              0.3333333333333333,
              "#9c179e"
             ],
             [
              0.4444444444444444,
              "#bd3786"
             ],
             [
              0.5555555555555556,
              "#d8576b"
             ],
             [
              0.6666666666666666,
              "#ed7953"
             ],
             [
              0.7777777777777778,
              "#fb9f3a"
             ],
             [
              0.8888888888888888,
              "#fdca26"
             ],
             [
              1,
              "#f0f921"
             ]
            ],
            "type": "histogram2d"
           }
          ],
          "histogram2dcontour": [
           {
            "colorbar": {
             "outlinewidth": 0,
             "ticks": ""
            },
            "colorscale": [
             [
              0,
              "#0d0887"
             ],
             [
              0.1111111111111111,
              "#46039f"
             ],
             [
              0.2222222222222222,
              "#7201a8"
             ],
             [
              0.3333333333333333,
              "#9c179e"
             ],
             [
              0.4444444444444444,
              "#bd3786"
             ],
             [
              0.5555555555555556,
              "#d8576b"
             ],
             [
              0.6666666666666666,
              "#ed7953"
             ],
             [
              0.7777777777777778,
              "#fb9f3a"
             ],
             [
              0.8888888888888888,
              "#fdca26"
             ],
             [
              1,
              "#f0f921"
             ]
            ],
            "type": "histogram2dcontour"
           }
          ],
          "mesh3d": [
           {
            "colorbar": {
             "outlinewidth": 0,
             "ticks": ""
            },
            "type": "mesh3d"
           }
          ],
          "parcoords": [
           {
            "line": {
             "colorbar": {
              "outlinewidth": 0,
              "ticks": ""
             }
            },
            "type": "parcoords"
           }
          ],
          "pie": [
           {
            "automargin": true,
            "type": "pie"
           }
          ],
          "scatter": [
           {
            "fillpattern": {
             "fillmode": "overlay",
             "size": 10,
             "solidity": 0.2
            },
            "type": "scatter"
           }
          ],
          "scatter3d": [
           {
            "line": {
             "colorbar": {
              "outlinewidth": 0,
              "ticks": ""
             }
            },
            "marker": {
             "colorbar": {
              "outlinewidth": 0,
              "ticks": ""
             }
            },
            "type": "scatter3d"
           }
          ],
          "scattercarpet": [
           {
            "marker": {
             "colorbar": {
              "outlinewidth": 0,
              "ticks": ""
             }
            },
            "type": "scattercarpet"
           }
          ],
          "scattergeo": [
           {
            "marker": {
             "colorbar": {
              "outlinewidth": 0,
              "ticks": ""
             }
            },
            "type": "scattergeo"
           }
          ],
          "scattergl": [
           {
            "marker": {
             "colorbar": {
              "outlinewidth": 0,
              "ticks": ""
             }
            },
            "type": "scattergl"
           }
          ],
          "scattermap": [
           {
            "marker": {
             "colorbar": {
              "outlinewidth": 0,
              "ticks": ""
             }
            },
            "type": "scattermap"
           }
          ],
          "scattermapbox": [
           {
            "marker": {
             "colorbar": {
              "outlinewidth": 0,
              "ticks": ""
             }
            },
            "type": "scattermapbox"
           }
          ],
          "scatterpolar": [
           {
            "marker": {
             "colorbar": {
              "outlinewidth": 0,
              "ticks": ""
             }
            },
            "type": "scatterpolar"
           }
          ],
          "scatterpolargl": [
           {
            "marker": {
             "colorbar": {
              "outlinewidth": 0,
              "ticks": ""
             }
            },
            "type": "scatterpolargl"
           }
          ],
          "scatterternary": [
           {
            "marker": {
             "colorbar": {
              "outlinewidth": 0,
              "ticks": ""
             }
            },
            "type": "scatterternary"
           }
          ],
          "surface": [
           {
            "colorbar": {
             "outlinewidth": 0,
             "ticks": ""
            },
            "colorscale": [
             [
              0,
              "#0d0887"
             ],
             [
              0.1111111111111111,
              "#46039f"
             ],
             [
              0.2222222222222222,
              "#7201a8"
             ],
             [
              0.3333333333333333,
              "#9c179e"
             ],
             [
              0.4444444444444444,
              "#bd3786"
             ],
             [
              0.5555555555555556,
              "#d8576b"
             ],
             [
              0.6666666666666666,
              "#ed7953"
             ],
             [
              0.7777777777777778,
              "#fb9f3a"
             ],
             [
              0.8888888888888888,
              "#fdca26"
             ],
             [
              1,
              "#f0f921"
             ]
            ],
            "type": "surface"
           }
          ],
          "table": [
           {
            "cells": {
             "fill": {
              "color": "#EBF0F8"
             },
             "line": {
              "color": "white"
             }
            },
            "header": {
             "fill": {
              "color": "#C8D4E3"
             },
             "line": {
              "color": "white"
             }
            },
            "type": "table"
           }
          ]
         },
         "layout": {
          "annotationdefaults": {
           "arrowcolor": "#2a3f5f",
           "arrowhead": 0,
           "arrowwidth": 1
          },
          "autotypenumbers": "strict",
          "coloraxis": {
           "colorbar": {
            "outlinewidth": 0,
            "ticks": ""
           }
          },
          "colorscale": {
           "diverging": [
            [
             0,
             "#8e0152"
            ],
            [
             0.1,
             "#c51b7d"
            ],
            [
             0.2,
             "#de77ae"
            ],
            [
             0.3,
             "#f1b6da"
            ],
            [
             0.4,
             "#fde0ef"
            ],
            [
             0.5,
             "#f7f7f7"
            ],
            [
             0.6,
             "#e6f5d0"
            ],
            [
             0.7,
             "#b8e186"
            ],
            [
             0.8,
             "#7fbc41"
            ],
            [
             0.9,
             "#4d9221"
            ],
            [
             1,
             "#276419"
            ]
           ],
           "sequential": [
            [
             0,
             "#0d0887"
            ],
            [
             0.1111111111111111,
             "#46039f"
            ],
            [
             0.2222222222222222,
             "#7201a8"
            ],
            [
             0.3333333333333333,
             "#9c179e"
            ],
            [
             0.4444444444444444,
             "#bd3786"
            ],
            [
             0.5555555555555556,
             "#d8576b"
            ],
            [
             0.6666666666666666,
             "#ed7953"
            ],
            [
             0.7777777777777778,
             "#fb9f3a"
            ],
            [
             0.8888888888888888,
             "#fdca26"
            ],
            [
             1,
             "#f0f921"
            ]
           ],
           "sequentialminus": [
            [
             0,
             "#0d0887"
            ],
            [
             0.1111111111111111,
             "#46039f"
            ],
            [
             0.2222222222222222,
             "#7201a8"
            ],
            [
             0.3333333333333333,
             "#9c179e"
            ],
            [
             0.4444444444444444,
             "#bd3786"
            ],
            [
             0.5555555555555556,
             "#d8576b"
            ],
            [
             0.6666666666666666,
             "#ed7953"
            ],
            [
             0.7777777777777778,
             "#fb9f3a"
            ],
            [
             0.8888888888888888,
             "#fdca26"
            ],
            [
             1,
             "#f0f921"
            ]
           ]
          },
          "colorway": [
           "#636efa",
           "#EF553B",
           "#00cc96",
           "#ab63fa",
           "#FFA15A",
           "#19d3f3",
           "#FF6692",
           "#B6E880",
           "#FF97FF",
           "#FECB52"
          ],
          "font": {
           "color": "#2a3f5f"
          },
          "geo": {
           "bgcolor": "white",
           "lakecolor": "white",
           "landcolor": "#E5ECF6",
           "showlakes": true,
           "showland": true,
           "subunitcolor": "white"
          },
          "hoverlabel": {
           "align": "left"
          },
          "hovermode": "closest",
          "mapbox": {
           "style": "light"
          },
          "paper_bgcolor": "white",
          "plot_bgcolor": "#E5ECF6",
          "polar": {
           "angularaxis": {
            "gridcolor": "white",
            "linecolor": "white",
            "ticks": ""
           },
           "bgcolor": "#E5ECF6",
           "radialaxis": {
            "gridcolor": "white",
            "linecolor": "white",
            "ticks": ""
           }
          },
          "scene": {
           "xaxis": {
            "backgroundcolor": "#E5ECF6",
            "gridcolor": "white",
            "gridwidth": 2,
            "linecolor": "white",
            "showbackground": true,
            "ticks": "",
            "zerolinecolor": "white"
           },
           "yaxis": {
            "backgroundcolor": "#E5ECF6",
            "gridcolor": "white",
            "gridwidth": 2,
            "linecolor": "white",
            "showbackground": true,
            "ticks": "",
            "zerolinecolor": "white"
           },
           "zaxis": {
            "backgroundcolor": "#E5ECF6",
            "gridcolor": "white",
            "gridwidth": 2,
            "linecolor": "white",
            "showbackground": true,
            "ticks": "",
            "zerolinecolor": "white"
           }
          },
          "shapedefaults": {
           "line": {
            "color": "#2a3f5f"
           }
          },
          "ternary": {
           "aaxis": {
            "gridcolor": "white",
            "linecolor": "white",
            "ticks": ""
           },
           "baxis": {
            "gridcolor": "white",
            "linecolor": "white",
            "ticks": ""
           },
           "bgcolor": "#E5ECF6",
           "caxis": {
            "gridcolor": "white",
            "linecolor": "white",
            "ticks": ""
           }
          },
          "title": {
           "x": 0.05
          },
          "xaxis": {
           "automargin": true,
           "gridcolor": "white",
           "linecolor": "white",
           "ticks": "",
           "title": {
            "standoff": 15
           },
           "zerolinecolor": "white",
           "zerolinewidth": 2
          },
          "yaxis": {
           "automargin": true,
           "gridcolor": "white",
           "linecolor": "white",
           "ticks": "",
           "title": {
            "standoff": 15
           },
           "zerolinecolor": "white",
           "zerolinewidth": 2
          }
         }
        },
        "title": {
         "text": "Analisi Correlazione tra Strategie di Trading"
        },
        "xaxis": {
         "anchor": "y",
         "domain": [
          0,
          0.45
         ]
        },
        "xaxis2": {
         "anchor": "y2",
         "domain": [
          0.55,
          1
         ],
         "title": {
          "text": "Correlazione"
         }
        },
        "yaxis": {
         "anchor": "x",
         "domain": [
          0,
          1
         ]
        },
        "yaxis2": {
         "anchor": "x2",
         "domain": [
          0,
          1
         ],
         "title": {
          "text": "Frequenza"
         }
        }
       }
      }
     },
     "metadata": {},
     "output_type": "display_data"
    },
    {
     "name": "stdout",
     "output_type": "stream",
     "text": [
      "\n",
      "📊 STRATEGIE CON CORRELAZIONE MEDIA PIÙ ALTA:\n",
      "   GBPCHF_1440_01: 0.139\n",
      "   GBPCHF_7200_02: 0.129\n",
      "   GBPCHF_14D_1: 0.126\n",
      "   GBPUSD_1440_01: 0.121\n",
      "   GBPUSD_7200_02: 0.118\n",
      "\n",
      "📊 STRATEGIE CON CORRELAZIONE MEDIA PIÙ BASSA:\n",
      "   USDCAD_1440_01: 0.076\n",
      "   AUDNZD_1440_01: 0.073\n",
      "   USDCAD_14D_1: 0.068\n",
      "   AUDNZD_7200_02: 0.063\n",
      "   AUDNZD_14D_1: 0.056\n"
     ]
    }
   ],
   "source": [
    "# Calcolo matrice di correlazione e visualizzazione\n",
    "correlation_matrix = returns_df.corr()\n",
    "corr_values = correlation_matrix.values\n",
    "upper_triangle = np.triu(corr_values, k=1)\n",
    "non_zero_corr = upper_triangle[upper_triangle != 0]\n",
    "print(f\"📈 STATISTICHE CORRELAZIONE:\")\n",
    "print(f\"   Correlazione media: {np.mean(non_zero_corr):.3f}\")\n",
    "print(f\"   Correlazione mediana: {np.median(non_zero_corr):.3f}\")\n",
    "print(f\"   Correlazione min: {np.min(non_zero_corr):.3f}\")\n",
    "print(f\"   Correlazione max: {np.max(non_zero_corr):.3f}\")\n",
    "print(f\"   Deviazione standard: {np.std(non_zero_corr):.3f}\")\n",
    "high_corr_threshold = 0.8\n",
    "high_corr_pairs = []\n",
    "for i in range(len(correlation_matrix.columns)):\n",
    "    for j in range(i+1, len(correlation_matrix.columns)):\n",
    "        corr_value = correlation_matrix.iloc[i, j]\n",
    "        if abs(corr_value) > high_corr_threshold:\n",
    "            high_corr_pairs.append((correlation_matrix.columns[i], correlation_matrix.columns[j], corr_value))\n",
    "print(f\"\\n🚨 COPPIE AD ALTA CORRELAZIONE (|r| > {high_corr_threshold}):\")\n",
    "if high_corr_pairs:\n",
    "    for pair1, pair2, corr in high_corr_pairs:\n",
    "        print(f\"   {pair1} ↔ {pair2}: {corr:.3f}\")\n",
    "else:\n",
    "    print(\"   Nessuna coppia con correlazione superiore alla soglia\")\n",
    "fig_corr = make_subplots(\n",
    "    rows=1, cols=2,\n",
    "    subplot_titles=(\"Matrice di Correlazione\", \"Distribuzione Correlazioni\"),\n",
    "    specs=[[{\"type\": \"heatmap\"}, {\"type\": \"histogram\"}]],\n",
    "    horizontal_spacing=0.1\n",
    ")\n",
    "fig_corr.add_trace(\n",
    "    go.Heatmap(\n",
    "        z=correlation_matrix.values,\n",
    "        x=correlation_matrix.columns,\n",
    "        y=correlation_matrix.columns,\n",
    "        colorscale='RdBu',\n",
    "        zmid=0,\n",
    "        text=np.round(correlation_matrix.values, 2),\n",
    "        texttemplate=\"%{text}\",\n",
    "        textfont={\"size\": 8},\n",
    "        colorbar=dict(title=\"Correlazione\", x=0.45)\n",
    "    ),\n",
    "    row=1, col=1\n",
    ")\n",
    "fig_corr.add_trace(\n",
    "    go.Histogram(\n",
    "        x=non_zero_corr,\n",
    "        nbinsx=30,\n",
    "        name=\"Distribuzione Correlazioni\",\n",
    "        marker=dict(color='skyblue', opacity=0.7)\n",
    "    ),\n",
    "    row=1, col=2\n",
    ")\n",
    "fig_corr.add_vline(\n",
    "    x=np.mean(non_zero_corr), \n",
    "    line_dash=\"dash\", \n",
    "    line_color=\"red\",\n",
    "    annotation_text=f\"Media: {np.mean(non_zero_corr):.3f}\",\n",
    "    row=1, col=2\n",
    ")\n",
    "fig_corr.add_vline(\n",
    "    x=np.median(non_zero_corr), \n",
    "    line_dash=\"dash\", \n",
    "    line_color=\"green\",\n",
    "    annotation_text=f\"Mediana: {np.median(non_zero_corr):.3f}\",\n",
    "    row=1, col=2\n",
    ")\n",
    "fig_corr.update_layout(\n",
    "    title=\"Analisi Correlazione tra Strategie di Trading\",\n",
    "    height=600,\n",
    "    showlegend=False\n",
    ")\n",
    "fig_corr.update_xaxes(title_text=\"Correlazione\", row=1, col=2)\n",
    "fig_corr.update_yaxes(title_text=\"Frequenza\", row=1, col=2)\n",
    "fig_corr.show()\n",
    "mean_corr_per_strategy = correlation_matrix.mean().sort_values(ascending=False)\n",
    "print(f\"\\n📊 STRATEGIE CON CORRELAZIONE MEDIA PIÙ ALTA:\")\n",
    "for strategy, avg_corr in mean_corr_per_strategy.head(5).items():\n",
    "    print(f\"   {strategy}: {avg_corr:.3f}\")\n",
    "print(f\"\\n📊 STRATEGIE CON CORRELAZIONE MEDIA PIÙ BASSA:\")\n",
    "for strategy, avg_corr in mean_corr_per_strategy.tail(5).items():\n",
    "    print(f\"   {strategy}: {avg_corr:.3f}\")"
   ]
  },
  {
   "cell_type": "markdown",
   "id": "b062789b",
   "metadata": {},
   "source": [
    "# Sezione 4: Analisi delle Componenti Principali (PCA)\n",
    "Questa sezione esegue la PCA sui rendimenti delle strategie, analizza la varianza spiegata, visualizza scree plot e biplot, e interpreta il livello di collinearità."
   ]
  },
  {
   "cell_type": "code",
   "execution_count": 4,
   "id": "65cc9455",
   "metadata": {},
   "outputs": [
    {
     "name": "stdout",
     "output_type": "stream",
     "text": [
      "📊 RISULTATI PCA:\n",
      "   Componenti totali: 28\n",
      "   Componenti per 80% varianza: 18\n",
      "   Componenti per 90% varianza: 23\n",
      "   Componenti per 95% varianza: 25\n",
      "   Riduzione dimensionalità: 10.7%\n",
      "\n",
      "🎯 TOP 5 COMPONENTI PRINCIPALI:\n",
      "\n",
      "   Componente 1 (spiega 10.4% della varianza):\n",
      "     GBPCHF_1440_01: 0.330\n",
      "     GBPCHF_7200_02: 0.318\n",
      "     GBPCHF_14D_1: 0.303\n",
      "\n",
      "   Componente 2 (spiega 7.1% della varianza):\n",
      "     GBPCHF_14D_1: 0.337\n",
      "     EURGBP_14D_1: 0.308\n",
      "     USDCAD_7200_02: -0.295\n",
      "\n",
      "   Componente 3 (spiega 6.6% della varianza):\n",
      "     AUDJPY_7200_02: 0.443\n",
      "     NZDJPY_7200_02: 0.345\n",
      "     AUDNZD_7200_02: 0.334\n",
      "\n",
      "   Componente 4 (spiega 5.7% della varianza):\n",
      "     EURCHF_14D_1: 0.391\n",
      "     EURCHF_7200_02: 0.351\n",
      "     EURGBP_1440_01: -0.325\n",
      "\n",
      "   Componente 5 (spiega 5.4% della varianza):\n",
      "     EURCHF_1440_01: 0.333\n",
      "     USDCAD_14D_1: -0.319\n",
      "     EURCHF_7200_02: 0.317\n"
     ]
    },
    {
     "data": {
      "application/vnd.plotly.v1+json": {
       "config": {
        "plotlyServerURL": "https://plot.ly"
       },
       "data": [
        {
         "marker": {
          "color": "skyblue"
         },
         "name": "Varianza Spiegata",
         "type": "bar",
         "x": [
          1,
          2,
          3,
          4,
          5,
          6,
          7,
          8,
          9,
          10,
          11,
          12,
          13,
          14,
          15,
          16,
          17,
          18,
          19,
          20
         ],
         "xaxis": "x",
         "y": {
          "bdata": "hdCkgRmvuj/ctskJ5UKyP4tV2wf11rA/L3ojDtwfrT/Njl20GNarP4yyqMXvbao/y/8/lo95pz8GIi16SxCmP0avkWM8vaQ/Q93XjLqLoj+im5tjjKyhP492vtbZ+KA/glC2D9cRoD9SQ/+lv1qfPzqbdVuaCJ4/uQ7f8OkKnD89AymnrymbP0H3dpZjJ5o/yVMzBw9imD/PCDx59nKXPw==",
          "dtype": "f8"
         },
         "yaxis": "y"
        },
        {
         "line": {
          "color": "red",
          "width": 2
         },
         "mode": "lines+markers",
         "name": "Varianza Cumulativa",
         "type": "scatter",
         "x": [
          1,
          2,
          3,
          4,
          5,
          6,
          7,
          8,
          9,
          10,
          11,
          12,
          13,
          14,
          15,
          16,
          17,
          18,
          19,
          20
         ],
         "xaxis": "x2",
         "y": {
          "bdata": "hdCkgRmvuj+wQ7dF/3jGP3bupMl55M4/geaWZjgW0z9bmCJ9+5DWP6yu13W53tk/pa6faOvN3D/mUuXX9I/fP2fEKzLOE+E/O0L52ok84j/1+zKhUlfjP17jnj7gZuQ/Zkiar/1n5T+BQsqs02LmP1vvpX8YU+c/0ecsz28z6D/rL2ZMvQzpP6XnGWn43ek/Q4JT4Qih6j+JYh2VoFzrPw==",
          "dtype": "f8"
         },
         "yaxis": "y2"
        },
        {
         "line": {
          "color": "darkgreen",
          "width": 2
         },
         "mode": "lines+markers",
         "name": "Scree Plot",
         "type": "scatter",
         "x": [
          1,
          2,
          3,
          4,
          5,
          6,
          7,
          8,
          9,
          10,
          11,
          12,
          13,
          14,
          15,
          16,
          17,
          18,
          19,
          20
         ],
         "xaxis": "x3",
         "y": {
          "bdata": "hdCkgRmvuj/ctskJ5UKyP4tV2wf11rA/L3ojDtwfrT/Njl20GNarP4yyqMXvbao/y/8/lo95pz8GIi16SxCmP0avkWM8vaQ/Q93XjLqLoj+im5tjjKyhP492vtbZ+KA/glC2D9cRoD9SQ/+lv1qfPzqbdVuaCJ4/uQ7f8OkKnD89AymnrymbP0H3dpZjJ5o/yVMzBw9imD/PCDx59nKXPw==",
          "dtype": "f8"
         },
         "yaxis": "y3"
        },
        {
         "marker": {
          "color": "red",
          "size": 8
         },
         "mode": "markers+text",
         "name": "Strategie (PC1 vs PC2)",
         "text": [
          "AUDJPY_14D_1",
          "EURGBP_14D_1",
          "AUDNZD_14D_1",
          "USDCHF_1440_01",
          "EURGBP_7200_02",
          "EURUSD_7200_02",
          "GBPUSD_1440_01",
          "USDCAD_1440_01",
          "GBPUSD_7200_02",
          "GBPCHF_1440_01",
          "EURUSD_1440_01",
          "GBPUSD_14D_1",
          "GBPCHF_7200_02",
          "GBPCHF_14D_1",
          "AUDJPY_1440_01",
          "AUDJPY_7200_02",
          "EURCHF_14D_1",
          "EURCHF_1440_01",
          "USDCHF_7200_02",
          "EURUSD_14D_1",
          "NZDJPY_7200_02",
          "USDCAD_7200_02",
          "USDCAD_14D_1",
          "EURCHF_7200_02",
          "USDCHF_14D_1",
          "AUDNZD_7200_02",
          "EURGBP_1440_01",
          "AUDNZD_1440_01"
         ],
         "textposition": "top center",
         "type": "scatter",
         "x": {
          "bdata": "QT08kqgxwj/oBNNZ9/bJP9Md0d9qF4E/ztazs/b9xj9KaiShJNLQP34yBIFaYss/O/kl47CF0T9/DUd/BWu3P/T0dtYFAdA/prGZ9Z4c1T8c9ZtusADJP930JksnrsQ/x0txZyFb1D9tfw/oO2vTP3O1cdkcprM/gnAfmgPdvD9irYNi18LGPy2qJTi5u8M/0CSAdUFOxj/u1i5QcpfDP25731Ph7LY/ngMBgIprvD8FaGBdrsixP6B8qg8VLsY/XnJEgAPnwD/AXBamONJrP4ncAYxin9E/GlAUcJ1PrD8=",
          "dtype": "f8"
         },
         "xaxis": "x4",
         "y": {
          "bdata": "wHTP4ekJpb8qe+vAmrvTPyMO/m9fM5S/1KMw50cs0b+gFwlB3tjRP/7VqfHeItK/Wk178Dc0wL9A573iyi7OvwNQ7KuolsO/YJiYK+QewT+Epbb7ZADSv6hOnnMBasC/BMFOEafgzj9qGhce4JbVP1PZcW+NssK/8p8gU1QUwb+WeKBesNm2P99+Ipe466c/yX2BBnIoy7/cYp88jZjEvw+7DUjGqba/pgFxsefk0r/gTt6voxnFv6Q7ssLZ1q0/oE6OAPaRf7+IcLW/m1+8vznxBZRlyMI/IhhlfPLPvL8=",
          "dtype": "f8"
         },
         "yaxis": "y4"
        }
       ],
       "layout": {
        "annotations": [
         {
          "font": {
           "size": 16
          },
          "showarrow": false,
          "text": "Varianza Spiegata per Componente",
          "x": 0.225,
          "xanchor": "center",
          "xref": "paper",
          "y": 1,
          "yanchor": "bottom",
          "yref": "paper"
         },
         {
          "font": {
           "size": 16
          },
          "showarrow": false,
          "text": "Varianza Cumulativa",
          "x": 0.775,
          "xanchor": "center",
          "xref": "paper",
          "y": 1,
          "yanchor": "bottom",
          "yref": "paper"
         },
         {
          "font": {
           "size": 16
          },
          "showarrow": false,
          "text": "Scree Plot",
          "x": 0.225,
          "xanchor": "center",
          "xref": "paper",
          "y": 0.45,
          "yanchor": "bottom",
          "yref": "paper"
         },
         {
          "font": {
           "size": 16
          },
          "showarrow": false,
          "text": "Biplot PC1 vs PC2",
          "x": 0.775,
          "xanchor": "center",
          "xref": "paper",
          "y": 0.45,
          "yanchor": "bottom",
          "yref": "paper"
         },
         {
          "showarrow": false,
          "text": "80%",
          "x": 1,
          "xanchor": "right",
          "xref": "x2 domain",
          "y": 0.8,
          "yanchor": "bottom",
          "yref": "y2"
         },
         {
          "showarrow": false,
          "text": "90%",
          "x": 1,
          "xanchor": "right",
          "xref": "x2 domain",
          "y": 0.9,
          "yanchor": "bottom",
          "yref": "y2"
         },
         {
          "showarrow": false,
          "text": "95%",
          "x": 1,
          "xanchor": "right",
          "xref": "x2 domain",
          "y": 0.95,
          "yanchor": "bottom",
          "yref": "y2"
         },
         {
          "arrowcolor": "blue",
          "arrowhead": 2,
          "arrowsize": 1,
          "arrowwidth": 2,
          "ax": 0,
          "ay": 0,
          "x": 0.14214045658489208,
          "xref": "x4",
          "y": -0.041091259779685085,
          "yref": "y4"
         },
         {
          "arrowcolor": "blue",
          "arrowhead": 2,
          "arrowsize": 1,
          "arrowwidth": 2,
          "ax": 0,
          "ay": 0,
          "x": 0.20284931074096524,
          "xref": "x4",
          "y": 0.30832547035054125,
          "yref": "y4"
         },
         {
          "arrowcolor": "blue",
          "arrowhead": 2,
          "arrowsize": 1,
          "arrowwidth": 2,
          "ax": 0,
          "ay": 0,
          "x": 0.1796253564313503,
          "xref": "x4",
          "y": -0.26832768990658207,
          "yref": "y4"
         },
         {
          "arrowcolor": "blue",
          "arrowhead": 2,
          "arrowsize": 1,
          "arrowwidth": 2,
          "ax": 0,
          "ay": 0,
          "x": 0.26282611595675986,
          "xref": "x4",
          "y": 0.27886158324360544,
          "yref": "y4"
         },
         {
          "arrowcolor": "blue",
          "arrowhead": 2,
          "arrowsize": 1,
          "arrowwidth": 2,
          "ax": 0,
          "ay": 0,
          "x": 0.21393901157025036,
          "xref": "x4",
          "y": -0.28337834930366046,
          "yref": "y4"
         },
         {
          "arrowcolor": "blue",
          "arrowhead": 2,
          "arrowsize": 1,
          "arrowwidth": 2,
          "ax": 0,
          "ay": 0,
          "x": 0.2737848489995433,
          "xref": "x4",
          "y": -0.12659358255641956,
          "yref": "y4"
         },
         {
          "arrowcolor": "blue",
          "arrowhead": 2,
          "arrowsize": 1,
          "arrowwidth": 2,
          "ax": 0,
          "ay": 0,
          "x": 0.09147676808702519,
          "xref": "x4",
          "y": -0.23580299445512232,
          "yref": "y4"
         },
         {
          "arrowcolor": "blue",
          "arrowhead": 2,
          "arrowsize": 1,
          "arrowwidth": 2,
          "ax": 0,
          "ay": 0,
          "x": 0.25006242698493897,
          "xref": "x4",
          "y": -0.15303524393732468,
          "yref": "y4"
         },
         {
          "arrowcolor": "blue",
          "arrowhead": 2,
          "arrowsize": 1,
          "arrowwidth": 2,
          "ax": 0,
          "ay": 0,
          "x": 0.3298718832436641,
          "xref": "x4",
          "y": 0.133755227362772,
          "yref": "y4"
         },
         {
          "arrowcolor": "blue",
          "arrowhead": 2,
          "arrowsize": 1,
          "arrowwidth": 2,
          "ax": 0,
          "ay": 0,
          "x": 0.1953335323413875,
          "xref": "x4",
          "y": -0.28127407628434065,
          "yref": "y4"
         },
         {
          "arrowcolor": "blue",
          "arrowhead": 2,
          "arrowsize": 1,
          "arrowwidth": 2,
          "ax": 0,
          "ay": 0,
          "x": 0.16156474275150048,
          "xref": "x4",
          "y": -0.1282350363295468,
          "yref": "y4"
         },
         {
          "arrowcolor": "blue",
          "arrowhead": 2,
          "arrowsize": 1,
          "arrowwidth": 2,
          "ax": 0,
          "ay": 0,
          "x": 0.318062163370254,
          "xref": "x4",
          "y": 0.2412308535108495,
          "yref": "y4"
         },
         {
          "arrowcolor": "blue",
          "arrowhead": 2,
          "arrowsize": 1,
          "arrowwidth": 2,
          "ax": 0,
          "ay": 0,
          "x": 0.3034200445381348,
          "xref": "x4",
          "y": 0.33733370722294487,
          "yref": "y4"
         },
         {
          "arrowcolor": "blue",
          "arrowhead": 2,
          "arrowsize": 1,
          "arrowwidth": 2,
          "ax": 0,
          "ay": 0,
          "x": 0.07675342854209592,
          "xref": "x4",
          "y": -0.14607398931156954,
          "yref": "y4"
         },
         {
          "arrowcolor": "blue",
          "arrowhead": 2,
          "arrowsize": 1,
          "arrowwidth": 2,
          "ax": 0,
          "ay": 0,
          "x": 0.11274740708125999,
          "xref": "x4",
          "y": -0.13343290385205325,
          "yref": "y4"
         },
         {
          "arrowcolor": "blue",
          "arrowhead": 2,
          "arrowsize": 1,
          "arrowwidth": 2,
          "ax": 0,
          "ay": 0,
          "x": 0.17782108602782914,
          "xref": "x4",
          "y": 0.08925916967607103,
          "yref": "y4"
         },
         {
          "arrowcolor": "blue",
          "arrowhead": 2,
          "arrowsize": 1,
          "arrowwidth": 2,
          "ax": 0,
          "ay": 0,
          "x": 0.15416636697348576,
          "xref": "x4",
          "y": 0.04672028393656346,
          "yref": "y4"
         },
         {
          "arrowcolor": "blue",
          "arrowhead": 2,
          "arrowsize": 1,
          "arrowwidth": 2,
          "ax": 0,
          "ay": 0,
          "x": 0.17426317441303363,
          "xref": "x4",
          "y": -0.2121717960135199,
          "yref": "y4"
         },
         {
          "arrowcolor": "blue",
          "arrowhead": 2,
          "arrowsize": 1,
          "arrowwidth": 2,
          "ax": 0,
          "ay": 0,
          "x": 0.15305928149398745,
          "xref": "x4",
          "y": -0.16090550861442565,
          "yref": "y4"
         },
         {
          "arrowcolor": "blue",
          "arrowhead": 2,
          "arrowsize": 1,
          "arrowwidth": 2,
          "ax": 0,
          "ay": 0,
          "x": 0.11101594567391124,
          "xref": "x4",
          "y": -0.2952212555719832,
          "yref": "y4"
         },
         {
          "arrowcolor": "blue",
          "arrowhead": 2,
          "arrowsize": 1,
          "arrowwidth": 2,
          "ax": 0,
          "ay": 0,
          "x": 0.06946840076162182,
          "xref": "x4",
          "y": -0.16484495246242314,
          "yref": "y4"
         },
         {
          "arrowcolor": "blue",
          "arrowhead": 2,
          "arrowsize": 1,
          "arrowwidth": 2,
          "ax": 0,
          "ay": 0,
          "x": 0.1732813192838636,
          "xref": "x4",
          "y": 0.058279805199269036,
          "yref": "y4"
         },
         {
          "arrowcolor": "blue",
          "arrowhead": 2,
          "arrowsize": 1,
          "arrowwidth": 2,
          "ax": 0,
          "ay": 0,
          "x": 0.13204997790389233,
          "xref": "x4",
          "y": -0.007707558580381552,
          "yref": "y4"
         },
         {
          "arrowcolor": "blue",
          "arrowhead": 2,
          "arrowsize": 1,
          "arrowwidth": 2,
          "ax": 0,
          "ay": 0,
          "x": 0.003396139757295552,
          "xref": "x4",
          "y": -0.11083386831654896,
          "yref": "y4"
         },
         {
          "arrowcolor": "blue",
          "arrowhead": 2,
          "arrowsize": 1,
          "arrowwidth": 2,
          "ax": 0,
          "ay": 0,
          "x": 0.27535308525643437,
          "xref": "x4",
          "y": 0.1467406246919241,
          "yref": "y4"
         },
         {
          "arrowcolor": "blue",
          "arrowhead": 2,
          "arrowsize": 1,
          "arrowwidth": 2,
          "ax": 0,
          "ay": 0,
          "x": 0.0552949141803369,
          "xref": "x4",
          "y": -0.11254802262291766,
          "yref": "y4"
         }
        ],
        "height": 800,
        "shapes": [
         {
          "line": {
           "color": "orange",
           "dash": "dash"
          },
          "type": "line",
          "x0": 0,
          "x1": 1,
          "xref": "x2 domain",
          "y0": 0.8,
          "y1": 0.8,
          "yref": "y2"
         },
         {
          "line": {
           "color": "green",
           "dash": "dash"
          },
          "type": "line",
          "x0": 0,
          "x1": 1,
          "xref": "x2 domain",
          "y0": 0.9,
          "y1": 0.9,
          "yref": "y2"
         },
         {
          "line": {
           "color": "purple",
           "dash": "dash"
          },
          "type": "line",
          "x0": 0,
          "x1": 1,
          "xref": "x2 domain",
          "y0": 0.95,
          "y1": 0.95,
          "yref": "y2"
         }
        ],
        "showlegend": false,
        "template": {
         "data": {
          "bar": [
           {
            "error_x": {
             "color": "#2a3f5f"
            },
            "error_y": {
             "color": "#2a3f5f"
            },
            "marker": {
             "line": {
              "color": "#E5ECF6",
              "width": 0.5
             },
             "pattern": {
              "fillmode": "overlay",
              "size": 10,
              "solidity": 0.2
             }
            },
            "type": "bar"
           }
          ],
          "barpolar": [
           {
            "marker": {
             "line": {
              "color": "#E5ECF6",
              "width": 0.5
             },
             "pattern": {
              "fillmode": "overlay",
              "size": 10,
              "solidity": 0.2
             }
            },
            "type": "barpolar"
           }
          ],
          "carpet": [
           {
            "aaxis": {
             "endlinecolor": "#2a3f5f",
             "gridcolor": "white",
             "linecolor": "white",
             "minorgridcolor": "white",
             "startlinecolor": "#2a3f5f"
            },
            "baxis": {
             "endlinecolor": "#2a3f5f",
             "gridcolor": "white",
             "linecolor": "white",
             "minorgridcolor": "white",
             "startlinecolor": "#2a3f5f"
            },
            "type": "carpet"
           }
          ],
          "choropleth": [
           {
            "colorbar": {
             "outlinewidth": 0,
             "ticks": ""
            },
            "type": "choropleth"
           }
          ],
          "contour": [
           {
            "colorbar": {
             "outlinewidth": 0,
             "ticks": ""
            },
            "colorscale": [
             [
              0,
              "#0d0887"
             ],
             [
              0.1111111111111111,
              "#46039f"
             ],
             [
              0.2222222222222222,
              "#7201a8"
             ],
             [
              0.3333333333333333,
              "#9c179e"
             ],
             [
              0.4444444444444444,
              "#bd3786"
             ],
             [
              0.5555555555555556,
              "#d8576b"
             ],
             [
              0.6666666666666666,
              "#ed7953"
             ],
             [
              0.7777777777777778,
              "#fb9f3a"
             ],
             [
              0.8888888888888888,
              "#fdca26"
             ],
             [
              1,
              "#f0f921"
             ]
            ],
            "type": "contour"
           }
          ],
          "contourcarpet": [
           {
            "colorbar": {
             "outlinewidth": 0,
             "ticks": ""
            },
            "type": "contourcarpet"
           }
          ],
          "heatmap": [
           {
            "colorbar": {
             "outlinewidth": 0,
             "ticks": ""
            },
            "colorscale": [
             [
              0,
              "#0d0887"
             ],
             [
              0.1111111111111111,
              "#46039f"
             ],
             [
              0.2222222222222222,
              "#7201a8"
             ],
             [
              0.3333333333333333,
              "#9c179e"
             ],
             [
              0.4444444444444444,
              "#bd3786"
             ],
             [
              0.5555555555555556,
              "#d8576b"
             ],
             [
              0.6666666666666666,
              "#ed7953"
             ],
             [
              0.7777777777777778,
              "#fb9f3a"
             ],
             [
              0.8888888888888888,
              "#fdca26"
             ],
             [
              1,
              "#f0f921"
             ]
            ],
            "type": "heatmap"
           }
          ],
          "histogram": [
           {
            "marker": {
             "pattern": {
              "fillmode": "overlay",
              "size": 10,
              "solidity": 0.2
             }
            },
            "type": "histogram"
           }
          ],
          "histogram2d": [
           {
            "colorbar": {
             "outlinewidth": 0,
             "ticks": ""
            },
            "colorscale": [
             [
              0,
              "#0d0887"
             ],
             [
              0.1111111111111111,
              "#46039f"
             ],
             [
              0.2222222222222222,
              "#7201a8"
             ],
             [
              0.3333333333333333,
              "#9c179e"
             ],
             [
              0.4444444444444444,
              "#bd3786"
             ],
             [
              0.5555555555555556,
              "#d8576b"
             ],
             [
              0.6666666666666666,
              "#ed7953"
             ],
             [
              0.7777777777777778,
              "#fb9f3a"
             ],
             [
              0.8888888888888888,
              "#fdca26"
             ],
             [
              1,
              "#f0f921"
             ]
            ],
            "type": "histogram2d"
           }
          ],
          "histogram2dcontour": [
           {
            "colorbar": {
             "outlinewidth": 0,
             "ticks": ""
            },
            "colorscale": [
             [
              0,
              "#0d0887"
             ],
             [
              0.1111111111111111,
              "#46039f"
             ],
             [
              0.2222222222222222,
              "#7201a8"
             ],
             [
              0.3333333333333333,
              "#9c179e"
             ],
             [
              0.4444444444444444,
              "#bd3786"
             ],
             [
              0.5555555555555556,
              "#d8576b"
             ],
             [
              0.6666666666666666,
              "#ed7953"
             ],
             [
              0.7777777777777778,
              "#fb9f3a"
             ],
             [
              0.8888888888888888,
              "#fdca26"
             ],
             [
              1,
              "#f0f921"
             ]
            ],
            "type": "histogram2dcontour"
           }
          ],
          "mesh3d": [
           {
            "colorbar": {
             "outlinewidth": 0,
             "ticks": ""
            },
            "type": "mesh3d"
           }
          ],
          "parcoords": [
           {
            "line": {
             "colorbar": {
              "outlinewidth": 0,
              "ticks": ""
             }
            },
            "type": "parcoords"
           }
          ],
          "pie": [
           {
            "automargin": true,
            "type": "pie"
           }
          ],
          "scatter": [
           {
            "fillpattern": {
             "fillmode": "overlay",
             "size": 10,
             "solidity": 0.2
            },
            "type": "scatter"
           }
          ],
          "scatter3d": [
           {
            "line": {
             "colorbar": {
              "outlinewidth": 0,
              "ticks": ""
             }
            },
            "marker": {
             "colorbar": {
              "outlinewidth": 0,
              "ticks": ""
             }
            },
            "type": "scatter3d"
           }
          ],
          "scattercarpet": [
           {
            "marker": {
             "colorbar": {
              "outlinewidth": 0,
              "ticks": ""
             }
            },
            "type": "scattercarpet"
           }
          ],
          "scattergeo": [
           {
            "marker": {
             "colorbar": {
              "outlinewidth": 0,
              "ticks": ""
             }
            },
            "type": "scattergeo"
           }
          ],
          "scattergl": [
           {
            "marker": {
             "colorbar": {
              "outlinewidth": 0,
              "ticks": ""
             }
            },
            "type": "scattergl"
           }
          ],
          "scattermap": [
           {
            "marker": {
             "colorbar": {
              "outlinewidth": 0,
              "ticks": ""
             }
            },
            "type": "scattermap"
           }
          ],
          "scattermapbox": [
           {
            "marker": {
             "colorbar": {
              "outlinewidth": 0,
              "ticks": ""
             }
            },
            "type": "scattermapbox"
           }
          ],
          "scatterpolar": [
           {
            "marker": {
             "colorbar": {
              "outlinewidth": 0,
              "ticks": ""
             }
            },
            "type": "scatterpolar"
           }
          ],
          "scatterpolargl": [
           {
            "marker": {
             "colorbar": {
              "outlinewidth": 0,
              "ticks": ""
             }
            },
            "type": "scatterpolargl"
           }
          ],
          "scatterternary": [
           {
            "marker": {
             "colorbar": {
              "outlinewidth": 0,
              "ticks": ""
             }
            },
            "type": "scatterternary"
           }
          ],
          "surface": [
           {
            "colorbar": {
             "outlinewidth": 0,
             "ticks": ""
            },
            "colorscale": [
             [
              0,
              "#0d0887"
             ],
             [
              0.1111111111111111,
              "#46039f"
             ],
             [
              0.2222222222222222,
              "#7201a8"
             ],
             [
              0.3333333333333333,
              "#9c179e"
             ],
             [
              0.4444444444444444,
              "#bd3786"
             ],
             [
              0.5555555555555556,
              "#d8576b"
             ],
             [
              0.6666666666666666,
              "#ed7953"
             ],
             [
              0.7777777777777778,
              "#fb9f3a"
             ],
             [
              0.8888888888888888,
              "#fdca26"
             ],
             [
              1,
              "#f0f921"
             ]
            ],
            "type": "surface"
           }
          ],
          "table": [
           {
            "cells": {
             "fill": {
              "color": "#EBF0F8"
             },
             "line": {
              "color": "white"
             }
            },
            "header": {
             "fill": {
              "color": "#C8D4E3"
             },
             "line": {
              "color": "white"
             }
            },
            "type": "table"
           }
          ]
         },
         "layout": {
          "annotationdefaults": {
           "arrowcolor": "#2a3f5f",
           "arrowhead": 0,
           "arrowwidth": 1
          },
          "autotypenumbers": "strict",
          "coloraxis": {
           "colorbar": {
            "outlinewidth": 0,
            "ticks": ""
           }
          },
          "colorscale": {
           "diverging": [
            [
             0,
             "#8e0152"
            ],
            [
             0.1,
             "#c51b7d"
            ],
            [
             0.2,
             "#de77ae"
            ],
            [
             0.3,
             "#f1b6da"
            ],
            [
             0.4,
             "#fde0ef"
            ],
            [
             0.5,
             "#f7f7f7"
            ],
            [
             0.6,
             "#e6f5d0"
            ],
            [
             0.7,
             "#b8e186"
            ],
            [
             0.8,
             "#7fbc41"
            ],
            [
             0.9,
             "#4d9221"
            ],
            [
             1,
             "#276419"
            ]
           ],
           "sequential": [
            [
             0,
             "#0d0887"
            ],
            [
             0.1111111111111111,
             "#46039f"
            ],
            [
             0.2222222222222222,
             "#7201a8"
            ],
            [
             0.3333333333333333,
             "#9c179e"
            ],
            [
             0.4444444444444444,
             "#bd3786"
            ],
            [
             0.5555555555555556,
             "#d8576b"
            ],
            [
             0.6666666666666666,
             "#ed7953"
            ],
            [
             0.7777777777777778,
             "#fb9f3a"
            ],
            [
             0.8888888888888888,
             "#fdca26"
            ],
            [
             1,
             "#f0f921"
            ]
           ],
           "sequentialminus": [
            [
             0,
             "#0d0887"
            ],
            [
             0.1111111111111111,
             "#46039f"
            ],
            [
             0.2222222222222222,
             "#7201a8"
            ],
            [
             0.3333333333333333,
             "#9c179e"
            ],
            [
             0.4444444444444444,
             "#bd3786"
            ],
            [
             0.5555555555555556,
             "#d8576b"
            ],
            [
             0.6666666666666666,
             "#ed7953"
            ],
            [
             0.7777777777777778,
             "#fb9f3a"
            ],
            [
             0.8888888888888888,
             "#fdca26"
            ],
            [
             1,
             "#f0f921"
            ]
           ]
          },
          "colorway": [
           "#636efa",
           "#EF553B",
           "#00cc96",
           "#ab63fa",
           "#FFA15A",
           "#19d3f3",
           "#FF6692",
           "#B6E880",
           "#FF97FF",
           "#FECB52"
          ],
          "font": {
           "color": "#2a3f5f"
          },
          "geo": {
           "bgcolor": "white",
           "lakecolor": "white",
           "landcolor": "#E5ECF6",
           "showlakes": true,
           "showland": true,
           "subunitcolor": "white"
          },
          "hoverlabel": {
           "align": "left"
          },
          "hovermode": "closest",
          "mapbox": {
           "style": "light"
          },
          "paper_bgcolor": "white",
          "plot_bgcolor": "#E5ECF6",
          "polar": {
           "angularaxis": {
            "gridcolor": "white",
            "linecolor": "white",
            "ticks": ""
           },
           "bgcolor": "#E5ECF6",
           "radialaxis": {
            "gridcolor": "white",
            "linecolor": "white",
            "ticks": ""
           }
          },
          "scene": {
           "xaxis": {
            "backgroundcolor": "#E5ECF6",
            "gridcolor": "white",
            "gridwidth": 2,
            "linecolor": "white",
            "showbackground": true,
            "ticks": "",
            "zerolinecolor": "white"
           },
           "yaxis": {
            "backgroundcolor": "#E5ECF6",
            "gridcolor": "white",
            "gridwidth": 2,
            "linecolor": "white",
            "showbackground": true,
            "ticks": "",
            "zerolinecolor": "white"
           },
           "zaxis": {
            "backgroundcolor": "#E5ECF6",
            "gridcolor": "white",
            "gridwidth": 2,
            "linecolor": "white",
            "showbackground": true,
            "ticks": "",
            "zerolinecolor": "white"
           }
          },
          "shapedefaults": {
           "line": {
            "color": "#2a3f5f"
           }
          },
          "ternary": {
           "aaxis": {
            "gridcolor": "white",
            "linecolor": "white",
            "ticks": ""
           },
           "baxis": {
            "gridcolor": "white",
            "linecolor": "white",
            "ticks": ""
           },
           "bgcolor": "#E5ECF6",
           "caxis": {
            "gridcolor": "white",
            "linecolor": "white",
            "ticks": ""
           }
          },
          "title": {
           "x": 0.05
          },
          "xaxis": {
           "automargin": true,
           "gridcolor": "white",
           "linecolor": "white",
           "ticks": "",
           "title": {
            "standoff": 15
           },
           "zerolinecolor": "white",
           "zerolinewidth": 2
          },
          "yaxis": {
           "automargin": true,
           "gridcolor": "white",
           "linecolor": "white",
           "ticks": "",
           "title": {
            "standoff": 15
           },
           "zerolinecolor": "white",
           "zerolinewidth": 2
          }
         }
        },
        "title": {
         "text": "Analisi delle Componenti Principali (PCA)"
        },
        "xaxis": {
         "anchor": "y",
         "domain": [
          0,
          0.45
         ],
         "title": {
          "text": "Componente"
         }
        },
        "xaxis2": {
         "anchor": "y2",
         "domain": [
          0.55,
          1
         ],
         "title": {
          "text": "Componente"
         }
        },
        "xaxis3": {
         "anchor": "y3",
         "domain": [
          0,
          0.45
         ],
         "title": {
          "text": "Componente"
         }
        },
        "xaxis4": {
         "anchor": "y4",
         "domain": [
          0.55,
          1
         ],
         "title": {
          "text": "PC1 (10.4%)"
         }
        },
        "yaxis": {
         "anchor": "x",
         "domain": [
          0.55,
          1
         ],
         "title": {
          "text": "Varianza Spiegata"
         }
        },
        "yaxis2": {
         "anchor": "x2",
         "domain": [
          0.55,
          1
         ],
         "title": {
          "text": "Varianza Cumulativa"
         }
        },
        "yaxis3": {
         "anchor": "x3",
         "domain": [
          0,
          0.45
         ],
         "title": {
          "text": "Varianza Spiegata"
         }
        },
        "yaxis4": {
         "anchor": "x4",
         "domain": [
          0,
          0.45
         ],
         "title": {
          "text": "PC2 (7.1%)"
         }
        }
       }
      }
     },
     "metadata": {},
     "output_type": "display_data"
    },
    {
     "name": "stdout",
     "output_type": "stream",
     "text": [
      "   🟢 BASSA COLLINEARITÀ: 25 componenti spiegano il 95% della varianza\n",
      "   → Le strategie sono relativamente indipendenti\n"
     ]
    }
   ],
   "source": [
    "# Analisi PCA\n",
    "scaler = StandardScaler()\n",
    "returns_scaled = scaler.fit_transform(returns_df.fillna(0))\n",
    "pca = PCA()\n",
    "pca_result = pca.fit_transform(returns_scaled)\n",
    "explained_variance = pca.explained_variance_ratio_\n",
    "cumulative_variance = np.cumsum(explained_variance)\n",
    "n_components_95 = np.argmax(cumulative_variance >= 0.95) + 1\n",
    "n_components_90 = np.argmax(cumulative_variance >= 0.90) + 1\n",
    "n_components_80 = np.argmax(cumulative_variance >= 0.80) + 1\n",
    "print(f\"📊 RISULTATI PCA:\")\n",
    "print(f\"   Componenti totali: {len(explained_variance)}\")\n",
    "print(f\"   Componenti per 80% varianza: {n_components_80}\")\n",
    "print(f\"   Componenti per 90% varianza: {n_components_90}\")\n",
    "print(f\"   Componenti per 95% varianza: {n_components_95}\")\n",
    "print(f\"   Riduzione dimensionalità: {((len(explained_variance) - n_components_95) / len(explained_variance)) * 100:.1f}%\")\n",
    "n_top_components = min(5, len(explained_variance))\n",
    "print(f\"\\n🎯 TOP {n_top_components} COMPONENTI PRINCIPALI:\")\n",
    "for i in range(n_top_components):\n",
    "    print(f\"\\n   Componente {i+1} (spiega {explained_variance[i]:.1%} della varianza):\")\n",
    "    loadings = pca.components_[i]\n",
    "    top_strategies_idx = np.argsort(np.abs(loadings))[::-1][:3]\n",
    "    for idx in top_strategies_idx:\n",
    "        strategy = returns_df.columns[idx]\n",
    "        loading = loadings[idx]\n",
    "        print(f\"     {strategy}: {loading:.3f}\")\n",
    "fig_pca = make_subplots(\n",
    "    rows=2, cols=2,\n",
    "    subplot_titles=(\"Varianza Spiegata per Componente\", \"Varianza Cumulativa\",\n",
    "                   \"Scree Plot\", \"Biplot PC1 vs PC2\"),\n",
    "    specs=[[{\"type\": \"bar\"}, {\"type\": \"scatter\"}],\n",
    "           [{\"type\": \"scatter\"}, {\"type\": \"scatter\"}]],\n",
    "    vertical_spacing=0.1,\n",
    "    horizontal_spacing=0.1\n",
    ")\n",
    "fig_pca.add_trace(\n",
    "    go.Bar(\n",
    "        x=list(range(1, min(21, len(explained_variance)+1))),\n",
    "        y=explained_variance[:20],\n",
    "        name=\"Varianza Spiegata\",\n",
    "        marker=dict(color='skyblue')\n",
    "    ),\n",
    "    row=1, col=1\n",
    ")\n",
    "fig_pca.add_trace(\n",
    "    go.Scatter(\n",
    "        x=list(range(1, min(21, len(cumulative_variance)+1))),\n",
    "        y=cumulative_variance[:20],\n",
    "        mode='lines+markers',\n",
    "        name=\"Varianza Cumulativa\",\n",
    "        line=dict(color='red', width=2)\n",
    "    ),\n",
    "    row=1, col=2\n",
    ")\n",
    "for threshold, color in [(0.8, 'orange'), (0.9, 'green'), (0.95, 'purple')]:\n",
    "    fig_pca.add_hline(\n",
    "        y=threshold, \n",
    "        line_dash=\"dash\", \n",
    "        line_color=color,\n",
    "        annotation_text=f\"{threshold*100:.0f}%\",\n",
    "        row=1, col=2\n",
    "    )\n",
    "fig_pca.add_trace(\n",
    "    go.Scatter(\n",
    "        x=list(range(1, min(21, len(explained_variance)+1))),\n",
    "        y=explained_variance[:20],\n",
    "        mode='lines+markers',\n",
    "        name=\"Scree Plot\",\n",
    "        line=dict(color='darkgreen', width=2)\n",
    "    ),\n",
    "    row=2, col=1\n",
    ")\n",
    "pc1_loadings = pca.components_[0]\n",
    "pc2_loadings = pca.components_[1]\n",
    "fig_pca.add_trace(\n",
    "    go.Scatter(\n",
    "        x=pc1_loadings,\n",
    "        y=pc2_loadings,\n",
    "        mode='markers+text',\n",
    "        text=returns_df.columns,\n",
    "        textposition=\"top center\",\n",
    "        name=\"Strategie (PC1 vs PC2)\",\n",
    "        marker=dict(size=8, color='red')\n",
    "    ),\n",
    "    row=2, col=2\n",
    ")\n",
    "for i, strategy in enumerate(returns_df.columns):\n",
    "    if abs(pc1_loadings[i]) > 0.1 or abs(pc2_loadings[i]) > 0.1:\n",
    "        fig_pca.add_annotation(\n",
    "            x=pc1_loadings[i], y=pc2_loadings[i],\n",
    "            ax=0, ay=0,\n",
    "            arrowhead=2, arrowsize=1, arrowwidth=2,\n",
    "            arrowcolor=\"blue\",\n",
    "            row=2, col=2\n",
    "        )\n",
    "fig_pca.update_layout(\n",
    "    title=\"Analisi delle Componenti Principali (PCA)\",\n",
    "    height=800,\n",
    "    showlegend=False\n",
    ")\n",
    "fig_pca.update_xaxes(title_text=\"Componente\", row=1, col=1)\n",
    "fig_pca.update_yaxes(title_text=\"Varianza Spiegata\", row=1, col=1)\n",
    "fig_pca.update_xaxes(title_text=\"Componente\", row=1, col=2)\n",
    "fig_pca.update_yaxes(title_text=\"Varianza Cumulativa\", row=1, col=2)\n",
    "fig_pca.update_xaxes(title_text=\"Componente\", row=2, col=1)\n",
    "fig_pca.update_yaxes(title_text=\"Varianza Spiegata\", row=2, col=1)\n",
    "fig_pca.update_xaxes(title_text=f\"PC1 ({explained_variance[0]:.1%})\", row=2, col=2)\n",
    "fig_pca.update_yaxes(title_text=f\"PC2 ({explained_variance[1]:.1%})\", row=2, col=2)\n",
    "fig_pca.show()\n",
    "if n_components_95 < len(explained_variance) * 0.5:\n",
    "    print(f\"   🔴 ALTA COLLINEARITÀ: Solo {n_components_95} componenti spiegano il 95% della varianza\")\n",
    "    print(f\"   → Le strategie sono altamente correlate e ridondanti\")\n",
    "elif n_components_95 < len(explained_variance) * 0.8:\n",
    "    print(f\"   🟡 MEDIA COLLINEARITÀ: {n_components_95} componenti spiegano il 95% della varianza\")\n",
    "    print(f\"   → Esiste una moderata correlazione tra le strategie\")\n",
    "else:\n",
    "    print(f\"   🟢 BASSA COLLINEARITÀ: {n_components_95} componenti spiegano il 95% della varianza\")\n",
    "    print(f\"   → Le strategie sono relativamente indipendenti\")"
   ]
  }
 ],
 "metadata": {
  "kernelspec": {
   "display_name": ".venv",
   "language": "python",
   "name": "python3"
  },
  "language_info": {
   "codemirror_mode": {
    "name": "ipython",
    "version": 3
   },
   "file_extension": ".py",
   "mimetype": "text/x-python",
   "name": "python",
   "nbconvert_exporter": "python",
   "pygments_lexer": "ipython3",
   "version": "3.10.12"
  }
 },
 "nbformat": 4,
 "nbformat_minor": 5
}
