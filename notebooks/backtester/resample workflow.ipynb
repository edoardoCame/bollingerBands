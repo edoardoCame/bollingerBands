{
 "cells": [
  {
   "cell_type": "code",
   "execution_count": 1,
   "id": "2e28c7de",
   "metadata": {},
   "outputs": [],
   "source": [
    "import sys\n",
    "sys.path.append('/home/edocame/Desktop/bollingerBands')\n",
    "import dask.dataframe as dd"
   ]
  },
  {
   "cell_type": "code",
   "execution_count": 2,
   "id": "d42aa2c1",
   "metadata": {},
   "outputs": [
    {
     "name": "stdout",
     "output_type": "stream",
     "text": [
      "Trovati 62 file Parquet:\n",
      "2025.7.16GBPCAD_oanda-TICK-No Session.parquet\n",
      "2025.7.16EURCZK_oanda-TICK-No Session.parquet\n",
      "2025.7.16AUDCAD_oanda-TICK-No Session.parquet\n",
      "2025.7.16GBPJPY_oanda-TICK-No Session.parquet\n",
      "2025.7.16EURAUD_oanda-TICK-No Session.parquet\n",
      "2025.7.16EURGBP_oanda-TICK-No Session.parquet\n",
      "2025.7.16EURSGD_oanda-TICK-No Session.parquet\n",
      "2025.7.16USDCHF_oanda-TICK-No Session.parquet\n",
      "2025.7.16USDHUF_oanda-TICK-No Session.parquet\n",
      "2025.7.16CADCHF_oanda-TICK-No Session.parquet\n",
      "2025.7.16USDTRY_oanda-TICK-No Session.parquet\n",
      "2025.7.16USDJPY_oanda-TICK-No Session.parquet\n",
      "2025.7.16EURNOK_oanda-TICK-No Session.parquet\n",
      "2025.7.16AUDNZD_oanda-TICK-No Session.parquet\n",
      "2025.7.16USDSGD_oanda-TICK-No Session.parquet\n",
      "2025.7.16AUDJPY_oanda-TICK-No Session.parquet\n",
      "2025.7.16EURDKK_oanda-TICK-No Session.parquet\n",
      "2025.7.16EURCHF_oanda-TICK-No Session.parquet\n",
      "2025.7.16EURNZD_oanda-TICK-No Session.parquet\n",
      "2025.7.16USDCNH_oanda-TICK-No Session.parquet\n",
      "2025.7.16AUDUSD_oanda-TICK-No Session.parquet\n",
      "2025.7.16USDPLN_oanda-TICK-No Session.parquet\n",
      "2025.7.16EURRUB_oanda-TICK-No Session.parquet\n",
      "2025.7.16EURHKD_oanda-TICK-No Session.parquet\n",
      "2025.7.16USDHKD_oanda-TICK-No Session.parquet\n",
      "2025.7.16NZDUSD_oanda-TICK-No Session.parquet\n",
      "2025.7.16EURJPY_oanda-TICK-No Session.parquet\n",
      "2025.7.16CADHKD_oanda-TICK-No Session.parquet\n",
      "2025.7.16EURHUF_oanda-TICK-No Session.parquet\n",
      "2025.7.16USDSEK_oanda-TICK-No Session.parquet\n",
      "2025.7.16GBPCHF_oanda-TICK-No Session.parquet\n",
      "2025.7.16GBPNZD_oanda-TICK-No Session.parquet\n",
      "2025.7.16SGDJPY_oanda-TICK-No Session.parquet\n",
      "2025.7.16TRYJPY_oanda-TICK-No Session.parquet\n",
      "2025.7.16EURUSD_oanda-TICK-No Session.parquet\n",
      "2025.7.16EURSEK_oanda-TICK-No Session.parquet\n",
      "2025.7.16USDCAD_oanda-TICK-No Session.parquet\n",
      "2025.7.16NZDCAD_oanda-TICK-No Session.parquet\n",
      "2025.7.16GBPUSD_oanda-TICK-No Session.parquet\n",
      "2025.7.16USDTHB_oanda-TICK-No Session.parquet\n",
      "2025.7.16HKDJPY_oanda-TICK-No Session.parquet\n",
      "2025.7.16NZDJPY_oanda-TICK-No Session.parquet\n",
      "2025.7.16ZARJPY_oanda-TICK-No Session.parquet\n",
      "2025.7.16CADJPY_oanda-TICK-No Session.parquet\n",
      "2025.7.16AUDSGD_oanda-TICK-No Session.parquet\n",
      "2025.7.16USDRON_oanda-TICK-No Session.parquet\n",
      "2025.7.16USDNOK_oanda-TICK-No Session.parquet\n",
      "2025.7.16USDDKK_oanda-TICK-No Session.parquet\n",
      "2025.7.16EURPLN_oanda-TICK-No Session.parquet\n",
      "2025.7.16EURCAD_oanda-TICK-No Session.parquet\n",
      "2025.7.16CHFJPY_oanda-TICK-No Session.parquet\n",
      "2025.7.16AUDCHF_oanda-TICK-No Session.parquet\n",
      "2025.7.16CHFPLN_oanda-TICK-No Session.parquet\n",
      "2025.7.16USDRUB_oanda-TICK-No Session.parquet\n",
      "2025.7.16USDCZK_oanda-TICK-No Session.parquet\n",
      "2025.7.16NZDCHF_oanda-TICK-No Session.parquet\n",
      "2025.7.16USDMXN_oanda-TICK-No Session.parquet\n",
      "2025.7.16USDILS_oanda-TICK-No Session.parquet\n",
      "2025.7.16GBPAUD_oanda-TICK-No Session.parquet\n",
      "2025.7.16USDZAR_oanda-TICK-No Session.parquet\n",
      "2025.7.16CHFSGD_oanda-TICK-No Session.parquet\n",
      "2025.7.16EURTRY_oanda-TICK-No Session.parquet\n"
     ]
    }
   ],
   "source": [
    "import os\n",
    "import sys\n",
    "from modules.backtester import data_loader\n",
    "import pandas as pd\n",
    "\n",
    "# Path to Bid Ask Data folder\n",
    "bid_ask_data_dir = '/media/edocame/HDD_2/data_python/03_BID_ASK_DATA'\n",
    "\n",
    "# List all Parquet files in the folder\n",
    "parquet_files = [f for f in os.listdir(bid_ask_data_dir) if f.endswith('.parquet')]\n",
    "print(f'Trovati {len(parquet_files)} file Parquet:')\n",
    "for f in parquet_files:\n",
    "    print(f)"
   ]
  },
  {
   "cell_type": "code",
   "execution_count": 3,
   "id": "b121d8d5",
   "metadata": {},
   "outputs": [
    {
     "name": "stderr",
     "output_type": "stream",
     "text": [
      "Processing files:   0%|          | 0/62 [00:00<?, ?it/s]"
     ]
    },
    {
     "name": "stdout",
     "output_type": "stream",
     "text": [
      "\n",
      "Processing: 2025.7.16GBPCAD_oanda-TICK-No Session.parquet\n",
      "Dati caricati (Dask): 476677485 righe\n",
      "Colonne: ['DateTime', 'Bid', 'Ask', 'Volume']\n",
      "Dati caricati (Dask): 476677485 righe\n",
      "Colonne: ['DateTime', 'Bid', 'Ask', 'Volume']\n",
      "Dati a minuto (Dask): 7235162 righe\n",
      "Dati a minuto (Dask): 7235162 righe\n"
     ]
    },
    {
     "name": "stderr",
     "output_type": "stream",
     "text": [
      "Processing files:   2%|▏         | 1/62 [02:25<2:28:20, 145.91s/it]"
     ]
    },
    {
     "name": "stdout",
     "output_type": "stream",
     "text": [
      "Salvato: 2025.7.16GBPCAD_oanda-TICK-No Session_MINUTEDATA.parquet\n",
      "\n",
      "Processing: 2025.7.16EURCZK_oanda-TICK-No Session.parquet\n",
      "Dati caricati (Dask): 87459687 righe\n",
      "Colonne: ['DateTime', 'Bid', 'Ask', 'Volume']\n",
      "Dati caricati (Dask): 87459687 righe\n",
      "Colonne: ['DateTime', 'Bid', 'Ask', 'Volume']\n",
      "Dati a minuto (Dask): 2827270 righe\n",
      "Dati a minuto (Dask): 2827270 righe\n"
     ]
    },
    {
     "name": "stderr",
     "output_type": "stream",
     "text": [
      "Processing files:   3%|▎         | 2/62 [02:53<1:16:02, 76.04s/it] "
     ]
    },
    {
     "name": "stdout",
     "output_type": "stream",
     "text": [
      "Salvato: 2025.7.16EURCZK_oanda-TICK-No Session_MINUTEDATA.parquet\n",
      "\n",
      "Processing: 2025.7.16AUDCAD_oanda-TICK-No Session.parquet\n",
      "Dati caricati (Dask): 402521269 righe\n",
      "Colonne: ['DateTime', 'Bid', 'Ask', 'Volume']\n",
      "Dati caricati (Dask): 402521269 righe\n",
      "Colonne: ['DateTime', 'Bid', 'Ask', 'Volume']\n",
      "Dati a minuto (Dask): 6587756 righe\n",
      "Dati a minuto (Dask): 6587756 righe\n"
     ]
    },
    {
     "name": "stderr",
     "output_type": "stream",
     "text": [
      "Processing files:   5%|▍         | 3/62 [05:18<1:45:55, 107.72s/it]"
     ]
    },
    {
     "name": "stdout",
     "output_type": "stream",
     "text": [
      "Salvato: 2025.7.16AUDCAD_oanda-TICK-No Session_MINUTEDATA.parquet\n",
      "\n",
      "Processing: 2025.7.16GBPJPY_oanda-TICK-No Session.parquet\n",
      "Dati caricati (Dask): 563959256 righe\n",
      "Colonne: ['DateTime', 'Bid', 'Ask', 'Volume']\n",
      "Dati caricati (Dask): 563959256 righe\n",
      "Colonne: ['DateTime', 'Bid', 'Ask', 'Volume']\n",
      "Dati a minuto (Dask): 7345863 righe\n",
      "Dati a minuto (Dask): 7345863 righe\n"
     ]
    },
    {
     "name": "stderr",
     "output_type": "stream",
     "text": [
      "Processing files:   6%|▋         | 4/62 [08:38<2:19:23, 144.20s/it]"
     ]
    },
    {
     "name": "stdout",
     "output_type": "stream",
     "text": [
      "Salvato: 2025.7.16GBPJPY_oanda-TICK-No Session_MINUTEDATA.parquet\n",
      "\n",
      "Processing: 2025.7.16EURAUD_oanda-TICK-No Session.parquet\n",
      "Dati caricati (Dask): 564790113 righe\n",
      "Colonne: ['DateTime', 'Bid', 'Ask', 'Volume']\n",
      "Dati caricati (Dask): 564790113 righe\n",
      "Colonne: ['DateTime', 'Bid', 'Ask', 'Volume']\n",
      "Dati a minuto (Dask): 6860472 righe\n",
      "Dati a minuto (Dask): 6860472 righe\n"
     ]
    },
    {
     "name": "stderr",
     "output_type": "stream",
     "text": [
      "Processing files:   8%|▊         | 5/62 [11:57<2:35:53, 164.09s/it]"
     ]
    },
    {
     "name": "stdout",
     "output_type": "stream",
     "text": [
      "Salvato: 2025.7.16EURAUD_oanda-TICK-No Session_MINUTEDATA.parquet\n",
      "\n",
      "Processing: 2025.7.16EURGBP_oanda-TICK-No Session.parquet\n",
      "Dati caricati (Dask): 429963351 righe\n",
      "Colonne: ['DateTime', 'Bid', 'Ask', 'Volume']\n",
      "Dati caricati (Dask): 429963351 righe\n",
      "Colonne: ['DateTime', 'Bid', 'Ask', 'Volume']\n",
      "Dati a minuto (Dask): 8203564 righe\n",
      "Dati a minuto (Dask): 8203564 righe\n"
     ]
    },
    {
     "name": "stderr",
     "output_type": "stream",
     "text": [
      "Processing files:  10%|▉         | 6/62 [14:39<2:32:13, 163.09s/it]"
     ]
    },
    {
     "name": "stdout",
     "output_type": "stream",
     "text": [
      "Salvato: 2025.7.16EURGBP_oanda-TICK-No Session_MINUTEDATA.parquet\n",
      "\n",
      "Processing: 2025.7.16EURSGD_oanda-TICK-No Session.parquet\n",
      "Dati caricati (Dask): 365583580 righe\n",
      "Colonne: ['DateTime', 'Bid', 'Ask', 'Volume']\n",
      "Dati caricati (Dask): 365583580 righe\n",
      "Colonne: ['DateTime', 'Bid', 'Ask', 'Volume']\n",
      "Dati a minuto (Dask): 6788728 righe\n",
      "Dati a minuto (Dask): 6788728 righe\n"
     ]
    },
    {
     "name": "stderr",
     "output_type": "stream",
     "text": [
      "Processing files:  11%|█▏        | 7/62 [16:57<2:22:06, 155.03s/it]"
     ]
    },
    {
     "name": "stdout",
     "output_type": "stream",
     "text": [
      "Salvato: 2025.7.16EURSGD_oanda-TICK-No Session_MINUTEDATA.parquet\n",
      "\n",
      "Processing: 2025.7.16USDCHF_oanda-TICK-No Session.parquet\n",
      "Dati caricati (Dask): 365181748 righe\n",
      "Colonne: ['DateTime', 'Bid', 'Ask', 'Volume']\n",
      "Dati caricati (Dask): 365181748 righe\n",
      "Colonne: ['DateTime', 'Bid', 'Ask', 'Volume']\n",
      "Dati a minuto (Dask): 8273562 righe\n",
      "Dati a minuto (Dask): 8273562 righe\n"
     ]
    },
    {
     "name": "stderr",
     "output_type": "stream",
     "text": [
      "Processing files:  13%|█▎        | 8/62 [19:18<2:15:35, 150.65s/it]"
     ]
    },
    {
     "name": "stdout",
     "output_type": "stream",
     "text": [
      "Salvato: 2025.7.16USDCHF_oanda-TICK-No Session_MINUTEDATA.parquet\n",
      "\n",
      "Processing: 2025.7.16USDHUF_oanda-TICK-No Session.parquet\n",
      "Dati caricati (Dask): 242772543 righe\n",
      "Colonne: ['DateTime', 'Bid', 'Ask', 'Volume']\n",
      "Dati caricati (Dask): 242772543 righe\n",
      "Colonne: ['DateTime', 'Bid', 'Ask', 'Volume']\n",
      "Dati a minuto (Dask): 5435070 righe\n",
      "Dati a minuto (Dask): 5435070 righe\n"
     ]
    },
    {
     "name": "stderr",
     "output_type": "stream",
     "text": [
      "Processing files:  15%|█▍        | 9/62 [20:54<1:57:55, 133.49s/it]"
     ]
    },
    {
     "name": "stdout",
     "output_type": "stream",
     "text": [
      "Salvato: 2025.7.16USDHUF_oanda-TICK-No Session_MINUTEDATA.parquet\n",
      "\n",
      "Processing: 2025.7.16CADCHF_oanda-TICK-No Session.parquet\n",
      "Dati caricati (Dask): 308156360 righe\n",
      "Colonne: ['DateTime', 'Bid', 'Ask', 'Volume']\n",
      "Dati caricati (Dask): 308156360 righe\n",
      "Colonne: ['DateTime', 'Bid', 'Ask', 'Volume']\n",
      "Dati a minuto (Dask): 7224280 righe\n",
      "Dati a minuto (Dask): 7224280 righe\n"
     ]
    },
    {
     "name": "stderr",
     "output_type": "stream",
     "text": [
      "Processing files:  16%|█▌        | 10/62 [22:53<1:51:45, 128.94s/it]"
     ]
    },
    {
     "name": "stdout",
     "output_type": "stream",
     "text": [
      "Salvato: 2025.7.16CADCHF_oanda-TICK-No Session_MINUTEDATA.parquet\n",
      "\n",
      "Processing: 2025.7.16USDTRY_oanda-TICK-No Session.parquet\n",
      "Dati caricati (Dask): 203475819 righe\n",
      "Colonne: ['DateTime', 'Bid', 'Ask', 'Volume']\n",
      "Dati caricati (Dask): 203475819 righe\n",
      "Colonne: ['DateTime', 'Bid', 'Ask', 'Volume']\n",
      "Dati a minuto (Dask): 5744189 righe\n",
      "Dati a minuto (Dask): 5744189 righe\n"
     ]
    },
    {
     "name": "stderr",
     "output_type": "stream",
     "text": [
      "Processing files:  18%|█▊        | 11/62 [24:15<1:37:22, 114.56s/it]"
     ]
    },
    {
     "name": "stdout",
     "output_type": "stream",
     "text": [
      "Salvato: 2025.7.16USDTRY_oanda-TICK-No Session_MINUTEDATA.parquet\n",
      "\n",
      "Processing: 2025.7.16USDJPY_oanda-TICK-No Session.parquet\n",
      "Dati caricati (Dask): 481995677 righe\n",
      "Colonne: ['DateTime', 'Bid', 'Ask', 'Volume']\n",
      "Dati caricati (Dask): 481995677 righe\n",
      "Colonne: ['DateTime', 'Bid', 'Ask', 'Volume']\n",
      "Dati a minuto (Dask): 8259564 righe\n",
      "Dati a minuto (Dask): 8259564 righe\n"
     ]
    },
    {
     "name": "stderr",
     "output_type": "stream",
     "text": [
      "Processing files:  19%|█▉        | 12/62 [27:12<1:51:15, 133.51s/it]"
     ]
    },
    {
     "name": "stdout",
     "output_type": "stream",
     "text": [
      "Salvato: 2025.7.16USDJPY_oanda-TICK-No Session_MINUTEDATA.parquet\n",
      "\n",
      "Processing: 2025.7.16EURNOK_oanda-TICK-No Session.parquet\n",
      "Dati caricati (Dask): 365262845 righe\n",
      "Colonne: ['DateTime', 'Bid', 'Ask', 'Volume']\n",
      "Dati caricati (Dask): 365262845 righe\n",
      "Colonne: ['DateTime', 'Bid', 'Ask', 'Volume']\n",
      "Dati a minuto (Dask): 6114906 righe\n",
      "Dati a minuto (Dask): 6114906 righe\n"
     ]
    },
    {
     "name": "stderr",
     "output_type": "stream",
     "text": [
      "Processing files:  21%|██        | 13/62 [29:21<1:48:06, 132.37s/it]"
     ]
    },
    {
     "name": "stdout",
     "output_type": "stream",
     "text": [
      "Salvato: 2025.7.16EURNOK_oanda-TICK-No Session_MINUTEDATA.parquet\n",
      "\n",
      "Processing: 2025.7.16AUDNZD_oanda-TICK-No Session.parquet\n",
      "Dati caricati (Dask): 383726626 righe\n",
      "Colonne: ['DateTime', 'Bid', 'Ask', 'Volume']\n",
      "Dati caricati (Dask): 383726626 righe\n",
      "Colonne: ['DateTime', 'Bid', 'Ask', 'Volume']\n",
      "Dati a minuto (Dask): 6848027 righe\n",
      "Dati a minuto (Dask): 6848027 righe\n"
     ]
    },
    {
     "name": "stderr",
     "output_type": "stream",
     "text": [
      "Processing files:  23%|██▎       | 14/62 [31:43<1:48:08, 135.18s/it]"
     ]
    },
    {
     "name": "stdout",
     "output_type": "stream",
     "text": [
      "Salvato: 2025.7.16AUDNZD_oanda-TICK-No Session_MINUTEDATA.parquet\n",
      "\n",
      "Processing: 2025.7.16USDSGD_oanda-TICK-No Session.parquet\n",
      "Dati caricati (Dask): 177042281 righe\n",
      "Colonne: ['DateTime', 'Bid', 'Ask', 'Volume']\n",
      "Dati caricati (Dask): 177042281 righe\n",
      "Colonne: ['DateTime', 'Bid', 'Ask', 'Volume']\n",
      "Dati a minuto (Dask): 6479990 righe\n",
      "Dati a minuto (Dask): 6479990 righe\n"
     ]
    },
    {
     "name": "stderr",
     "output_type": "stream",
     "text": [
      "Processing files:  24%|██▍       | 15/62 [32:51<1:29:57, 114.84s/it]"
     ]
    },
    {
     "name": "stdout",
     "output_type": "stream",
     "text": [
      "Salvato: 2025.7.16USDSGD_oanda-TICK-No Session_MINUTEDATA.parquet\n",
      "\n",
      "Processing: 2025.7.16AUDJPY_oanda-TICK-No Session.parquet\n",
      "Dati caricati (Dask): 556249220 righe\n",
      "Colonne: ['DateTime', 'Bid', 'Ask', 'Volume']\n",
      "Dati caricati (Dask): 556249220 righe\n",
      "Colonne: ['DateTime', 'Bid', 'Ask', 'Volume']\n",
      "Dati a minuto (Dask): 8088281 righe\n",
      "Dati a minuto (Dask): 8088281 righe\n"
     ]
    },
    {
     "name": "stderr",
     "output_type": "stream",
     "text": [
      "Processing files:  26%|██▌       | 16/62 [36:08<1:47:07, 139.72s/it]"
     ]
    },
    {
     "name": "stdout",
     "output_type": "stream",
     "text": [
      "Salvato: 2025.7.16AUDJPY_oanda-TICK-No Session_MINUTEDATA.parquet\n",
      "\n",
      "Processing: 2025.7.16EURDKK_oanda-TICK-No Session.parquet\n",
      "Dati caricati (Dask): 40783734 righe\n",
      "Colonne: ['DateTime', 'Bid', 'Ask', 'Volume']\n",
      "Dati caricati (Dask): 40783734 righe\n",
      "Colonne: ['DateTime', 'Bid', 'Ask', 'Volume']\n",
      "Dati a minuto (Dask): 4047741 righe\n",
      "Dati a minuto (Dask): 4047741 righe\n"
     ]
    },
    {
     "name": "stderr",
     "output_type": "stream",
     "text": [
      "Processing files:  27%|██▋       | 17/62 [36:25<1:17:07, 102.84s/it]"
     ]
    },
    {
     "name": "stdout",
     "output_type": "stream",
     "text": [
      "Salvato: 2025.7.16EURDKK_oanda-TICK-No Session_MINUTEDATA.parquet\n",
      "\n",
      "Processing: 2025.7.16EURCHF_oanda-TICK-No Session.parquet\n",
      "Dati caricati (Dask): 378899003 righe\n",
      "Colonne: ['DateTime', 'Bid', 'Ask', 'Volume']\n",
      "Dati caricati (Dask): 378899003 righe\n",
      "Colonne: ['DateTime', 'Bid', 'Ask', 'Volume']\n",
      "Dati a minuto (Dask): 8185570 righe\n",
      "Dati a minuto (Dask): 8185570 righe\n"
     ]
    },
    {
     "name": "stderr",
     "output_type": "stream",
     "text": [
      "Processing files:  29%|██▉       | 18/62 [38:41<1:22:37, 112.67s/it]"
     ]
    },
    {
     "name": "stdout",
     "output_type": "stream",
     "text": [
      "Salvato: 2025.7.16EURCHF_oanda-TICK-No Session_MINUTEDATA.parquet\n",
      "\n",
      "Processing: 2025.7.16EURNZD_oanda-TICK-No Session.parquet\n",
      "Dati caricati (Dask): 459744956 righe\n",
      "Colonne: ['DateTime', 'Bid', 'Ask', 'Volume']\n",
      "Dati caricati (Dask): 459744956 righe\n",
      "Colonne: ['DateTime', 'Bid', 'Ask', 'Volume']\n",
      "Dati a minuto (Dask): 7229829 righe\n",
      "Dati a minuto (Dask): 7229829 righe\n"
     ]
    },
    {
     "name": "stderr",
     "output_type": "stream",
     "text": [
      "Processing files:  31%|███       | 19/62 [41:25<1:31:49, 128.12s/it]"
     ]
    },
    {
     "name": "stdout",
     "output_type": "stream",
     "text": [
      "Salvato: 2025.7.16EURNZD_oanda-TICK-No Session_MINUTEDATA.parquet\n",
      "\n",
      "Processing: 2025.7.16USDCNH_oanda-TICK-No Session.parquet\n",
      "Dati caricati (Dask): 289045577 righe\n",
      "Colonne: ['DateTime', 'Bid', 'Ask', 'Volume']\n",
      "Dati caricati (Dask): 289045577 righe\n",
      "Colonne: ['DateTime', 'Bid', 'Ask', 'Volume']\n",
      "Dati a minuto (Dask): 4222568 righe\n",
      "Dati a minuto (Dask): 4222568 righe\n"
     ]
    },
    {
     "name": "stderr",
     "output_type": "stream",
     "text": [
      "Processing files:  32%|███▏      | 20/62 [43:06<1:24:04, 120.11s/it]"
     ]
    },
    {
     "name": "stdout",
     "output_type": "stream",
     "text": [
      "Salvato: 2025.7.16USDCNH_oanda-TICK-No Session_MINUTEDATA.parquet\n",
      "\n",
      "Processing: 2025.7.16AUDUSD_oanda-TICK-No Session.parquet\n",
      "Dati caricati (Dask): 381660090 righe\n",
      "Colonne: ['DateTime', 'Bid', 'Ask', 'Volume']\n",
      "Dati caricati (Dask): 381660090 righe\n",
      "Colonne: ['DateTime', 'Bid', 'Ask', 'Volume']\n",
      "Dati a minuto (Dask): 8052309 righe\n",
      "Dati a minuto (Dask): 8052309 righe\n"
     ]
    },
    {
     "name": "stderr",
     "output_type": "stream",
     "text": [
      "Processing files:  34%|███▍      | 21/62 [45:20<1:24:52, 124.20s/it]"
     ]
    },
    {
     "name": "stdout",
     "output_type": "stream",
     "text": [
      "Salvato: 2025.7.16AUDUSD_oanda-TICK-No Session_MINUTEDATA.parquet\n",
      "\n",
      "Processing: 2025.7.16USDPLN_oanda-TICK-No Session.parquet\n",
      "Dati caricati (Dask): 251494181 righe\n",
      "Colonne: ['DateTime', 'Bid', 'Ask', 'Volume']\n",
      "Dati caricati (Dask): 251494181 righe\n",
      "Colonne: ['DateTime', 'Bid', 'Ask', 'Volume']\n",
      "Dati a minuto (Dask): 6696591 righe\n",
      "Dati a minuto (Dask): 6696591 righe\n"
     ]
    },
    {
     "name": "stderr",
     "output_type": "stream",
     "text": [
      "Processing files:  35%|███▌      | 22/62 [46:48<1:15:32, 113.32s/it]"
     ]
    },
    {
     "name": "stdout",
     "output_type": "stream",
     "text": [
      "Salvato: 2025.7.16USDPLN_oanda-TICK-No Session_MINUTEDATA.parquet\n",
      "\n",
      "Processing: 2025.7.16EURRUB_oanda-TICK-No Session.parquet\n",
      "Dati caricati (Dask): 165225563 righe\n",
      "Colonne: ['DateTime', 'Bid', 'Ask', 'Volume']\n",
      "Dati caricati (Dask): 165225563 righe\n",
      "Colonne: ['DateTime', 'Bid', 'Ask', 'Volume']\n",
      "Dati a minuto (Dask): 2438713 righe\n",
      "Dati a minuto (Dask): 2438713 righe\n"
     ]
    },
    {
     "name": "stderr",
     "output_type": "stream",
     "text": [
      "Processing files:  37%|███▋      | 23/62 [47:52<1:04:01, 98.50s/it] "
     ]
    },
    {
     "name": "stdout",
     "output_type": "stream",
     "text": [
      "Salvato: 2025.7.16EURRUB_oanda-TICK-No Session_MINUTEDATA.parquet\n",
      "\n",
      "Processing: 2025.7.16EURHKD_oanda-TICK-No Session.parquet\n",
      "Dati caricati (Dask): 361444321 righe\n",
      "Colonne: ['DateTime', 'Bid', 'Ask', 'Volume']\n",
      "Dati caricati (Dask): 361444321 righe\n",
      "Colonne: ['DateTime', 'Bid', 'Ask', 'Volume']\n",
      "Dati a minuto (Dask): 6783185 righe\n",
      "Dati a minuto (Dask): 6783185 righe\n"
     ]
    },
    {
     "name": "stderr",
     "output_type": "stream",
     "text": [
      "Processing files:  39%|███▊      | 24/62 [50:16<1:11:04, 112.21s/it]"
     ]
    },
    {
     "name": "stdout",
     "output_type": "stream",
     "text": [
      "Salvato: 2025.7.16EURHKD_oanda-TICK-No Session_MINUTEDATA.parquet\n",
      "\n",
      "Processing: 2025.7.16USDHKD_oanda-TICK-No Session.parquet\n",
      "Dati caricati (Dask): 47970773 righe\n",
      "Colonne: ['DateTime', 'Bid', 'Ask', 'Volume']\n",
      "Dati caricati (Dask): 47970773 righe\n",
      "Colonne: ['DateTime', 'Bid', 'Ask', 'Volume']\n",
      "Dati a minuto (Dask): 5453003 righe\n",
      "Dati a minuto (Dask): 5453003 righe\n"
     ]
    },
    {
     "name": "stderr",
     "output_type": "stream",
     "text": [
      "Processing files:  40%|████      | 25/62 [50:36<52:01, 84.36s/it]   "
     ]
    },
    {
     "name": "stdout",
     "output_type": "stream",
     "text": [
      "Salvato: 2025.7.16USDHKD_oanda-TICK-No Session_MINUTEDATA.parquet\n",
      "\n",
      "Processing: 2025.7.16NZDUSD_oanda-TICK-No Session.parquet\n",
      "Dati caricati (Dask): 303001318 righe\n",
      "Colonne: ['DateTime', 'Bid', 'Ask', 'Volume']\n",
      "Dati caricati (Dask): 303001318 righe\n",
      "Colonne: ['DateTime', 'Bid', 'Ask', 'Volume']\n",
      "Dati a minuto (Dask): 8164959 righe\n",
      "Dati a minuto (Dask): 8164959 righe\n"
     ]
    },
    {
     "name": "stderr",
     "output_type": "stream",
     "text": [
      "Processing files:  42%|████▏     | 26/62 [52:26<55:16, 92.13s/it]"
     ]
    },
    {
     "name": "stdout",
     "output_type": "stream",
     "text": [
      "Salvato: 2025.7.16NZDUSD_oanda-TICK-No Session_MINUTEDATA.parquet\n",
      "\n",
      "Processing: 2025.7.16EURJPY_oanda-TICK-No Session.parquet\n",
      "Dati caricati (Dask): 563657720 righe\n",
      "Colonne: ['DateTime', 'Bid', 'Ask', 'Volume']\n",
      "Dati caricati (Dask): 563657720 righe\n",
      "Colonne: ['DateTime', 'Bid', 'Ask', 'Volume']\n",
      "Dati a minuto (Dask): 7158491 righe\n",
      "Dati a minuto (Dask): 7158491 righe\n"
     ]
    },
    {
     "name": "stderr",
     "output_type": "stream",
     "text": [
      "Processing files:  44%|████▎     | 27/62 [55:37<1:11:01, 121.75s/it]"
     ]
    },
    {
     "name": "stdout",
     "output_type": "stream",
     "text": [
      "Salvato: 2025.7.16EURJPY_oanda-TICK-No Session_MINUTEDATA.parquet\n",
      "\n",
      "Processing: 2025.7.16CADHKD_oanda-TICK-No Session.parquet\n",
      "Dati caricati (Dask): 226477043 righe\n",
      "Colonne: ['DateTime', 'Bid', 'Ask', 'Volume']\n",
      "Dati caricati (Dask): 226477043 righe\n",
      "Colonne: ['DateTime', 'Bid', 'Ask', 'Volume']\n",
      "Dati a minuto (Dask): 6465031 righe\n",
      "Dati a minuto (Dask): 6465031 righe\n"
     ]
    },
    {
     "name": "stderr",
     "output_type": "stream",
     "text": [
      "Processing files:  45%|████▌     | 28/62 [56:57<1:01:59, 109.41s/it]"
     ]
    },
    {
     "name": "stdout",
     "output_type": "stream",
     "text": [
      "Salvato: 2025.7.16CADHKD_oanda-TICK-No Session_MINUTEDATA.parquet\n",
      "\n",
      "Processing: 2025.7.16EURHUF_oanda-TICK-No Session.parquet\n",
      "Dati caricati (Dask): 140318753 righe\n",
      "Colonne: ['DateTime', 'Bid', 'Ask', 'Volume']\n",
      "Dati caricati (Dask): 140318753 righe\n",
      "Colonne: ['DateTime', 'Bid', 'Ask', 'Volume']\n",
      "Dati a minuto (Dask): 4288891 righe\n",
      "Dati a minuto (Dask): 4288891 righe\n"
     ]
    },
    {
     "name": "stderr",
     "output_type": "stream",
     "text": [
      "Processing files:  47%|████▋     | 29/62 [57:47<50:18, 91.46s/it]   "
     ]
    },
    {
     "name": "stdout",
     "output_type": "stream",
     "text": [
      "Salvato: 2025.7.16EURHUF_oanda-TICK-No Session_MINUTEDATA.parquet\n",
      "\n",
      "Processing: 2025.7.16USDSEK_oanda-TICK-No Session.parquet\n",
      "Dati caricati (Dask): 471684536 righe\n",
      "Colonne: ['DateTime', 'Bid', 'Ask', 'Volume']\n",
      "Dati caricati (Dask): 471684536 righe\n",
      "Colonne: ['DateTime', 'Bid', 'Ask', 'Volume']\n",
      "Dati a minuto (Dask): 8108507 righe\n",
      "Dati a minuto (Dask): 8108507 righe\n"
     ]
    },
    {
     "name": "stderr",
     "output_type": "stream",
     "text": [
      "Processing files:  48%|████▊     | 30/62 [1:00:49<1:03:12, 118.51s/it]"
     ]
    },
    {
     "name": "stdout",
     "output_type": "stream",
     "text": [
      "Salvato: 2025.7.16USDSEK_oanda-TICK-No Session_MINUTEDATA.parquet\n",
      "\n",
      "Processing: 2025.7.16GBPCHF_oanda-TICK-No Session.parquet\n",
      "Dati caricati (Dask): 524444982 righe\n",
      "Colonne: ['DateTime', 'Bid', 'Ask', 'Volume']\n",
      "Dati caricati (Dask): 524444982 righe\n",
      "Colonne: ['DateTime', 'Bid', 'Ask', 'Volume']\n",
      "Dati a minuto (Dask): 8184518 righe\n",
      "Dati a minuto (Dask): 8184518 righe\n"
     ]
    },
    {
     "name": "stderr",
     "output_type": "stream",
     "text": [
      "Processing files:  50%|█████     | 31/62 [1:03:52<1:11:17, 137.99s/it]"
     ]
    },
    {
     "name": "stdout",
     "output_type": "stream",
     "text": [
      "Salvato: 2025.7.16GBPCHF_oanda-TICK-No Session_MINUTEDATA.parquet\n",
      "\n",
      "Processing: 2025.7.16GBPNZD_oanda-TICK-No Session.parquet\n",
      "Dati caricati (Dask): 485630500 righe\n",
      "Colonne: ['DateTime', 'Bid', 'Ask', 'Volume']\n",
      "Dati caricati (Dask): 485630500 righe\n",
      "Colonne: ['DateTime', 'Bid', 'Ask', 'Volume']\n",
      "Dati a minuto (Dask): 7177135 righe\n",
      "Dati a minuto (Dask): 7177135 righe\n"
     ]
    },
    {
     "name": "stderr",
     "output_type": "stream",
     "text": [
      "Processing files:  52%|█████▏    | 32/62 [1:06:44<1:14:05, 148.19s/it]"
     ]
    },
    {
     "name": "stdout",
     "output_type": "stream",
     "text": [
      "Salvato: 2025.7.16GBPNZD_oanda-TICK-No Session_MINUTEDATA.parquet\n",
      "\n",
      "Processing: 2025.7.16SGDJPY_oanda-TICK-No Session.parquet\n",
      "Dati caricati (Dask): 352217420 righe\n",
      "Colonne: ['DateTime', 'Bid', 'Ask', 'Volume']\n",
      "Dati caricati (Dask): 352217420 righe\n",
      "Colonne: ['DateTime', 'Bid', 'Ask', 'Volume']\n",
      "Dati a minuto (Dask): 6749883 righe\n",
      "Dati a minuto (Dask): 6749883 righe\n"
     ]
    },
    {
     "name": "stderr",
     "output_type": "stream",
     "text": [
      "Processing files:  53%|█████▎    | 33/62 [1:08:48<1:08:09, 141.02s/it]"
     ]
    },
    {
     "name": "stdout",
     "output_type": "stream",
     "text": [
      "Salvato: 2025.7.16SGDJPY_oanda-TICK-No Session_MINUTEDATA.parquet\n",
      "\n",
      "Processing: 2025.7.16TRYJPY_oanda-TICK-No Session.parquet\n",
      "Dati caricati (Dask): 100572808 righe\n",
      "Colonne: ['DateTime', 'Bid', 'Ask', 'Volume']\n",
      "Dati caricati (Dask): 100572808 righe\n",
      "Colonne: ['DateTime', 'Bid', 'Ask', 'Volume']\n",
      "Dati a minuto (Dask): 5226209 righe\n",
      "Dati a minuto (Dask): 5226209 righe\n"
     ]
    },
    {
     "name": "stderr",
     "output_type": "stream",
     "text": [
      "Processing files:  55%|█████▍    | 34/62 [1:09:27<51:33, 110.47s/it]  "
     ]
    },
    {
     "name": "stdout",
     "output_type": "stream",
     "text": [
      "Salvato: 2025.7.16TRYJPY_oanda-TICK-No Session_MINUTEDATA.parquet\n",
      "\n",
      "Processing: 2025.7.16EURUSD_oanda-TICK-No Session.parquet\n",
      "Dati caricati (Dask): 494149347 righe\n",
      "Colonne: ['DateTime', 'Bid', 'Ask', 'Volume']\n",
      "Dati caricati (Dask): 494149347 righe\n",
      "Colonne: ['DateTime', 'Bid', 'Ask', 'Volume']\n",
      "Dati a minuto (Dask): 8297066 righe\n",
      "Dati a minuto (Dask): 8297066 righe\n"
     ]
    },
    {
     "name": "stderr",
     "output_type": "stream",
     "text": [
      "Processing files:  56%|█████▋    | 35/62 [1:12:20<58:05, 129.08s/it]"
     ]
    },
    {
     "name": "stdout",
     "output_type": "stream",
     "text": [
      "Salvato: 2025.7.16EURUSD_oanda-TICK-No Session_MINUTEDATA.parquet\n",
      "\n",
      "Processing: 2025.7.16EURSEK_oanda-TICK-No Session.parquet\n",
      "Dati caricati (Dask): 325156251 righe\n",
      "Colonne: ['DateTime', 'Bid', 'Ask', 'Volume']\n",
      "Dati caricati (Dask): 325156251 righe\n",
      "Colonne: ['DateTime', 'Bid', 'Ask', 'Volume']\n",
      "Dati a minuto (Dask): 6731011 righe\n",
      "Dati a minuto (Dask): 6731011 righe\n"
     ]
    },
    {
     "name": "stderr",
     "output_type": "stream",
     "text": [
      "Processing files:  58%|█████▊    | 36/62 [1:14:13<53:54, 124.42s/it]"
     ]
    },
    {
     "name": "stdout",
     "output_type": "stream",
     "text": [
      "Salvato: 2025.7.16EURSEK_oanda-TICK-No Session_MINUTEDATA.parquet\n",
      "\n",
      "Processing: 2025.7.16USDCAD_oanda-TICK-No Session.parquet\n",
      "Dati caricati (Dask): 374203836 righe\n",
      "Colonne: ['DateTime', 'Bid', 'Ask', 'Volume']\n",
      "Dati caricati (Dask): 374203836 righe\n",
      "Colonne: ['DateTime', 'Bid', 'Ask', 'Volume']\n",
      "Dati a minuto (Dask): 8183739 righe\n",
      "Dati a minuto (Dask): 8183739 righe\n"
     ]
    },
    {
     "name": "stderr",
     "output_type": "stream",
     "text": [
      "Processing files:  60%|█████▉    | 37/62 [1:16:31<53:27, 128.32s/it]"
     ]
    },
    {
     "name": "stdout",
     "output_type": "stream",
     "text": [
      "Salvato: 2025.7.16USDCAD_oanda-TICK-No Session_MINUTEDATA.parquet\n",
      "\n",
      "Processing: 2025.7.16NZDCAD_oanda-TICK-No Session.parquet\n",
      "Dati caricati (Dask): 325988933 righe\n",
      "Colonne: ['DateTime', 'Bid', 'Ask', 'Volume']\n",
      "Dati caricati (Dask): 325988933 righe\n",
      "Colonne: ['DateTime', 'Bid', 'Ask', 'Volume']\n",
      "Dati a minuto (Dask): 7156367 righe\n",
      "Dati a minuto (Dask): 7156367 righe\n"
     ]
    },
    {
     "name": "stderr",
     "output_type": "stream",
     "text": [
      "Processing files:  61%|██████▏   | 38/62 [1:18:25<49:39, 124.16s/it]"
     ]
    },
    {
     "name": "stdout",
     "output_type": "stream",
     "text": [
      "Salvato: 2025.7.16NZDCAD_oanda-TICK-No Session_MINUTEDATA.parquet\n",
      "\n",
      "Processing: 2025.7.16GBPUSD_oanda-TICK-No Session.parquet\n",
      "Dati caricati (Dask): 495287953 righe\n",
      "Colonne: ['DateTime', 'Bid', 'Ask', 'Volume']\n",
      "Dati caricati (Dask): 495287953 righe\n",
      "Colonne: ['DateTime', 'Bid', 'Ask', 'Volume']\n",
      "Dati a minuto (Dask): 8294308 righe\n",
      "Dati a minuto (Dask): 8294308 righe\n"
     ]
    },
    {
     "name": "stderr",
     "output_type": "stream",
     "text": [
      "Processing files:  63%|██████▎   | 39/62 [1:21:52<57:07, 149.01s/it]"
     ]
    },
    {
     "name": "stdout",
     "output_type": "stream",
     "text": [
      "Salvato: 2025.7.16GBPUSD_oanda-TICK-No Session_MINUTEDATA.parquet\n",
      "\n",
      "Processing: 2025.7.16USDTHB_oanda-TICK-No Session.parquet\n",
      "Dati caricati (Dask): 27777677 righe\n",
      "Colonne: ['DateTime', 'Bid', 'Ask', 'Volume']\n",
      "Dati caricati (Dask): 27777677 righe\n",
      "Colonne: ['DateTime', 'Bid', 'Ask', 'Volume']\n",
      "Dati a minuto (Dask): 2079328 righe\n",
      "Dati a minuto (Dask): 2079328 righe\n"
     ]
    },
    {
     "name": "stderr",
     "output_type": "stream",
     "text": [
      "Processing files:  65%|██████▍   | 40/62 [1:22:04<39:31, 107.79s/it]"
     ]
    },
    {
     "name": "stdout",
     "output_type": "stream",
     "text": [
      "Salvato: 2025.7.16USDTHB_oanda-TICK-No Session_MINUTEDATA.parquet\n",
      "\n",
      "Processing: 2025.7.16HKDJPY_oanda-TICK-No Session.parquet\n",
      "Dati caricati (Dask): 258653411 righe\n",
      "Colonne: ['DateTime', 'Bid', 'Ask', 'Volume']\n",
      "Dati caricati (Dask): 258653411 righe\n",
      "Colonne: ['DateTime', 'Bid', 'Ask', 'Volume']\n",
      "Dati a minuto (Dask): 6672781 righe\n",
      "Dati a minuto (Dask): 6672781 righe\n"
     ]
    },
    {
     "name": "stderr",
     "output_type": "stream",
     "text": [
      "Processing files:  66%|██████▌   | 41/62 [1:23:34<35:54, 102.59s/it]"
     ]
    },
    {
     "name": "stdout",
     "output_type": "stream",
     "text": [
      "Salvato: 2025.7.16HKDJPY_oanda-TICK-No Session_MINUTEDATA.parquet\n",
      "\n",
      "Processing: 2025.7.16NZDJPY_oanda-TICK-No Session.parquet\n",
      "Dati caricati (Dask): 380708697 righe\n",
      "Colonne: ['DateTime', 'Bid', 'Ask', 'Volume']\n",
      "Dati caricati (Dask): 380708697 righe\n",
      "Colonne: ['DateTime', 'Bid', 'Ask', 'Volume']\n",
      "Dati a minuto (Dask): 7205097 righe\n",
      "Dati a minuto (Dask): 7205097 righe\n"
     ]
    },
    {
     "name": "stderr",
     "output_type": "stream",
     "text": [
      "Processing files:  68%|██████▊   | 42/62 [1:25:49<37:23, 112.17s/it]"
     ]
    },
    {
     "name": "stdout",
     "output_type": "stream",
     "text": [
      "Salvato: 2025.7.16NZDJPY_oanda-TICK-No Session_MINUTEDATA.parquet\n",
      "\n",
      "Processing: 2025.7.16ZARJPY_oanda-TICK-No Session.parquet\n",
      "Dati caricati (Dask): 108060096 righe\n",
      "Colonne: ['DateTime', 'Bid', 'Ask', 'Volume']\n",
      "Dati caricati (Dask): 108060096 righe\n",
      "Colonne: ['DateTime', 'Bid', 'Ask', 'Volume']\n",
      "Dati a minuto (Dask): 6382305 righe\n",
      "Dati a minuto (Dask): 6382305 righe\n"
     ]
    },
    {
     "name": "stderr",
     "output_type": "stream",
     "text": [
      "Processing files:  69%|██████▉   | 43/62 [1:26:29<28:40, 90.56s/it] "
     ]
    },
    {
     "name": "stdout",
     "output_type": "stream",
     "text": [
      "Salvato: 2025.7.16ZARJPY_oanda-TICK-No Session_MINUTEDATA.parquet\n",
      "\n",
      "Processing: 2025.7.16CADJPY_oanda-TICK-No Session.parquet\n",
      "Dati caricati (Dask): 477060876 righe\n",
      "Colonne: ['DateTime', 'Bid', 'Ask', 'Volume']\n",
      "Dati caricati (Dask): 477060876 righe\n",
      "Colonne: ['DateTime', 'Bid', 'Ask', 'Volume']\n",
      "Dati a minuto (Dask): 7418444 righe\n",
      "Dati a minuto (Dask): 7418444 righe\n"
     ]
    },
    {
     "name": "stderr",
     "output_type": "stream",
     "text": [
      "Processing files:  71%|███████   | 44/62 [1:29:25<34:49, 116.06s/it]"
     ]
    },
    {
     "name": "stdout",
     "output_type": "stream",
     "text": [
      "Salvato: 2025.7.16CADJPY_oanda-TICK-No Session_MINUTEDATA.parquet\n",
      "\n",
      "Processing: 2025.7.16AUDSGD_oanda-TICK-No Session.parquet\n",
      "Dati caricati (Dask): 277474840 righe\n",
      "Colonne: ['DateTime', 'Bid', 'Ask', 'Volume']\n",
      "Dati caricati (Dask): 277474840 righe\n",
      "Colonne: ['DateTime', 'Bid', 'Ask', 'Volume']\n",
      "Dati a minuto (Dask): 6704561 righe\n",
      "Dati a minuto (Dask): 6704561 righe\n"
     ]
    },
    {
     "name": "stderr",
     "output_type": "stream",
     "text": [
      "Processing files:  73%|███████▎  | 45/62 [1:31:07<31:45, 112.06s/it]"
     ]
    },
    {
     "name": "stdout",
     "output_type": "stream",
     "text": [
      "Salvato: 2025.7.16AUDSGD_oanda-TICK-No Session_MINUTEDATA.parquet\n",
      "\n",
      "Processing: 2025.7.16USDRON_oanda-TICK-No Session.parquet\n",
      "Dati caricati (Dask): 110569440 righe\n",
      "Colonne: ['DateTime', 'Bid', 'Ask', 'Volume']\n",
      "Dati caricati (Dask): 110569440 righe\n",
      "Colonne: ['DateTime', 'Bid', 'Ask', 'Volume']\n",
      "Dati a minuto (Dask): 2115909 righe\n",
      "Dati a minuto (Dask): 2115909 righe\n"
     ]
    },
    {
     "name": "stderr",
     "output_type": "stream",
     "text": [
      "Processing files:  74%|███████▍  | 46/62 [1:31:47<24:06, 90.43s/it] "
     ]
    },
    {
     "name": "stdout",
     "output_type": "stream",
     "text": [
      "Salvato: 2025.7.16USDRON_oanda-TICK-No Session_MINUTEDATA.parquet\n",
      "\n",
      "Processing: 2025.7.16USDNOK_oanda-TICK-No Session.parquet\n",
      "Dati caricati (Dask): 492230476 righe\n",
      "Colonne: ['DateTime', 'Bid', 'Ask', 'Volume']\n",
      "Dati caricati (Dask): 492230476 righe\n",
      "Colonne: ['DateTime', 'Bid', 'Ask', 'Volume']\n",
      "Dati a minuto (Dask): 8167465 righe\n",
      "Dati a minuto (Dask): 8167465 righe\n"
     ]
    },
    {
     "name": "stderr",
     "output_type": "stream",
     "text": [
      "Processing files:  76%|███████▌  | 47/62 [1:34:48<29:20, 117.37s/it]"
     ]
    },
    {
     "name": "stdout",
     "output_type": "stream",
     "text": [
      "Salvato: 2025.7.16USDNOK_oanda-TICK-No Session_MINUTEDATA.parquet\n",
      "\n",
      "Processing: 2025.7.16USDDKK_oanda-TICK-No Session.parquet\n",
      "Dati caricati (Dask): 416899442 righe\n",
      "Colonne: ['DateTime', 'Bid', 'Ask', 'Volume']\n",
      "Dati caricati (Dask): 416899442 righe\n",
      "Colonne: ['DateTime', 'Bid', 'Ask', 'Volume']\n",
      "Dati a minuto (Dask): 8079347 righe\n",
      "Dati a minuto (Dask): 8079347 righe\n"
     ]
    },
    {
     "name": "stderr",
     "output_type": "stream",
     "text": [
      "Processing files:  77%|███████▋  | 48/62 [1:37:21<29:56, 128.32s/it]"
     ]
    },
    {
     "name": "stdout",
     "output_type": "stream",
     "text": [
      "Salvato: 2025.7.16USDDKK_oanda-TICK-No Session_MINUTEDATA.parquet\n",
      "\n",
      "Processing: 2025.7.16EURPLN_oanda-TICK-No Session.parquet\n",
      "Dati caricati (Dask): 151248232 righe\n",
      "Colonne: ['DateTime', 'Bid', 'Ask', 'Volume']\n",
      "Dati caricati (Dask): 151248232 righe\n",
      "Colonne: ['DateTime', 'Bid', 'Ask', 'Volume']\n",
      "Dati a minuto (Dask): 6096327 righe\n",
      "Dati a minuto (Dask): 6096327 righe\n"
     ]
    },
    {
     "name": "stderr",
     "output_type": "stream",
     "text": [
      "Processing files:  79%|███████▉  | 49/62 [1:38:17<23:06, 106.64s/it]"
     ]
    },
    {
     "name": "stdout",
     "output_type": "stream",
     "text": [
      "Salvato: 2025.7.16EURPLN_oanda-TICK-No Session_MINUTEDATA.parquet\n",
      "\n",
      "Processing: 2025.7.16EURCAD_oanda-TICK-No Session.parquet\n",
      "Dati caricati (Dask): 532439137 righe\n",
      "Colonne: ['DateTime', 'Bid', 'Ask', 'Volume']\n",
      "Dati caricati (Dask): 532439137 righe\n",
      "Colonne: ['DateTime', 'Bid', 'Ask', 'Volume']\n",
      "Dati a minuto (Dask): 7688439 righe\n",
      "Dati a minuto (Dask): 7688439 righe\n"
     ]
    },
    {
     "name": "stderr",
     "output_type": "stream",
     "text": [
      "Processing files:  81%|████████  | 50/62 [1:42:00<28:16, 141.36s/it]"
     ]
    },
    {
     "name": "stdout",
     "output_type": "stream",
     "text": [
      "Salvato: 2025.7.16EURCAD_oanda-TICK-No Session_MINUTEDATA.parquet\n",
      "\n",
      "Processing: 2025.7.16CHFJPY_oanda-TICK-No Session.parquet\n",
      "Dati caricati (Dask): 526222930 righe\n",
      "Colonne: ['DateTime', 'Bid', 'Ask', 'Volume']\n",
      "Dati caricati (Dask): 526222930 righe\n",
      "Colonne: ['DateTime', 'Bid', 'Ask', 'Volume']\n",
      "Dati a minuto (Dask): 8172558 righe\n",
      "Dati a minuto (Dask): 8172558 righe\n"
     ]
    },
    {
     "name": "stderr",
     "output_type": "stream",
     "text": [
      "Processing files:  82%|████████▏ | 51/62 [1:45:05<28:19, 154.51s/it]"
     ]
    },
    {
     "name": "stdout",
     "output_type": "stream",
     "text": [
      "Salvato: 2025.7.16CHFJPY_oanda-TICK-No Session_MINUTEDATA.parquet\n",
      "\n",
      "Processing: 2025.7.16AUDCHF_oanda-TICK-No Session.parquet\n",
      "Dati caricati (Dask): 334796692 righe\n",
      "Colonne: ['DateTime', 'Bid', 'Ask', 'Volume']\n",
      "Dati caricati (Dask): 334796692 righe\n",
      "Colonne: ['DateTime', 'Bid', 'Ask', 'Volume']\n",
      "Dati a minuto (Dask): 7197847 righe\n",
      "Dati a minuto (Dask): 7197847 righe\n"
     ]
    },
    {
     "name": "stderr",
     "output_type": "stream",
     "text": [
      "Processing files:  84%|████████▍ | 52/62 [1:47:03<23:56, 143.64s/it]"
     ]
    },
    {
     "name": "stdout",
     "output_type": "stream",
     "text": [
      "Salvato: 2025.7.16AUDCHF_oanda-TICK-No Session_MINUTEDATA.parquet\n",
      "\n",
      "Processing: 2025.7.16CHFPLN_oanda-TICK-No Session.parquet\n",
      "Dati caricati (Dask): 69078420 righe\n",
      "Colonne: ['DateTime', 'Bid', 'Ask', 'Volume']\n",
      "Dati caricati (Dask): 69078420 righe\n",
      "Colonne: ['DateTime', 'Bid', 'Ask', 'Volume']\n",
      "Dati a minuto (Dask): 3638552 righe\n",
      "Dati a minuto (Dask): 3638552 righe\n"
     ]
    },
    {
     "name": "stderr",
     "output_type": "stream",
     "text": [
      "Processing files:  85%|████████▌ | 53/62 [1:47:28<16:11, 107.99s/it]"
     ]
    },
    {
     "name": "stdout",
     "output_type": "stream",
     "text": [
      "Salvato: 2025.7.16CHFPLN_oanda-TICK-No Session_MINUTEDATA.parquet\n",
      "\n",
      "Processing: 2025.7.16USDRUB_oanda-TICK-No Session.parquet\n",
      "Dati caricati (Dask): 165683323 righe\n",
      "Colonne: ['DateTime', 'Bid', 'Ask', 'Volume']\n",
      "Dati caricati (Dask): 165683323 righe\n",
      "Colonne: ['DateTime', 'Bid', 'Ask', 'Volume']\n",
      "Dati a minuto (Dask): 2529170 righe\n",
      "Dati a minuto (Dask): 2529170 righe\n"
     ]
    },
    {
     "name": "stderr",
     "output_type": "stream",
     "text": [
      "Processing files:  87%|████████▋ | 54/62 [1:48:28<12:27, 93.48s/it] "
     ]
    },
    {
     "name": "stdout",
     "output_type": "stream",
     "text": [
      "Salvato: 2025.7.16USDRUB_oanda-TICK-No Session_MINUTEDATA.parquet\n",
      "\n",
      "Processing: 2025.7.16USDCZK_oanda-TICK-No Session.parquet\n",
      "Dati caricati (Dask): 184458370 righe\n",
      "Colonne: ['DateTime', 'Bid', 'Ask', 'Volume']\n",
      "Dati caricati (Dask): 184458370 righe\n",
      "Colonne: ['DateTime', 'Bid', 'Ask', 'Volume']\n",
      "Dati a minuto (Dask): 3465406 righe\n",
      "Dati a minuto (Dask): 3465406 righe\n"
     ]
    },
    {
     "name": "stderr",
     "output_type": "stream",
     "text": [
      "Processing files:  89%|████████▊ | 55/62 [1:49:36<10:01, 85.98s/it]"
     ]
    },
    {
     "name": "stdout",
     "output_type": "stream",
     "text": [
      "Salvato: 2025.7.16USDCZK_oanda-TICK-No Session_MINUTEDATA.parquet\n",
      "\n",
      "Processing: 2025.7.16NZDCHF_oanda-TICK-No Session.parquet\n",
      "Dati caricati (Dask): 325175230 righe\n",
      "Colonne: ['DateTime', 'Bid', 'Ask', 'Volume']\n",
      "Dati caricati (Dask): 325175230 righe\n",
      "Colonne: ['DateTime', 'Bid', 'Ask', 'Volume']\n",
      "Dati a minuto (Dask): 7191978 righe\n",
      "Dati a minuto (Dask): 7191978 righe\n"
     ]
    },
    {
     "name": "stderr",
     "output_type": "stream",
     "text": [
      "Processing files:  90%|█████████ | 56/62 [1:51:34<09:32, 95.46s/it]"
     ]
    },
    {
     "name": "stdout",
     "output_type": "stream",
     "text": [
      "Salvato: 2025.7.16NZDCHF_oanda-TICK-No Session_MINUTEDATA.parquet\n",
      "\n",
      "Processing: 2025.7.16USDMXN_oanda-TICK-No Session.parquet\n",
      "Dati caricati (Dask): 357319248 righe\n",
      "Colonne: ['DateTime', 'Bid', 'Ask', 'Volume']\n",
      "Dati caricati (Dask): 357319248 righe\n",
      "Colonne: ['DateTime', 'Bid', 'Ask', 'Volume']\n",
      "Dati a minuto (Dask): 5968437 righe\n",
      "Dati a minuto (Dask): 5968437 righe\n"
     ]
    },
    {
     "name": "stderr",
     "output_type": "stream",
     "text": [
      "Processing files:  92%|█████████▏| 57/62 [1:53:49<08:56, 107.24s/it]"
     ]
    },
    {
     "name": "stdout",
     "output_type": "stream",
     "text": [
      "Salvato: 2025.7.16USDMXN_oanda-TICK-No Session_MINUTEDATA.parquet\n",
      "\n",
      "Processing: 2025.7.16USDILS_oanda-TICK-No Session.parquet\n",
      "Dati caricati (Dask): 48549200 righe\n",
      "Colonne: ['DateTime', 'Bid', 'Ask', 'Volume']\n",
      "Dati caricati (Dask): 48549200 righe\n",
      "Colonne: ['DateTime', 'Bid', 'Ask', 'Volume']\n",
      "Dati a minuto (Dask): 1861626 righe\n",
      "Dati a minuto (Dask): 1861626 righe\n"
     ]
    },
    {
     "name": "stderr",
     "output_type": "stream",
     "text": [
      "Processing files:  94%|█████████▎| 58/62 [1:54:07<05:22, 80.63s/it] "
     ]
    },
    {
     "name": "stdout",
     "output_type": "stream",
     "text": [
      "Salvato: 2025.7.16USDILS_oanda-TICK-No Session_MINUTEDATA.parquet\n",
      "\n",
      "Processing: 2025.7.16GBPAUD_oanda-TICK-No Session.parquet\n",
      "Dati caricati (Dask): 547435699 righe\n",
      "Colonne: ['DateTime', 'Bid', 'Ask', 'Volume']\n",
      "Dati caricati (Dask): 547435699 righe\n",
      "Colonne: ['DateTime', 'Bid', 'Ask', 'Volume']\n",
      "Dati a minuto (Dask): 7161234 righe\n",
      "Dati a minuto (Dask): 7161234 righe\n"
     ]
    },
    {
     "name": "stderr",
     "output_type": "stream",
     "text": [
      "Processing files:  95%|█████████▌| 59/62 [1:57:24<05:46, 115.62s/it]"
     ]
    },
    {
     "name": "stdout",
     "output_type": "stream",
     "text": [
      "Salvato: 2025.7.16GBPAUD_oanda-TICK-No Session_MINUTEDATA.parquet\n",
      "\n",
      "Processing: 2025.7.16USDZAR_oanda-TICK-No Session.parquet\n",
      "Dati caricati (Dask): 372504159 righe\n",
      "Colonne: ['DateTime', 'Bid', 'Ask', 'Volume']\n",
      "Dati caricati (Dask): 372504159 righe\n",
      "Colonne: ['DateTime', 'Bid', 'Ask', 'Volume']\n",
      "Dati a minuto (Dask): 7115480 righe\n",
      "Dati a minuto (Dask): 7115480 righe\n"
     ]
    },
    {
     "name": "stderr",
     "output_type": "stream",
     "text": [
      "Processing files:  97%|█████████▋| 60/62 [1:59:35<04:00, 120.27s/it]"
     ]
    },
    {
     "name": "stdout",
     "output_type": "stream",
     "text": [
      "Salvato: 2025.7.16USDZAR_oanda-TICK-No Session_MINUTEDATA.parquet\n",
      "\n",
      "Processing: 2025.7.16CHFSGD_oanda-TICK-No Session.parquet\n",
      "Dati caricati (Dask): 276172287 righe\n",
      "Colonne: ['DateTime', 'Bid', 'Ask', 'Volume']\n",
      "Dati caricati (Dask): 276172287 righe\n",
      "Colonne: ['DateTime', 'Bid', 'Ask', 'Volume']\n",
      "Dati a minuto (Dask): 6587544 righe\n",
      "Dati a minuto (Dask): 6587544 righe\n"
     ]
    },
    {
     "name": "stderr",
     "output_type": "stream",
     "text": [
      "Processing files:  98%|█████████▊| 61/62 [2:01:12<01:53, 113.25s/it]"
     ]
    },
    {
     "name": "stdout",
     "output_type": "stream",
     "text": [
      "Salvato: 2025.7.16CHFSGD_oanda-TICK-No Session_MINUTEDATA.parquet\n",
      "\n",
      "Processing: 2025.7.16EURTRY_oanda-TICK-No Session.parquet\n",
      "Dati caricati (Dask): 346253327 righe\n",
      "Colonne: ['DateTime', 'Bid', 'Ask', 'Volume']\n",
      "Dati caricati (Dask): 346253327 righe\n",
      "Colonne: ['DateTime', 'Bid', 'Ask', 'Volume']\n",
      "Dati a minuto (Dask): 6153267 righe\n",
      "Dati a minuto (Dask): 6153267 righe\n"
     ]
    },
    {
     "name": "stderr",
     "output_type": "stream",
     "text": [
      "Processing files: 100%|██████████| 62/62 [2:03:12<00:00, 119.24s/it]"
     ]
    },
    {
     "name": "stdout",
     "output_type": "stream",
     "text": [
      "Salvato: 2025.7.16EURTRY_oanda-TICK-No Session_MINUTEDATA.parquet\n"
     ]
    },
    {
     "name": "stderr",
     "output_type": "stream",
     "text": [
      "\n"
     ]
    }
   ],
   "source": [
    "from tqdm import tqdm\n",
    "for file_name in tqdm(parquet_files, desc=\"Processing files\"):\n",
    "    file_path = os.path.join(bid_ask_data_dir, file_name)\n",
    "    print(f'\\nProcessing: {file_name}')\n",
    "    \n",
    "    # Load tick data with Dask\n",
    "    tick_data = data_loader.load_tick_data_dask(file_path)\n",
    "    print(f'Dati caricati (Dask): {tick_data.shape[0].compute()} righe')\n",
    "    print(f'Colonne: {tick_data.columns.tolist()}')\n",
    "    \n",
    "    # Rinomina colonne in minuscolo\n",
    "    tick_data = tick_data.rename(columns={col: col.lower() for col in tick_data.columns})\n",
    "    \n",
    "    # Assicurati che la colonna 'datetime' sia di tipo datetime e impostala come indice\n",
    "    if 'datetime' in tick_data.columns:\n",
    "        tick_data['datetime'] = dd.to_datetime(tick_data['datetime'], errors='coerce')\n",
    "        tick_data = tick_data.set_index('datetime')\n",
    "    \n",
    "    # Prepara i dati a minuto con Dask\n",
    "    minute_data = data_loader.prepare_minute_data_dask(tick_data, resample_rule='1T')\n",
    "    print(f'Dati a minuto (Dask): {minute_data.shape[0].compute()} righe')\n",
    "    \n",
    "    # Drop tick_data from memory\n",
    "    del tick_data\n",
    "    import gc\n",
    "    gc.collect()\n",
    "    \n",
    "    # Save minute_data as Parquet (Dask) with overwrite\n",
    "    minute_file_name = file_name.replace('.parquet', '_MINUTEDATA.parquet')\n",
    "    minute_file_path = os.path.join(bid_ask_data_dir, minute_file_name)\n",
    "    minute_data.to_parquet(minute_file_path, write_index=True, compute=True, overwrite=True)\n",
    "    print(f'Salvato: {minute_file_name}')"
   ]
  }
 ],
 "metadata": {
  "kernelspec": {
   "display_name": "rapids-23.12",
   "language": "python",
   "name": "python3"
  },
  "language_info": {
   "codemirror_mode": {
    "name": "ipython",
    "version": 3
   },
   "file_extension": ".py",
   "mimetype": "text/x-python",
   "name": "python",
   "nbconvert_exporter": "python",
   "pygments_lexer": "ipython3",
   "version": "3.10.14"
  }
 },
 "nbformat": 4,
 "nbformat_minor": 5
}
