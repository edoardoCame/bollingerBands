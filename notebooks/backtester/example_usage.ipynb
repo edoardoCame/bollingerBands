{
 "cells": [
  {
   "cell_type": "markdown",
   "id": "9520e998",
   "metadata": {},
   "source": [
    "# Utilizzo della libreria Backtester\n",
    "\n",
    "Questo notebook mostra come utilizzare la libreria di backtesting che abbiamo creato per testare strategie di trading con le Bollinger Bands."
   ]
  },
  {
   "cell_type": "markdown",
   "id": "98d216a7",
   "metadata": {},
   "source": [
    "## 1. Importazione delle librerie"
   ]
  },
  {
   "cell_type": "code",
   "execution_count": 1,
   "id": "a5655b0a",
   "metadata": {},
   "outputs": [],
   "source": [
    "# Importa i moduli della libreria backtester\n",
    "import sys\n",
    "sys.path.append('/home/edocame/Desktop/bollingerBands/notebooks')  # Aggiungi il path\n",
    "\n",
    "from backtester import data_loader, indicators, backtest_engine, visualization, utils\n",
    "import pandas as pd\n",
    "import numpy as np\n",
    "\n",
    "# Importa anche matplotlib per i grafici\n",
    "import matplotlib.pyplot as plt\n",
    "%matplotlib inline"
   ]
  },
  {
   "cell_type": "markdown",
   "id": "2830c5fe",
   "metadata": {},
   "source": [
    "## 2. Caricamento e preparazione dei dati"
   ]
  },
  {
   "cell_type": "code",
   "execution_count": 2,
   "id": "c178fd8c",
   "metadata": {},
   "outputs": [
    {
     "name": "stdout",
     "output_type": "stream",
     "text": [
      "Dati caricati: 378784726 righe\n",
      "Periodo: 0 - 378784725\n",
      "Colonne: ['datetime', 'bid', 'ask']\n",
      "\n",
      "Prime righe:\n",
      "                 datetime      bid      ask\n",
      "0 2003-08-04 03:00:03.491  1.53844  1.53854\n",
      "1 2003-08-04 03:00:36.109  1.53820  1.53845\n",
      "2 2003-08-04 03:00:36.301  1.53834  1.53859\n",
      "3 2003-08-04 03:00:46.305  1.53822  1.53832\n",
      "4 2003-08-04 03:00:46.497  1.53838  1.53848\n"
     ]
    }
   ],
   "source": [
    "# Carica i dati tick dal file Parquet\n",
    "file_path = '/home/edocame/Desktop/data_python/03_BID_ASK_DATA/EURCHF_oanda_alltime.parquet'\n",
    "tick_data = data_loader.load_parquet_data(file_path)\n",
    "\n",
    "print(f\"Dati caricati: {len(tick_data)} righe\")\n",
    "print(f\"Periodo: {tick_data.index.min()} - {tick_data.index.max()}\")\n",
    "print(f\"Colonne: {tick_data.columns.tolist()}\")\n",
    "print(\"\\nPrime righe:\")\n",
    "print(tick_data.head())"
   ]
  },
  {
   "cell_type": "code",
   "execution_count": 3,
   "id": "a312a119",
   "metadata": {},
   "outputs": [
    {
     "name": "stdout",
     "output_type": "stream",
     "text": [
      "Colonna datetime già in formato datetime.\n",
      "Colonna datetime impostata come indice.\n",
      "                             bid      ask\n",
      "datetime                                 \n",
      "2003-08-04 03:00:03.491  1.53844  1.53854\n",
      "2003-08-04 03:00:36.109  1.53820  1.53845\n",
      "2003-08-04 03:00:36.301  1.53834  1.53859\n",
      "2003-08-04 03:00:46.305  1.53822  1.53832\n",
      "2003-08-04 03:00:46.497  1.53838  1.53848\n"
     ]
    }
   ],
   "source": [
    "# Assicurati che la colonna 'datetime' sia di tipo datetime e impostala come indice\n",
    "if not pd.api.types.is_datetime64_any_dtype(tick_data['datetime']):\n",
    "    tick_data['datetime'] = pd.to_datetime(tick_data['datetime'], errors='coerce')\n",
    "    print('Colonna datetime convertita in datetime.')\n",
    "else:\n",
    "    print('Colonna datetime già in formato datetime.')\n",
    "\n",
    "# Imposta la colonna 'datetime' come indice\n",
    "if tick_data.index.name != 'datetime':\n",
    "    tick_data = tick_data.set_index('datetime')\n",
    "    print('Colonna datetime impostata come indice.')\n",
    "else:\n",
    "    print('Colonna datetime già impostata come indice.')\n",
    "\n",
    "# Mostra le prime righe per conferma\n",
    "print(tick_data.head())"
   ]
  },
  {
   "cell_type": "code",
   "execution_count": 4,
   "id": "dc21b59b",
   "metadata": {},
   "outputs": [
    {
     "name": "stderr",
     "output_type": "stream",
     "text": [
      "/home/edocame/Desktop/bollingerBands/notebooks/backtester/data_loader.py:96: FutureWarning: 'T' is deprecated and will be removed in a future version, please use 'min' instead.\n",
      "  minute_sample = tick_data.resample(resample_rule).agg({'bid': 'first', 'ask': 'first'})\n"
     ]
    },
    {
     "name": "stdout",
     "output_type": "stream",
     "text": [
      "Dati a minuto: 8182527 righe\n",
      "Periodo: 2003-08-04 03:00:00 - 2025-07-11 23:59:00\n",
      "\n",
      "Prime righe:\n",
      "                         bid      ask  midprice\n",
      "datetime                                       \n",
      "2003-08-04 03:00:00  1.53844  1.53854   1.53849\n",
      "2003-08-04 03:01:00  1.53803  1.53823   1.53813\n",
      "2003-08-04 03:02:00  1.53777  1.53801   1.53789\n",
      "2003-08-04 03:03:00  1.53772  1.53796   1.53784\n",
      "2003-08-04 03:04:00  1.53764  1.53774   1.53769\n"
     ]
    }
   ],
   "source": [
    "# Prepara i dati a minuto\n",
    "minute_data = data_loader.prepare_minute_data(tick_data, resample_rule='1T')\n",
    "\n",
    "print(f\"Dati a minuto: {len(minute_data)} righe\")\n",
    "print(f\"Periodo: {minute_data.index.min()} - {minute_data.index.max()}\")\n",
    "print(\"\\nPrime righe:\")\n",
    "print(minute_data.head())"
   ]
  },
  {
   "cell_type": "markdown",
   "id": "07586dac",
   "metadata": {},
   "source": [
    "## 3. Calcolo degli indicatori tecnici"
   ]
  },
  {
   "cell_type": "code",
   "execution_count": null,
   "id": "8659b769",
   "metadata": {},
   "outputs": [],
   "source": [
    "# Calcola le Bollinger Bands\n",
    "window = 1440  # 24 ore = 1440 minuti\n",
    "num_std_dev = 1.0\n",
    "\n",
    "data_with_bands = indicators.bollinger_bands(\n",
    "    minute_data, \n",
    "    price_column='midprice',\n",
    "    window=window, \n",
    "    num_std_dev=num_std_dev\n",
    ")\n",
    "\n",
    "# Rimuovi le righe con valori NaN\n",
    "complete_data = data_with_bands.dropna()\n",
    "\n",
    "print(f\"Dati completi per il backtest: {len(complete_data)} righe\")\n",
    "print(f\"Colonne disponibili: {complete_data.columns.tolist()}\")\n",
    "print(\"\\nPrime righe con indicatori:\")\n",
    "print(complete_data.head())"
   ]
  },
  {
   "cell_type": "markdown",
   "id": "6d85d522",
   "metadata": {},
   "source": [
    "## 4. Esecuzione del backtest"
   ]
  },
  {
   "cell_type": "code",
   "execution_count": null,
   "id": "13d805cf",
   "metadata": {},
   "outputs": [],
   "source": [
    "# Crea e esegui il backtest\n",
    "backtester = backtest_engine.Backtest(complete_data)\n",
    "results_data = backtester.run()\n",
    "\n",
    "# Stampa il riassunto delle performance\n",
    "backtester.print_performance_summary()"
   ]
  },
  {
   "cell_type": "markdown",
   "id": "904feb17",
   "metadata": {},
   "source": [
    "## 5. Analisi dei risultati"
   ]
  },
  {
   "cell_type": "code",
   "execution_count": null,
   "id": "69f4131b",
   "metadata": {},
   "outputs": [],
   "source": [
    "# Ottieni i risultati come DataFrame\n",
    "trades_df = backtester.get_trades_dataframe()\n",
    "\n",
    "if not trades_df.empty:\n",
    "    print(f\"Numero di trade: {len(trades_df)}\")\n",
    "    print(\"\\nPrimi 10 trade:\")\n",
    "    print(trades_df.head(10))\n",
    "    \n",
    "    # Statistiche aggiuntive\n",
    "    win_loss_stats = utils.calculate_win_loss_ratio(trades_df['PnL'])\n",
    "    print(\"\\nStatistiche Win/Loss:\")\n",
    "    for key, value in win_loss_stats.items():\n",
    "        print(f\"  {key}: {value:.2f}\")\n",
    "else:\n",
    "    print(\"Nessun trade eseguito.\")"
   ]
  },
  {
   "cell_type": "markdown",
   "id": "a9d79421",
   "metadata": {},
   "source": [
    "## 6. Visualizzazione dei risultati"
   ]
  },
  {
   "cell_type": "code",
   "execution_count": null,
   "id": "a56ccbaa",
   "metadata": {},
   "outputs": [],
   "source": [
    "# Visualizza i prezzi con le Bollinger Bands\n",
    "# Prendi un subset dei dati per una visualizzazione più chiara\n",
    "subset_data = complete_data.iloc[-2000:]  # Ultimi 2000 punti\n",
    "\n",
    "visualization.plot_price_with_bollinger_bands(\n",
    "    subset_data, \n",
    "    title=\"EURCHF con Bollinger Bands (ultimi 2000 punti)\"\n",
    ")"
   ]
  },
  {
   "cell_type": "code",
   "execution_count": null,
   "id": "7cc5cce7",
   "metadata": {},
   "outputs": [],
   "source": [
    "# Visualizza il PnL cumulativo\n",
    "if not trades_df.empty:\n",
    "    visualization.plot_cumulative_pnl(\n",
    "        trades_df, \n",
    "        title=\"PnL Cumulativo - Strategia Bollinger Bands\"\n",
    "    )"
   ]
  },
  {
   "cell_type": "code",
   "execution_count": null,
   "id": "5152675a",
   "metadata": {},
   "outputs": [],
   "source": [
    "# Visualizza la distribuzione dei trade\n",
    "if not trades_df.empty:\n",
    "    visualization.plot_trade_distribution(\n",
    "        trades_df, \n",
    "        title=\"Distribuzione PnL dei Trade\"\n",
    "    )"
   ]
  },
  {
   "cell_type": "markdown",
   "id": "e04e124f",
   "metadata": {},
   "source": [
    "## 7. Grafici interattivi (Plotly)"
   ]
  },
  {
   "cell_type": "code",
   "execution_count": null,
   "id": "190e0e86",
   "metadata": {},
   "outputs": [],
   "source": [
    "# Grafico interattivo dei prezzi con Bollinger Bands\n",
    "visualization.plot_interactive_price_bands(\n",
    "    subset_data, \n",
    "    title=\"EURCHF con Bollinger Bands - Grafico Interattivo\"\n",
    ")"
   ]
  },
  {
   "cell_type": "code",
   "execution_count": null,
   "id": "a0c489a1",
   "metadata": {},
   "outputs": [],
   "source": [
    "# Grafico interattivo del PnL cumulativo\n",
    "if not trades_df.empty:\n",
    "    visualization.plot_interactive_cumulative_pnl(\n",
    "        trades_df, \n",
    "        title=\"PnL Cumulativo - Grafico Interattivo\"\n",
    "    )"
   ]
  },
  {
   "cell_type": "markdown",
   "id": "28549fd8",
   "metadata": {},
   "source": [
    "## 8. Confronto con dati reali (se disponibili)"
   ]
  },
  {
   "cell_type": "code",
   "execution_count": null,
   "id": "dcdfd694",
   "metadata": {},
   "outputs": [],
   "source": [
    "# Carica i dati di balance reali per confronto\n",
    "try:\n",
    "    balance_file = '/home/edocame/Desktop/bollingerBands/DATA/eurchf_1440_01.csv'\n",
    "    balance_data = data_loader.load_balance_data(balance_file)\n",
    "    \n",
    "    print(f\"Dati balance caricati: {len(balance_data)} righe\")\n",
    "    print(f\"Periodo balance: {balance_data.index.min()} - {balance_data.index.max()}\")\n",
    "    \n",
    "    # Confronta con i risultati del backtest\n",
    "    if not trades_df.empty:\n",
    "        # Trova il periodo comune tra backtest e balance\n",
    "        # Assumiamo che trades_df abbia una colonna 'Exit_Time' con i timestamp\n",
    "        if 'Exit_Time' in trades_df.columns:\n",
    "            backtest_start = trades_df['Exit_Time'].min()\n",
    "            backtest_end = trades_df['Exit_Time'].max()\n",
    "        else:\n",
    "            # Se non c'è Exit_Time, usa l'indice del DataFrame completo\n",
    "            backtest_start = complete_data.index.min()\n",
    "            backtest_end = complete_data.index.max()\n",
    "        \n",
    "        balance_start = balance_data.index.min()\n",
    "        balance_end = balance_data.index.max()\n",
    "        \n",
    "        # Calcola il periodo comune\n",
    "        common_start = max(backtest_start, balance_start)\n",
    "        common_end = min(backtest_end, balance_end)\n",
    "        \n",
    "        print(f\"\\nPeriodo backtest: {backtest_start} - {backtest_end}\")\n",
    "        print(f\"Periodo balance: {balance_start} - {balance_end}\")\n",
    "        print(f\"Periodo comune: {common_start} - {common_end}\")\n",
    "        \n",
    "        # Verifica che esista un periodo comune\n",
    "        if common_start <= common_end:\n",
    "            # Filtra i dati al periodo comune\n",
    "            if 'Exit_Time' in trades_df.columns:\n",
    "                trades_common = trades_df[\n",
    "                    (trades_df['Exit_Time'] >= common_start) & \n",
    "                    (trades_df['Exit_Time'] <= common_end)\n",
    "                ]\n",
    "            else:\n",
    "                # Se non c'è Exit_Time, crea un dataset filtrato basato sui timestamp\n",
    "                trades_common = trades_df.copy()\n",
    "                \n",
    "            balance_common = balance_data.loc[common_start:common_end]\n",
    "            \n",
    "            print(f\"\\nTrade nel periodo comune: {len(trades_common)}\")\n",
    "            print(f\"Righe balance nel periodo comune: {len(balance_common)}\")\n",
    "            \n",
    "            # Crea il grafico di confronto solo per il periodo comune\n",
    "            if len(trades_common) > 0 and len(balance_common) > 0:\n",
    "                visualization.compare_backtest_vs_real_balance(\n",
    "                    trades_common, \n",
    "                    balance_common, \n",
    "                    title=f\"Confronto: Backtest vs Balance Reale ({common_start.strftime('%Y-%m-%d')} - {common_end.strftime('%Y-%m-%d')})\"\n",
    "                )\n",
    "                \n",
    "                # Mostra anche alcune statistiche di confronto\n",
    "                print(f\"\\n=== STATISTICHE PERIODO COMUNE ===\")\n",
    "                print(f\"PnL finale backtest: {trades_common['Cumulative_PnL'].iloc[-1]:.2f} pips\")\n",
    "                print(f\"Balance finale reale: {balance_common['<BALANCE>'].iloc[-1]:.2f}\")\n",
    "                \n",
    "                # Calcola la correlazione se possibile\n",
    "                if len(trades_common) > 1 and len(balance_common) > 1:\n",
    "                    # Resample per allineare le frequenze\n",
    "                    try:\n",
    "                        balance_daily = balance_common['<BALANCE>'].resample('D').last().dropna()\n",
    "                        trades_daily = trades_common.set_index('Exit_Time')['Cumulative_PnL'].resample('D').last().dropna()\n",
    "                        \n",
    "                        # Trova l'intersezione delle date\n",
    "                        common_dates = balance_daily.index.intersection(trades_daily.index)\n",
    "                        \n",
    "                        if len(common_dates) > 2:\n",
    "                            corr = balance_daily.loc[common_dates].corr(trades_daily.loc[common_dates])\n",
    "                            print(f\"Correlazione giornaliera: {corr:.3f}\")\n",
    "                        else:\n",
    "                            print(\"Insufficienti dati per calcolare la correlazione\")\n",
    "                    except Exception as e:\n",
    "                        print(f\"Errore nel calcolo della correlazione: {e}\")\n",
    "            else:\n",
    "                print(\"ERRORE: Nessun dato disponibile nel periodo comune filtrato\")\n",
    "        else:\n",
    "            print(\"ERRORE: Non ci sono date in comune tra backtest e balance!\")\n",
    "    else:\n",
    "        print(\"Nessun trade disponibile per il confronto\")\n",
    "        \n",
    "except Exception as e:\n",
    "    print(f\"Errore nel caricamento dei dati balance: {e}\")"
   ]
  },
  {
   "cell_type": "markdown",
   "id": "779cb15b",
   "metadata": {},
   "source": [
    "## 9. Dashboard completo"
   ]
  },
  {
   "cell_type": "code",
   "execution_count": null,
   "id": "2439d269",
   "metadata": {},
   "outputs": [],
   "source": [
    "# Crea un dashboard completo con tutti i grafici\n",
    "if not trades_df.empty:\n",
    "    visualization.create_performance_dashboard(\n",
    "        subset_data, \n",
    "        trades_df, \n",
    "        backtester.performance_metrics\n",
    "    )"
   ]
  },
  {
   "cell_type": "markdown",
   "id": "aba157d7",
   "metadata": {},
   "source": [
    "## 10. Test con parametri diversi"
   ]
  },
  {
   "cell_type": "code",
   "execution_count": null,
   "id": "9ad54cff",
   "metadata": {},
   "outputs": [],
   "source": [
    "# Forza il reload del modulo per assicurarsi che le nuove funzioni siano disponibili\n",
    "import importlib\n",
    "import sys\n",
    "\n",
    "# Reload del modulo backtest_engine per caricare le nuove funzioni\n",
    "if 'backtester.backtest_engine' in sys.modules:\n",
    "    importlib.reload(sys.modules['backtester.backtest_engine'])\n",
    "\n",
    "# Importa le funzioni di ottimizzazione dal backtest_engine\n",
    "from backtester.backtest_engine import optimize_parameters, plot_top_equity_curves\n",
    "\n",
    "# Esegui l'ottimizzazione dei parametri con multiprocessing\n",
    "print(\"Avvio ottimizzazione parametri...\")\n",
    "parameter_results = optimize_parameters(\n",
    "    minute_data=minute_data,\n",
    "    window_start=60,\n",
    "    window_stop=14400,\n",
    "    window_step=60,\n",
    "    std_start=0.2,\n",
    "    std_stop=4.0,\n",
    "    std_step=0.2,\n",
    "    price_column='midprice'\n",
    ")\n",
    "\n",
    "# Mostra i risultati completi\n",
    "print(\"\\n=== TUTTI I RISULTATI ===\")\n",
    "print(parameter_results.to_string(index=False))\n",
    "\n",
    "# Plotta le top 5 equity curves usando la funzione dedicata\n",
    "print(\"\\nGenerazione grafici delle migliori equity curves...\")\n",
    "plot_top_equity_curves(\n",
    "    results_df=parameter_results,\n",
    "    minute_data=minute_data,\n",
    "    top_n=5,\n",
    "    price_column='midprice'\n",
    ")"
   ]
  },
  {
   "cell_type": "markdown",
   "id": "4aec0f43",
   "metadata": {},
   "source": [
    "## Walk forward opt"
   ]
  },
  {
   "cell_type": "code",
   "execution_count": 5,
   "id": "8e3a7530",
   "metadata": {},
   "outputs": [
    {
     "name": "stdout",
     "output_type": "stream",
     "text": [
      "Subset creato: 400739 righe\n",
      "Periodo: 2023-01-02 00:42:00 - 2024-01-31 23:59:00\n",
      "                         bid      ask  midprice\n",
      "datetime                                       \n",
      "2023-01-02 00:42:00  0.98520  0.98688  0.986040\n",
      "2023-01-02 01:15:00  0.98607  0.98889  0.987480\n",
      "2023-01-02 01:16:00  0.98610  0.98891  0.987505\n",
      "2023-01-02 01:17:00  0.98609  0.98890  0.987495\n",
      "2023-01-02 01:18:00  0.98610  0.98891  0.987505\n"
     ]
    }
   ],
   "source": [
    "# Crea un subset di minute_data in base a start_date e end_date\n",
    "start_date = '2023-01-01'\n",
    "end_date = '2024-01-31'\n",
    "subset_df = minute_data.loc[start_date:end_date]\n",
    "\n",
    "print(f\"Subset creato: {len(subset_df)} righe\")\n",
    "print(f\"Periodo: {subset_df.index.min()} - {subset_df.index.max()}\")\n",
    "print(subset_df.head())"
   ]
  },
  {
   "cell_type": "code",
   "execution_count": 6,
   "id": "3dff1daa",
   "metadata": {},
   "outputs": [
    {
     "name": "stdout",
     "output_type": "stream",
     "text": [
      "Starting Walk Forward Optimization...\n",
      "=== WALK FORWARD OPTIMIZATION ===\n",
      "Lookback period: 90 days (129600 minutes)\n",
      "Optimization interval: 14 days\n",
      "Total data period: 2023-01-02 00:42:00 to 2024-01-31 23:59:00\n",
      "\n",
      "--- Period 1 ---\n",
      "Optimization: 2023-01-02 00:42:00 to 2023-05-08 17:55:00\n",
      "Trading: 2023-05-08 17:56:00 to 2023-05-26 20:19:00\n",
      "Starting optimization with 18 parameter combinations...\n",
      "Using 16 cores for parallel computation.\n"
     ]
    },
    {
     "name": "stderr",
     "output_type": "stream",
     "text": [
      "Parameter optimization: 100%|██████████| 18/18 [00:01<00:00,  9.59it/s]\n"
     ]
    },
    {
     "name": "stdout",
     "output_type": "stream",
     "text": [
      "\n",
      "=== OPTIMIZATION COMPLETED ===\n",
      "Tested 18 parameter sets\n",
      "Best result: -244.10 pips\n",
      "Optimal parameters: window=400.0, std_dev=3.0\n",
      "Optimal parameters: window=400, std_dev=3.0\n",
      "Period 1 results: PnL=95.80 pips, Trades=35, Win Rate=77.1%\n",
      "\n",
      "--- Period 2 ---\n",
      "Optimization: 2023-01-20 05:49:00 to 2023-05-26 20:19:00\n",
      "Trading: 2023-05-26 20:20:00 to 2023-06-15 23:03:00\n",
      "Starting optimization with 18 parameter combinations...\n",
      "Using 16 cores for parallel computation.\n"
     ]
    },
    {
     "name": "stderr",
     "output_type": "stream",
     "text": [
      "Parameter optimization: 100%|██████████| 18/18 [00:00<00:00, 106.89it/s]\n"
     ]
    },
    {
     "name": "stdout",
     "output_type": "stream",
     "text": [
      "\n",
      "=== OPTIMIZATION COMPLETED ===\n",
      "Tested 18 parameter sets\n",
      "Best result: -16.50 pips\n",
      "Optimal parameters: window=600.0, std_dev=3.0\n",
      "Optimal parameters: window=600, std_dev=3.0\n",
      "Period 2 results: PnL=-62.80 pips, Trades=26, Win Rate=69.2%\n",
      "\n",
      "--- Period 3 ---\n",
      "Optimization: 2023-02-09 08:03:00 to 2023-06-15 23:03:00\n",
      "Trading: 2023-06-15 23:04:00 to 2023-07-06 02:33:00\n",
      "Starting optimization with 18 parameter combinations...\n",
      "Using 16 cores for parallel computation.\n"
     ]
    },
    {
     "name": "stderr",
     "output_type": "stream",
     "text": [
      "Parameter optimization: 100%|██████████| 18/18 [00:00<00:00, 97.25it/s]\n"
     ]
    },
    {
     "name": "stdout",
     "output_type": "stream",
     "text": [
      "\n",
      "=== OPTIMIZATION COMPLETED ===\n",
      "Tested 18 parameter sets\n",
      "Best result: 22.10 pips\n",
      "Optimal parameters: window=600.0, std_dev=3.0\n",
      "Optimal parameters: window=600, std_dev=3.0\n",
      "Period 3 results: PnL=12.00 pips, Trades=25, Win Rate=64.0%\n",
      "\n",
      "--- Period 4 ---\n",
      "Optimization: 2023-03-01 10:18:00 to 2023-07-06 02:33:00\n",
      "Trading: 2023-07-06 02:34:00 to 2023-07-26 06:41:00\n",
      "Starting optimization with 18 parameter combinations...\n",
      "Using 16 cores for parallel computation.\n"
     ]
    },
    {
     "name": "stderr",
     "output_type": "stream",
     "text": [
      "Parameter optimization: 100%|██████████| 18/18 [00:00<00:00, 112.50it/s]\n"
     ]
    },
    {
     "name": "stdout",
     "output_type": "stream",
     "text": [
      "\n",
      "=== OPTIMIZATION COMPLETED ===\n",
      "Tested 18 parameter sets\n",
      "Best result: 53.00 pips\n",
      "Optimal parameters: window=600.0, std_dev=3.0\n",
      "Optimal parameters: window=600, std_dev=3.0\n",
      "Period 4 results: PnL=-155.60 pips, Trades=24, Win Rate=54.2%\n",
      "\n",
      "--- Period 5 ---\n",
      "Optimization: 2023-03-21 13:19:00 to 2023-07-26 06:41:00\n",
      "Trading: 2023-07-26 06:42:00 to 2023-08-15 10:24:00\n",
      "Starting optimization with 18 parameter combinations...\n",
      "Using 16 cores for parallel computation.\n"
     ]
    },
    {
     "name": "stderr",
     "output_type": "stream",
     "text": [
      "Parameter optimization: 100%|██████████| 18/18 [00:00<00:00, 115.61it/s]\n"
     ]
    },
    {
     "name": "stdout",
     "output_type": "stream",
     "text": [
      "\n",
      "=== OPTIMIZATION COMPLETED ===\n",
      "Tested 18 parameter sets\n",
      "Best result: -110.50 pips\n",
      "Optimal parameters: window=600.0, std_dev=2.5\n",
      "Optimal parameters: window=600, std_dev=2.5\n",
      "Period 5 results: PnL=56.70 pips, Trades=45, Win Rate=66.7%\n",
      "\n",
      "--- Period 6 ---\n",
      "Optimization: 2023-04-10 15:10:00 to 2023-08-15 10:24:00\n",
      "Trading: 2023-08-15 10:25:00 to 2023-09-04 14:09:00\n",
      "Starting optimization with 18 parameter combinations...\n",
      "Using 16 cores for parallel computation.\n"
     ]
    },
    {
     "name": "stderr",
     "output_type": "stream",
     "text": [
      "Parameter optimization: 100%|██████████| 18/18 [00:00<00:00, 109.82it/s]\n"
     ]
    },
    {
     "name": "stdout",
     "output_type": "stream",
     "text": [
      "\n",
      "=== OPTIMIZATION COMPLETED ===\n",
      "Tested 18 parameter sets\n",
      "Best result: 13.50 pips\n",
      "Optimal parameters: window=600.0, std_dev=2.5\n",
      "Optimal parameters: window=600, std_dev=2.5\n",
      "Period 6 results: PnL=-43.20 pips, Trades=32, Win Rate=68.8%\n",
      "\n",
      "--- Period 7 ---\n",
      "Optimization: 2023-04-28 16:47:00 to 2023-09-04 14:09:00\n",
      "Trading: 2023-09-04 14:10:00 to 2023-09-22 18:44:00\n",
      "Starting optimization with 18 parameter combinations...\n",
      "Using 16 cores for parallel computation.\n"
     ]
    },
    {
     "name": "stderr",
     "output_type": "stream",
     "text": [
      "Parameter optimization: 100%|██████████| 18/18 [00:00<00:00, 100.43it/s]\n"
     ]
    },
    {
     "name": "stdout",
     "output_type": "stream",
     "text": [
      "\n",
      "=== OPTIMIZATION COMPLETED ===\n",
      "Tested 18 parameter sets\n",
      "Best result: -43.90 pips\n",
      "Optimal parameters: window=600.0, std_dev=2.5\n",
      "Optimal parameters: window=600, std_dev=2.5\n",
      "Period 7 results: PnL=-17.60 pips, Trades=37, Win Rate=64.9%\n",
      "\n",
      "--- Period 8 ---\n",
      "Optimization: 2023-05-18 19:02:00 to 2023-09-22 18:44:00\n",
      "Trading: 2023-09-22 18:45:00 to 2023-10-12 22:20:00\n",
      "Starting optimization with 18 parameter combinations...\n",
      "Using 16 cores for parallel computation.\n"
     ]
    },
    {
     "name": "stderr",
     "output_type": "stream",
     "text": [
      "Parameter optimization: 100%|██████████| 18/18 [00:00<00:00, 112.84it/s]\n"
     ]
    },
    {
     "name": "stdout",
     "output_type": "stream",
     "text": [
      "\n",
      "=== OPTIMIZATION COMPLETED ===\n",
      "Tested 18 parameter sets\n",
      "Best result: -87.40 pips\n",
      "Optimal parameters: window=600.0, std_dev=2.5\n",
      "Optimal parameters: window=600, std_dev=2.5\n",
      "Period 8 results: PnL=101.90 pips, Trades=36, Win Rate=72.2%\n",
      "\n",
      "--- Period 9 ---\n",
      "Optimization: 2023-06-07 22:02:00 to 2023-10-12 22:20:00\n",
      "Trading: 2023-10-12 22:21:00 to 2023-11-02 01:49:00\n",
      "Starting optimization with 18 parameter combinations...\n",
      "Using 16 cores for parallel computation.\n"
     ]
    },
    {
     "name": "stderr",
     "output_type": "stream",
     "text": [
      "Parameter optimization: 100%|██████████| 18/18 [00:00<00:00, 119.45it/s]\n"
     ]
    },
    {
     "name": "stdout",
     "output_type": "stream",
     "text": [
      "\n",
      "=== OPTIMIZATION COMPLETED ===\n",
      "Tested 18 parameter sets\n",
      "Best result: 4.70 pips\n",
      "Optimal parameters: window=600.0, std_dev=2.5\n",
      "Optimal parameters: window=600, std_dev=2.5\n",
      "Period 9 results: PnL=-137.30 pips, Trades=38, Win Rate=71.1%\n",
      "\n",
      "--- Period 10 ---\n",
      "Optimization: 2023-06-28 00:49:00 to 2023-11-02 01:49:00\n",
      "Trading: 2023-11-02 01:50:00 to 2023-11-22 05:49:00\n",
      "Starting optimization with 18 parameter combinations...\n",
      "Using 16 cores for parallel computation.\n"
     ]
    },
    {
     "name": "stderr",
     "output_type": "stream",
     "text": [
      "Parameter optimization: 100%|██████████| 18/18 [00:00<00:00, 119.10it/s]\n"
     ]
    },
    {
     "name": "stdout",
     "output_type": "stream",
     "text": [
      "\n",
      "=== OPTIMIZATION COMPLETED ===\n",
      "Tested 18 parameter sets\n",
      "Best result: -149.40 pips\n",
      "Optimal parameters: window=600.0, std_dev=2.5\n",
      "Optimal parameters: window=600, std_dev=2.5\n",
      "Period 10 results: PnL=-32.80 pips, Trades=26, Win Rate=61.5%\n",
      "\n",
      "--- Period 11 ---\n",
      "Optimization: 2023-07-18 05:03:00 to 2023-11-22 05:49:00\n",
      "Trading: 2023-11-22 05:50:00 to 2023-12-12 09:35:00\n",
      "Starting optimization with 18 parameter combinations...\n",
      "Using 16 cores for parallel computation.\n"
     ]
    },
    {
     "name": "stderr",
     "output_type": "stream",
     "text": [
      "Parameter optimization: 100%|██████████| 18/18 [00:00<00:00, 92.78it/s]\n"
     ]
    },
    {
     "name": "stdout",
     "output_type": "stream",
     "text": [
      "\n",
      "=== OPTIMIZATION COMPLETED ===\n",
      "Tested 18 parameter sets\n",
      "Best result: -70.10 pips\n",
      "Optimal parameters: window=600.0, std_dev=3.0\n",
      "Optimal parameters: window=600, std_dev=3.0\n",
      "Period 11 results: PnL=-101.70 pips, Trades=22, Win Rate=63.6%\n",
      "\n",
      "--- Period 12 ---\n",
      "Optimization: 2023-08-07 08:22:00 to 2023-12-12 09:35:00\n",
      "Trading: 2023-12-12 09:36:00 to 2024-01-03 12:18:00\n",
      "Starting optimization with 18 parameter combinations...\n",
      "Using 16 cores for parallel computation.\n"
     ]
    },
    {
     "name": "stderr",
     "output_type": "stream",
     "text": [
      "Parameter optimization: 100%|██████████| 18/18 [00:00<00:00, 117.94it/s]\n"
     ]
    },
    {
     "name": "stdout",
     "output_type": "stream",
     "text": [
      "\n",
      "=== OPTIMIZATION COMPLETED ===\n",
      "Tested 18 parameter sets\n",
      "Best result: -145.50 pips\n",
      "Optimal parameters: window=500.0, std_dev=2.5\n",
      "Optimal parameters: window=500, std_dev=2.5\n",
      "Period 12 results: PnL=-8.50 pips, Trades=37, Win Rate=78.4%\n",
      "\n",
      "--- Period 13 ---\n",
      "Optimization: 2023-08-25 12:21:00 to 2024-01-03 12:18:00\n",
      "Trading: 2024-01-03 12:19:00 to 2024-01-23 15:49:00\n",
      "Starting optimization with 18 parameter combinations...\n",
      "Using 16 cores for parallel computation.\n"
     ]
    },
    {
     "name": "stderr",
     "output_type": "stream",
     "text": [
      "Parameter optimization: 100%|██████████| 18/18 [00:00<00:00, 111.61it/s]\n"
     ]
    },
    {
     "name": "stdout",
     "output_type": "stream",
     "text": [
      "\n",
      "=== OPTIMIZATION COMPLETED ===\n",
      "Tested 18 parameter sets\n",
      "Best result: -70.80 pips\n",
      "Optimal parameters: window=600.0, std_dev=3.0\n",
      "Optimal parameters: window=600, std_dev=3.0\n",
      "Period 13 results: PnL=63.60 pips, Trades=23, Win Rate=78.3%\n"
     ]
    },
    {
     "data": {
      "image/png": "[encoded data removed]",
      "text/plain": [
       "<Figure size 1500x1000 with 5 Axes>"
      ]
     },
     "metadata": {},
     "output_type": "display_data"
    },
    {
     "name": "stdout",
     "output_type": "stream",
     "text": [
      "\n",
      "=== WALK FORWARD OPTIMIZATION SUMMARY ===\n",
      "Total Periods: 13\n",
      "Total PnL: -229.50 pips\n",
      "Total Trades: 406\n",
      "Winning Trades: 280\n",
      "Losing Trades: 126\n",
      "Win Rate: 68.97%\n",
      "Max Drawdown: 434.80 pips\n",
      "Average PnL per Period: -17.65 pips\n",
      "Average PnL per Trade: -0.57 pips\n",
      "=============================================\n"
     ]
    }
   ],
   "source": [
    "# Importa le funzioni di Walk Forward Optimization dal modulo dedicato\n",
    "from backtester.walk_forward import walk_forward_optimization, plot_wfo_results\n",
    "\n",
    "# Execute Walk Forward Optimization with proper error handling\n",
    "try:\n",
    "    print(\"Starting Walk Forward Optimization...\")\n",
    "    wfo_results = walk_forward_optimization(\n",
    "        minute_data=subset_df,\n",
    "        lookback_days=90,  # Use 90 days of data for optimization\n",
    "        optimization_interval_days=14,  # Re-optimize every 14 days\n",
    "        window_start=400,\n",
    "        window_stop=600,\n",
    "        window_step=100,\n",
    "        std_start=0.5,\n",
    "        std_stop=3.0,\n",
    "        std_step=0.5,\n",
    "        price_column='midprice'\n",
    "    )\n",
    "    \n",
    "    # Plot and analyze results\n",
    "    plot_wfo_results(wfo_results)\n",
    "    \n",
    "except Exception as e:\n",
    "    print(f\"Error during Walk Forward Optimization: {e}\")\n",
    "    print(\"Please check your data and parameters.\")"
   ]
  }
 ],
 "metadata": {
  "kernelspec": {
   "display_name": ".venv",
   "language": "python",
   "name": "python3"
  },
  "language_info": {
   "codemirror_mode": {
    "name": "ipython",
    "version": 3
   },
   "file_extension": ".py",
   "mimetype": "text/x-python",
   "name": "python",
   "nbconvert_exporter": "python",
   "pygments_lexer": "ipython3",
   "version": "3.10.12"
  }
 },
 "nbformat": 4,
 "nbformat_minor": 5
}
