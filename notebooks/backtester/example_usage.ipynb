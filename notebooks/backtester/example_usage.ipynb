{
 "cells": [
  {
   "cell_type": "markdown",
   "id": "9520e998",
   "metadata": {},
   "source": [
    "# Utilizzo della libreria Backtester\n",
    "\n",
    "Questo notebook mostra come utilizzare la libreria di backtesting che abbiamo creato per testare strategie di trading con le Bollinger Bands."
   ]
  },
  {
   "cell_type": "markdown",
   "id": "98d216a7",
   "metadata": {},
   "source": [
    "## 1. Importazione delle librerie"
   ]
  },
  {
   "cell_type": "code",
   "execution_count": null,
   "id": "a5655b0a",
   "metadata": {},
   "outputs": [],
   "source": [
    "# Importa i moduli della libreria backtester\n",
    "import sys\n",
    "sys.path.append('/home/edocame/Desktop/bollingerBands/notebooks')  # Aggiungi il path\n",
    "\n",
    "from backtester import data_loader, indicators, backtest_engine, visualization, utils\n",
    "import pandas as pd\n",
    "import numpy as np\n",
    "\n",
    "# Importa anche matplotlib per i grafici\n",
    "import matplotlib.pyplot as plt\n",
    "%matplotlib inline"
   ]
  },
  {
   "cell_type": "markdown",
   "id": "2830c5fe",
   "metadata": {},
   "source": [
    "## 2. Caricamento e preparazione dei dati"
   ]
  },
  {
   "cell_type": "code",
   "execution_count": null,
   "id": "c178fd8c",
   "metadata": {},
   "outputs": [],
   "source": [
    "# Carica i dati tick dal file Parquet\n",
    "file_path = '/home/edocame/Desktop/data_python/03_BID_ASK_DATA/EURCHF_oanda_alltime.parquet'\n",
    "tick_data = data_loader.load_parquet_data(file_path)\n",
    "\n",
    "print(f\"Dati caricati: {len(tick_data)} righe\")\n",
    "print(f\"Periodo: {tick_data.index.min()} - {tick_data.index.max()}\")\n",
    "print(f\"Colonne: {tick_data.columns.tolist()}\")\n",
    "print(\"\\nPrime righe:\")\n",
    "print(tick_data.head())"
   ]
  },
  {
   "cell_type": "code",
   "execution_count": null,
   "id": "a312a119",
   "metadata": {},
   "outputs": [],
   "source": [
    "# Assicurati che la colonna 'datetime' sia di tipo datetime e impostala come indice\n",
    "if not pd.api.types.is_datetime64_any_dtype(tick_data['datetime']):\n",
    "    tick_data['datetime'] = pd.to_datetime(tick_data['datetime'], errors='coerce')\n",
    "    print('Colonna datetime convertita in datetime.')\n",
    "else:\n",
    "    print('Colonna datetime già in formato datetime.')\n",
    "\n",
    "# Imposta la colonna 'datetime' come indice\n",
    "if tick_data.index.name != 'datetime':\n",
    "    tick_data = tick_data.set_index('datetime')\n",
    "    print('Colonna datetime impostata come indice.')\n",
    "else:\n",
    "    print('Colonna datetime già impostata come indice.')\n",
    "\n",
    "# Mostra le prime righe per conferma\n",
    "print(tick_data.head())"
   ]
  },
  {
   "cell_type": "code",
   "execution_count": null,
   "id": "dc21b59b",
   "metadata": {},
   "outputs": [],
   "source": [
    "# Prepara i dati a minuto\n",
    "minute_data = data_loader.prepare_minute_data(tick_data, resample_rule='1T')\n",
    "\n",
    "print(f\"Dati a minuto: {len(minute_data)} righe\")\n",
    "print(f\"Periodo: {minute_data.index.min()} - {minute_data.index.max()}\")\n",
    "print(\"\\nPrime righe:\")\n",
    "print(minute_data.head())"
   ]
  },
  {
   "cell_type": "markdown",
   "id": "07586dac",
   "metadata": {},
   "source": [
    "## 3. Calcolo degli indicatori tecnici"
   ]
  },
  {
   "cell_type": "code",
   "execution_count": null,
   "id": "8659b769",
   "metadata": {},
   "outputs": [],
   "source": [
    "# Calcola le Bollinger Bands\n",
    "window = 1440  # 24 ore = 1440 minuti\n",
    "num_std_dev = 1.0\n",
    "\n",
    "data_with_bands = indicators.bollinger_bands(\n",
    "    minute_data, \n",
    "    price_column='midprice',\n",
    "    window=window, \n",
    "    num_std_dev=num_std_dev\n",
    ")\n",
    "\n",
    "# Rimuovi le righe con valori NaN\n",
    "complete_data = data_with_bands.dropna()\n",
    "\n",
    "print(f\"Dati completi per il backtest: {len(complete_data)} righe\")\n",
    "print(f\"Colonne disponibili: {complete_data.columns.tolist()}\")\n",
    "print(\"\\nPrime righe con indicatori:\")\n",
    "print(complete_data.head())"
   ]
  },
  {
   "cell_type": "markdown",
   "id": "6d85d522",
   "metadata": {},
   "source": [
    "## 4. Esecuzione del backtest"
   ]
  },
  {
   "cell_type": "code",
   "execution_count": null,
   "id": "13d805cf",
   "metadata": {},
   "outputs": [],
   "source": [
    "# Crea e esegui il backtest\n",
    "backtester = backtest_engine.Backtest(complete_data)\n",
    "results_data = backtester.run()\n",
    "\n",
    "# Stampa il riassunto delle performance\n",
    "backtester.print_performance_summary()"
   ]
  },
  {
   "cell_type": "markdown",
   "id": "904feb17",
   "metadata": {},
   "source": [
    "## 5. Analisi dei risultati"
   ]
  },
  {
   "cell_type": "code",
   "execution_count": null,
   "id": "69f4131b",
   "metadata": {},
   "outputs": [],
   "source": [
    "# Ottieni i risultati come DataFrame\n",
    "trades_df = backtester.get_trades_dataframe()\n",
    "\n",
    "if not trades_df.empty:\n",
    "    print(f\"Numero di trade: {len(trades_df)}\")\n",
    "    print(\"\\nPrimi 10 trade:\")\n",
    "    print(trades_df.head(10))\n",
    "    \n",
    "    # Statistiche aggiuntive\n",
    "    win_loss_stats = utils.calculate_win_loss_ratio(trades_df['PnL'])\n",
    "    print(\"\\nStatistiche Win/Loss:\")\n",
    "    for key, value in win_loss_stats.items():\n",
    "        print(f\"  {key}: {value:.2f}\")\n",
    "else:\n",
    "    print(\"Nessun trade eseguito.\")"
   ]
  },
  {
   "cell_type": "markdown",
   "id": "a9d79421",
   "metadata": {},
   "source": [
    "## 6. Visualizzazione dei risultati"
   ]
  },
  {
   "cell_type": "code",
   "execution_count": null,
   "id": "a56ccbaa",
   "metadata": {},
   "outputs": [],
   "source": [
    "# Visualizza i prezzi con le Bollinger Bands\n",
    "# Prendi un subset dei dati per una visualizzazione più chiara\n",
    "subset_data = complete_data.iloc[-2000:]  # Ultimi 2000 punti\n",
    "\n",
    "visualization.plot_price_with_bollinger_bands(\n",
    "    subset_data, \n",
    "    title=\"EURCHF con Bollinger Bands (ultimi 2000 punti)\"\n",
    ")"
   ]
  },
  {
   "cell_type": "code",
   "execution_count": null,
   "id": "7cc5cce7",
   "metadata": {},
   "outputs": [],
   "source": [
    "# Visualizza il PnL cumulativo\n",
    "if not trades_df.empty:\n",
    "    visualization.plot_cumulative_pnl(\n",
    "        trades_df, \n",
    "        title=\"PnL Cumulativo - Strategia Bollinger Bands\"\n",
    "    )"
   ]
  },
  {
   "cell_type": "code",
   "execution_count": null,
   "id": "5152675a",
   "metadata": {},
   "outputs": [],
   "source": [
    "# Visualizza la distribuzione dei trade\n",
    "if not trades_df.empty:\n",
    "    visualization.plot_trade_distribution(\n",
    "        trades_df, \n",
    "        title=\"Distribuzione PnL dei Trade\"\n",
    "    )"
   ]
  },
  {
   "cell_type": "markdown",
   "id": "e04e124f",
   "metadata": {},
   "source": [
    "## 7. Grafici interattivi (Plotly)"
   ]
  },
  {
   "cell_type": "code",
   "execution_count": null,
   "id": "190e0e86",
   "metadata": {},
   "outputs": [],
   "source": [
    "# Grafico interattivo dei prezzi con Bollinger Bands\n",
    "visualization.plot_interactive_price_bands(\n",
    "    subset_data, \n",
    "    title=\"EURCHF con Bollinger Bands - Grafico Interattivo\"\n",
    ")"
   ]
  },
  {
   "cell_type": "code",
   "execution_count": null,
   "id": "a0c489a1",
   "metadata": {},
   "outputs": [],
   "source": [
    "# Grafico interattivo del PnL cumulativo\n",
    "if not trades_df.empty:\n",
    "    visualization.plot_interactive_cumulative_pnl(\n",
    "        trades_df, \n",
    "        title=\"PnL Cumulativo - Grafico Interattivo\"\n",
    "    )"
   ]
  },
  {
   "cell_type": "markdown",
   "id": "28549fd8",
   "metadata": {},
   "source": [
    "## 8. Confronto con dati reali (se disponibili)"
   ]
  },
  {
   "cell_type": "code",
   "execution_count": null,
   "id": "dcdfd694",
   "metadata": {},
   "outputs": [],
   "source": [
    "# Carica i dati di balance reali per confronto\n",
    "try:\n",
    "    balance_file = '/home/edocame/Desktop/bollingerBands/DATA/eurchf_1440_01.csv'\n",
    "    balance_data = data_loader.load_balance_data(balance_file)\n",
    "    \n",
    "    print(f\"Dati balance caricati: {len(balance_data)} righe\")\n",
    "    print(f\"Periodo balance: {balance_data.index.min()} - {balance_data.index.max()}\")\n",
    "    \n",
    "    # Confronta con i risultati del backtest\n",
    "    if not trades_df.empty:\n",
    "        # Trova il periodo comune tra backtest e balance\n",
    "        # Assumiamo che trades_df abbia una colonna 'Exit_Time' con i timestamp\n",
    "        if 'Exit_Time' in trades_df.columns:\n",
    "            backtest_start = trades_df['Exit_Time'].min()\n",
    "            backtest_end = trades_df['Exit_Time'].max()\n",
    "        else:\n",
    "            # Se non c'è Exit_Time, usa l'indice del DataFrame completo\n",
    "            backtest_start = complete_data.index.min()\n",
    "            backtest_end = complete_data.index.max()\n",
    "        \n",
    "        balance_start = balance_data.index.min()\n",
    "        balance_end = balance_data.index.max()\n",
    "        \n",
    "        # Calcola il periodo comune\n",
    "        common_start = max(backtest_start, balance_start)\n",
    "        common_end = min(backtest_end, balance_end)\n",
    "        \n",
    "        print(f\"\\nPeriodo backtest: {backtest_start} - {backtest_end}\")\n",
    "        print(f\"Periodo balance: {balance_start} - {balance_end}\")\n",
    "        print(f\"Periodo comune: {common_start} - {common_end}\")\n",
    "        \n",
    "        # Verifica che esista un periodo comune\n",
    "        if common_start <= common_end:\n",
    "            # Filtra i dati al periodo comune\n",
    "            if 'Exit_Time' in trades_df.columns:\n",
    "                trades_common = trades_df[\n",
    "                    (trades_df['Exit_Time'] >= common_start) & \n",
    "                    (trades_df['Exit_Time'] <= common_end)\n",
    "                ]\n",
    "            else:\n",
    "                # Se non c'è Exit_Time, crea un dataset filtrato basato sui timestamp\n",
    "                trades_common = trades_df.copy()\n",
    "                \n",
    "            balance_common = balance_data.loc[common_start:common_end]\n",
    "            \n",
    "            print(f\"\\nTrade nel periodo comune: {len(trades_common)}\")\n",
    "            print(f\"Righe balance nel periodo comune: {len(balance_common)}\")\n",
    "            \n",
    "            # Crea il grafico di confronto solo per il periodo comune\n",
    "            if len(trades_common) > 0 and len(balance_common) > 0:\n",
    "                visualization.compare_backtest_vs_real_balance(\n",
    "                    trades_common, \n",
    "                    balance_common, \n",
    "                    title=f\"Confronto: Backtest vs Balance Reale ({common_start.strftime('%Y-%m-%d')} - {common_end.strftime('%Y-%m-%d')})\"\n",
    "                )\n",
    "                \n",
    "                # Mostra anche alcune statistiche di confronto\n",
    "                print(f\"\\n=== STATISTICHE PERIODO COMUNE ===\")\n",
    "                print(f\"PnL finale backtest: {trades_common['Cumulative_PnL'].iloc[-1]:.2f} pips\")\n",
    "                print(f\"Balance finale reale: {balance_common['<BALANCE>'].iloc[-1]:.2f}\")\n",
    "                \n",
    "                # Calcola la correlazione se possibile\n",
    "                if len(trades_common) > 1 and len(balance_common) > 1:\n",
    "                    # Resample per allineare le frequenze\n",
    "                    try:\n",
    "                        balance_daily = balance_common['<BALANCE>'].resample('D').last().dropna()\n",
    "                        trades_daily = trades_common.set_index('Exit_Time')['Cumulative_PnL'].resample('D').last().dropna()\n",
    "                        \n",
    "                        # Trova l'intersezione delle date\n",
    "                        common_dates = balance_daily.index.intersection(trades_daily.index)\n",
    "                        \n",
    "                        if len(common_dates) > 2:\n",
    "                            corr = balance_daily.loc[common_dates].corr(trades_daily.loc[common_dates])\n",
    "                            print(f\"Correlazione giornaliera: {corr:.3f}\")\n",
    "                        else:\n",
    "                            print(\"Insufficienti dati per calcolare la correlazione\")\n",
    "                    except Exception as e:\n",
    "                        print(f\"Errore nel calcolo della correlazione: {e}\")\n",
    "            else:\n",
    "                print(\"ERRORE: Nessun dato disponibile nel periodo comune filtrato\")\n",
    "        else:\n",
    "            print(\"ERRORE: Non ci sono date in comune tra backtest e balance!\")\n",
    "    else:\n",
    "        print(\"Nessun trade disponibile per il confronto\")\n",
    "        \n",
    "except Exception as e:\n",
    "    print(f\"Errore nel caricamento dei dati balance: {e}\")"
   ]
  },
  {
   "cell_type": "markdown",
   "id": "779cb15b",
   "metadata": {},
   "source": [
    "## 9. Dashboard completo"
   ]
  },
  {
   "cell_type": "code",
   "execution_count": null,
   "id": "2439d269",
   "metadata": {},
   "outputs": [],
   "source": [
    "# Crea un dashboard completo con tutti i grafici\n",
    "if not trades_df.empty:\n",
    "    visualization.create_performance_dashboard(\n",
    "        subset_data, \n",
    "        trades_df, \n",
    "        backtester.performance_metrics\n",
    "    )"
   ]
  },
  {
   "cell_type": "markdown",
   "id": "aba157d7",
   "metadata": {},
   "source": [
    "## 10. Test con parametri diversi"
   ]
  },
  {
   "cell_type": "code",
   "execution_count": null,
   "id": "9ad54cff",
   "metadata": {},
   "outputs": [],
   "source": [
    "# Forza il reload del modulo per assicurarsi che le nuove funzioni siano disponibili\n",
    "import importlib\n",
    "import sys\n",
    "\n",
    "# Reload del modulo backtest_engine per caricare le nuove funzioni\n",
    "if 'backtester.backtest_engine' in sys.modules:\n",
    "    importlib.reload(sys.modules['backtester.backtest_engine'])\n",
    "\n",
    "# Importa le funzioni di ottimizzazione dal backtest_engine\n",
    "from backtester.backtest_engine import optimize_parameters, plot_top_equity_curves\n",
    "\n",
    "# Esegui l'ottimizzazione dei parametri con multiprocessing\n",
    "print(\"Avvio ottimizzazione parametri...\")\n",
    "parameter_results = optimize_parameters(\n",
    "    minute_data=minute_data,\n",
    "    window_start=60,\n",
    "    window_stop=14400,\n",
    "    window_step=60,\n",
    "    std_start=0.2,\n",
    "    std_stop=4.0,\n",
    "    std_step=0.2,\n",
    "    price_column='midprice'\n",
    ")\n",
    "\n",
    "# Mostra i risultati completi\n",
    "print(\"\\n=== TUTTI I RISULTATI ===\")\n",
    "print(parameter_results.to_string(index=False))\n",
    "\n",
    "# Plotta le top 5 equity curves usando la funzione dedicata\n",
    "print(\"\\nGenerazione grafici delle migliori equity curves...\")\n",
    "plot_top_equity_curves(\n",
    "    results_df=parameter_results,\n",
    "    minute_data=minute_data,\n",
    "    top_n=5,\n",
    "    price_column='midprice'\n",
    ")"
   ]
  },
  {
   "cell_type": "markdown",
   "id": "4aec0f43",
   "metadata": {},
   "source": [
    "## Walk forward opt"
   ]
  },
  {
   "cell_type": "code",
   "execution_count": null,
   "id": "3dff1daa",
   "metadata": {},
   "outputs": [],
   "source": [
    "# Importa le funzioni di Walk Forward Optimization dal modulo dedicato\n",
    "from backtester.walk_forward import walk_forward_optimization, plot_wfo_results\n",
    "\n",
    "# Execute Walk Forward Optimization with proper error handling\n",
    "try:\n",
    "    print(\"Starting Walk Forward Optimization...\")\n",
    "    wfo_results = walk_forward_optimization(\n",
    "        minute_data=minute_data,\n",
    "        lookback_days=90,  # Use 90 days of data for optimization\n",
    "        optimization_interval_days=14,  # Re-optimize every 14 days\n",
    "        window_start=400,\n",
    "        window_stop=14400,\n",
    "        window_step=100,\n",
    "        std_start=0.5,\n",
    "        std_stop=3.0,\n",
    "        std_step=0.5,\n",
    "        price_column='midprice'\n",
    "    )\n",
    "    \n",
    "    # Plot and analyze results\n",
    "    plot_wfo_results(wfo_results)\n",
    "    \n",
    "except Exception as e:\n",
    "    print(f\"Error during Walk Forward Optimization: {e}\")\n",
    "    print(\"Please check your data and parameters.\")"
   ]
  }
 ],
 "metadata": {
  "kernelspec": {
   "display_name": ".venv",
   "language": "python",
   "name": "python3"
  },
  "language_info": {
   "codemirror_mode": {
    "name": "ipython",
    "version": 3
   },
   "file_extension": ".py",
   "mimetype": "text/x-python",
   "name": "python",
   "nbconvert_exporter": "python",
   "pygments_lexer": "ipython3",
   "version": "3.10.12"
  }
 },
 "nbformat": 4,
 "nbformat_minor": 5
}
