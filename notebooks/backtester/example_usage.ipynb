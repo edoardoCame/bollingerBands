{
 "cells": [
  {
   "cell_type": "markdown",
   "id": "9520e998",
   "metadata": {},
   "source": [
    "# Utilizzo della libreria Backtester\n",
    "\n",
    "Questo notebook mostra come utilizzare la libreria di backtesting che abbiamo creato per testare strategie di trading con le Bollinger Bands."
   ]
  },
  {
   "cell_type": "markdown",
   "id": "98d216a7",
   "metadata": {},
   "source": [
    "## 1. Importazione delle librerie"
   ]
  },
  {
   "cell_type": "code",
   "execution_count": 1,
   "id": "a5655b0a",
   "metadata": {},
   "outputs": [],
   "source": [
    "# Importa i moduli della libreria backtester\n",
    "import sys\n",
    "sys.path.append('/home/edocame/Desktop/bollingerBands')  # Aggiungi il path\n",
    "\n",
    "from modules.backtester import data_loader, indicators, backtest_engine, visualization, utils\n",
    "import pandas as pd\n",
    "import numpy as np\n",
    "\n",
    "# Importa anche matplotlib per i grafici\n",
    "import matplotlib.pyplot as plt\n",
    "%matplotlib inline"
   ]
  },
  {
   "cell_type": "markdown",
   "id": "2830c5fe",
   "metadata": {},
   "source": [
    "## 2. Caricamento e preparazione dei dati"
   ]
  },
  {
   "cell_type": "code",
   "execution_count": 2,
   "id": "c178fd8c",
   "metadata": {},
   "outputs": [
    {
     "name": "stdout",
     "output_type": "stream",
     "text": [
      "Dati caricati: 378784726 righe\n",
      "Periodo: 0 - 378784725\n",
      "Colonne: ['datetime', 'bid', 'ask']\n",
      "\n",
      "Prime righe:\n",
      "                 datetime      bid      ask\n",
      "0 2003-08-04 03:00:03.491  1.53844  1.53854\n",
      "1 2003-08-04 03:00:36.109  1.53820  1.53845\n",
      "2 2003-08-04 03:00:36.301  1.53834  1.53859\n",
      "3 2003-08-04 03:00:46.305  1.53822  1.53832\n",
      "4 2003-08-04 03:00:46.497  1.53838  1.53848\n"
     ]
    }
   ],
   "source": [
    "# Carica i dati tick dal file Parquet\n",
    "file_path = '/home/edocame/Desktop/data_python/03_BID_ASK_DATA/EURCHF_oanda_alltime.parquet'\n",
    "tick_data = data_loader.load_parquet_data(file_path)\n",
    "\n",
    "print(f\"Dati caricati: {len(tick_data)} righe\")\n",
    "print(f\"Periodo: {tick_data.index.min()} - {tick_data.index.max()}\")\n",
    "print(f\"Colonne: {tick_data.columns.tolist()}\")\n",
    "print(\"\\nPrime righe:\")\n",
    "print(tick_data.head())"
   ]
  },
  {
   "cell_type": "code",
   "execution_count": 3,
   "id": "a312a119",
   "metadata": {},
   "outputs": [
    {
     "name": "stdout",
     "output_type": "stream",
     "text": [
      "Colonna datetime già in formato datetime.\n",
      "Colonna datetime impostata come indice.\n",
      "                             bid      ask\n",
      "datetime                                 \n",
      "2003-08-04 03:00:03.491  1.53844  1.53854\n",
      "2003-08-04 03:00:36.109  1.53820  1.53845\n",
      "2003-08-04 03:00:36.301  1.53834  1.53859\n",
      "2003-08-04 03:00:46.305  1.53822  1.53832\n",
      "2003-08-04 03:00:46.497  1.53838  1.53848\n"
     ]
    }
   ],
   "source": [
    "# Assicurati che la colonna 'datetime' sia di tipo datetime e impostala come indice\n",
    "if not pd.api.types.is_datetime64_any_dtype(tick_data['datetime']):\n",
    "    tick_data['datetime'] = pd.to_datetime(tick_data['datetime'], errors='coerce')\n",
    "    print('Colonna datetime convertita in datetime.')\n",
    "else:\n",
    "    print('Colonna datetime già in formato datetime.')\n",
    "\n",
    "# Imposta la colonna 'datetime' come indice\n",
    "if tick_data.index.name != 'datetime':\n",
    "    tick_data = tick_data.set_index('datetime')\n",
    "    print('Colonna datetime impostata come indice.')\n",
    "else:\n",
    "    print('Colonna datetime già impostata come indice.')\n",
    "\n",
    "# Mostra le prime righe per conferma\n",
    "print(tick_data.head())"
   ]
  },
  {
   "cell_type": "code",
   "execution_count": 4,
   "id": "dc21b59b",
   "metadata": {},
   "outputs": [
    {
     "name": "stderr",
     "output_type": "stream",
     "text": [
      "/home/edocame/Desktop/bollingerBands/modules/backtester/data_loader.py:96: FutureWarning: 'T' is deprecated and will be removed in a future version, please use 'min' instead.\n",
      "  minute_sample = tick_data.resample(resample_rule).agg({'bid': 'first', 'ask': 'first'})\n"
     ]
    },
    {
     "name": "stdout",
     "output_type": "stream",
     "text": [
      "Dati a minuto: 8182527 righe\n",
      "Periodo: 2003-08-04 03:00:00 - 2025-07-11 23:59:00\n",
      "\n",
      "Prime righe:\n",
      "                         bid      ask  midprice\n",
      "datetime                                       \n",
      "2003-08-04 03:00:00  1.53844  1.53854   1.53849\n",
      "2003-08-04 03:01:00  1.53803  1.53823   1.53813\n",
      "2003-08-04 03:02:00  1.53777  1.53801   1.53789\n",
      "2003-08-04 03:03:00  1.53772  1.53796   1.53784\n",
      "2003-08-04 03:04:00  1.53764  1.53774   1.53769\n"
     ]
    }
   ],
   "source": [
    "# Prepara i dati a minuto\n",
    "minute_data = data_loader.prepare_minute_data(tick_data, resample_rule='1T')\n",
    "\n",
    "print(f\"Dati a minuto: {len(minute_data)} righe\")\n",
    "print(f\"Periodo: {minute_data.index.min()} - {minute_data.index.max()}\")\n",
    "print(\"\\nPrime righe:\")\n",
    "print(minute_data.head())"
   ]
  },
  {
   "cell_type": "markdown",
   "id": "07586dac",
   "metadata": {},
   "source": [
    "## 3. Calcolo degli indicatori tecnici"
   ]
  },
  {
   "cell_type": "code",
   "execution_count": null,
   "id": "8659b769",
   "metadata": {},
   "outputs": [],
   "source": [
    "# Calcola le Bollinger Bands\n",
    "window = 1440  # 24 ore = 1440 minuti\n",
    "num_std_dev = 1.0\n",
    "\n",
    "data_with_bands = indicators.bollinger_bands(\n",
    "    minute_data, \n",
    "    price_column='midprice',\n",
    "    window=window, \n",
    "    num_std_dev=num_std_dev\n",
    ")\n",
    "\n",
    "# Rimuovi le righe con valori NaN\n",
    "complete_data = data_with_bands.dropna()\n",
    "\n",
    "print(f\"Dati completi per il backtest: {len(complete_data)} righe\")\n",
    "print(f\"Colonne disponibili: {complete_data.columns.tolist()}\")\n",
    "print(\"\\nPrime righe con indicatori:\")\n",
    "print(complete_data.head())"
   ]
  },
  {
   "cell_type": "markdown",
   "id": "6d85d522",
   "metadata": {},
   "source": [
    "## 4. Esecuzione del backtest"
   ]
  },
  {
   "cell_type": "code",
   "execution_count": null,
   "id": "13d805cf",
   "metadata": {},
   "outputs": [],
   "source": [
    "# Crea e esegui il backtest\n",
    "backtester = backtest_engine.Backtest(complete_data)\n",
    "results_data = backtester.run()\n",
    "\n",
    "# Stampa il riassunto delle performance\n",
    "backtester.print_performance_summary()"
   ]
  },
  {
   "cell_type": "markdown",
   "id": "904feb17",
   "metadata": {},
   "source": [
    "## 5. Analisi dei risultati"
   ]
  },
  {
   "cell_type": "code",
   "execution_count": null,
   "id": "69f4131b",
   "metadata": {},
   "outputs": [],
   "source": [
    "# Ottieni i risultati come DataFrame\n",
    "trades_df = backtester.get_trades_dataframe()\n",
    "\n",
    "if not trades_df.empty:\n",
    "    print(f\"Numero di trade: {len(trades_df)}\")\n",
    "    print(\"\\nPrimi 10 trade:\")\n",
    "    print(trades_df.head(10))\n",
    "    \n",
    "    # Statistiche aggiuntive\n",
    "    win_loss_stats = utils.calculate_win_loss_ratio(trades_df['PnL'])\n",
    "    print(\"\\nStatistiche Win/Loss:\")\n",
    "    for key, value in win_loss_stats.items():\n",
    "        print(f\"  {key}: {value:.2f}\")\n",
    "else:\n",
    "    print(\"Nessun trade eseguito.\")"
   ]
  },
  {
   "cell_type": "markdown",
   "id": "a9d79421",
   "metadata": {},
   "source": [
    "## 6. Visualizzazione dei risultati"
   ]
  },
  {
   "cell_type": "code",
   "execution_count": null,
   "id": "a56ccbaa",
   "metadata": {},
   "outputs": [],
   "source": [
    "# Visualizza i prezzi con le Bollinger Bands\n",
    "# Prendi un subset dei dati per una visualizzazione più chiara\n",
    "subset_data = complete_data.iloc[-2000:]  # Ultimi 2000 punti\n",
    "\n",
    "visualization.plot_price_with_bollinger_bands(\n",
    "    subset_data, \n",
    "    title=\"EURCHF con Bollinger Bands (ultimi 2000 punti)\"\n",
    ")"
   ]
  },
  {
   "cell_type": "code",
   "execution_count": null,
   "id": "7cc5cce7",
   "metadata": {},
   "outputs": [],
   "source": [
    "# Visualizza il PnL cumulativo\n",
    "if not trades_df.empty:\n",
    "    visualization.plot_cumulative_pnl(\n",
    "        trades_df, \n",
    "        title=\"PnL Cumulativo - Strategia Bollinger Bands\"\n",
    "    )"
   ]
  },
  {
   "cell_type": "code",
   "execution_count": null,
   "id": "5152675a",
   "metadata": {},
   "outputs": [],
   "source": [
    "# Visualizza la distribuzione dei trade\n",
    "if not trades_df.empty:\n",
    "    visualization.plot_trade_distribution(\n",
    "        trades_df, \n",
    "        title=\"Distribuzione PnL dei Trade\"\n",
    "    )"
   ]
  },
  {
   "cell_type": "markdown",
   "id": "e04e124f",
   "metadata": {},
   "source": [
    "## 7. Grafici interattivi (Plotly)"
   ]
  },
  {
   "cell_type": "code",
   "execution_count": null,
   "id": "190e0e86",
   "metadata": {},
   "outputs": [],
   "source": [
    "# Grafico interattivo dei prezzi con Bollinger Bands\n",
    "visualization.plot_interactive_price_bands(\n",
    "    subset_data, \n",
    "    title=\"EURCHF con Bollinger Bands - Grafico Interattivo\"\n",
    ")"
   ]
  },
  {
   "cell_type": "code",
   "execution_count": null,
   "id": "a0c489a1",
   "metadata": {},
   "outputs": [],
   "source": [
    "# Grafico interattivo del PnL cumulativo\n",
    "if not trades_df.empty:\n",
    "    visualization.plot_interactive_cumulative_pnl(\n",
    "        trades_df, \n",
    "        title=\"PnL Cumulativo - Grafico Interattivo\"\n",
    "    )"
   ]
  },
  {
   "cell_type": "markdown",
   "id": "28549fd8",
   "metadata": {},
   "source": [
    "## 8. Confronto con dati reali (se disponibili)"
   ]
  },
  {
   "cell_type": "code",
   "execution_count": null,
   "id": "dcdfd694",
   "metadata": {},
   "outputs": [],
   "source": [
    "# Carica i dati di balance reali per confronto\n",
    "try:\n",
    "    balance_file = '/home/edocame/Desktop/bollingerBands/DATA/eurchf_1440_01.csv'\n",
    "    balance_data = data_loader.load_balance_data(balance_file)\n",
    "    \n",
    "    print(f\"Dati balance caricati: {len(balance_data)} righe\")\n",
    "    print(f\"Periodo balance: {balance_data.index.min()} - {balance_data.index.max()}\")\n",
    "    \n",
    "    # Confronta con i risultati del backtest\n",
    "    if not trades_df.empty:\n",
    "        # Trova il periodo comune tra backtest e balance\n",
    "        # Assumiamo che trades_df abbia una colonna 'Exit_Time' con i timestamp\n",
    "        if 'Exit_Time' in trades_df.columns:\n",
    "            backtest_start = trades_df['Exit_Time'].min()\n",
    "            backtest_end = trades_df['Exit_Time'].max()\n",
    "        else:\n",
    "            # Se non c'è Exit_Time, usa l'indice del DataFrame completo\n",
    "            backtest_start = complete_data.index.min()\n",
    "            backtest_end = complete_data.index.max()\n",
    "        \n",
    "        balance_start = balance_data.index.min()\n",
    "        balance_end = balance_data.index.max()\n",
    "        \n",
    "        # Calcola il periodo comune\n",
    "        common_start = max(backtest_start, balance_start)\n",
    "        common_end = min(backtest_end, balance_end)\n",
    "        \n",
    "        print(f\"\\nPeriodo backtest: {backtest_start} - {backtest_end}\")\n",
    "        print(f\"Periodo balance: {balance_start} - {balance_end}\")\n",
    "        print(f\"Periodo comune: {common_start} - {common_end}\")\n",
    "        \n",
    "        # Verifica che esista un periodo comune\n",
    "        if common_start <= common_end:\n",
    "            # Filtra i dati al periodo comune\n",
    "            if 'Exit_Time' in trades_df.columns:\n",
    "                trades_common = trades_df[\n",
    "                    (trades_df['Exit_Time'] >= common_start) & \n",
    "                    (trades_df['Exit_Time'] <= common_end)\n",
    "                ]\n",
    "            else:\n",
    "                # Se non c'è Exit_Time, crea un dataset filtrato basato sui timestamp\n",
    "                trades_common = trades_df.copy()\n",
    "                \n",
    "            balance_common = balance_data.loc[common_start:common_end]\n",
    "            \n",
    "            print(f\"\\nTrade nel periodo comune: {len(trades_common)}\")\n",
    "            print(f\"Righe balance nel periodo comune: {len(balance_common)}\")\n",
    "            \n",
    "            # Crea il grafico di confronto solo per il periodo comune\n",
    "            if len(trades_common) > 0 and len(balance_common) > 0:\n",
    "                visualization.compare_backtest_vs_real_balance(\n",
    "                    trades_common, \n",
    "                    balance_common, \n",
    "                    title=f\"Confronto: Backtest vs Balance Reale ({common_start.strftime('%Y-%m-%d')} - {common_end.strftime('%Y-%m-%d')})\"\n",
    "                )\n",
    "                \n",
    "                # Mostra anche alcune statistiche di confronto\n",
    "                print(f\"\\n=== STATISTICHE PERIODO COMUNE ===\")\n",
    "                print(f\"PnL finale backtest: {trades_common['Cumulative_PnL'].iloc[-1]:.2f} pips\")\n",
    "                print(f\"Balance finale reale: {balance_common['<BALANCE>'].iloc[-1]:.2f}\")\n",
    "                \n",
    "                # Calcola la correlazione se possibile\n",
    "                if len(trades_common) > 1 and len(balance_common) > 1:\n",
    "                    # Resample per allineare le frequenze\n",
    "                    try:\n",
    "                        balance_daily = balance_common['<BALANCE>'].resample('D').last().dropna()\n",
    "                        trades_daily = trades_common.set_index('Exit_Time')['Cumulative_PnL'].resample('D').last().dropna()\n",
    "                        \n",
    "                        # Trova l'intersezione delle date\n",
    "                        common_dates = balance_daily.index.intersection(trades_daily.index)\n",
    "                        \n",
    "                        if len(common_dates) > 2:\n",
    "                            corr = balance_daily.loc[common_dates].corr(trades_daily.loc[common_dates])\n",
    "                            print(f\"Correlazione giornaliera: {corr:.3f}\")\n",
    "                        else:\n",
    "                            print(\"Insufficienti dati per calcolare la correlazione\")\n",
    "                    except Exception as e:\n",
    "                        print(f\"Errore nel calcolo della correlazione: {e}\")\n",
    "            else:\n",
    "                print(\"ERRORE: Nessun dato disponibile nel periodo comune filtrato\")\n",
    "        else:\n",
    "            print(\"ERRORE: Non ci sono date in comune tra backtest e balance!\")\n",
    "    else:\n",
    "        print(\"Nessun trade disponibile per il confronto\")\n",
    "        \n",
    "except Exception as e:\n",
    "    print(f\"Errore nel caricamento dei dati balance: {e}\")"
   ]
  },
  {
   "cell_type": "markdown",
   "id": "779cb15b",
   "metadata": {},
   "source": [
    "## 9. Dashboard completo"
   ]
  },
  {
   "cell_type": "code",
   "execution_count": null,
   "id": "2439d269",
   "metadata": {},
   "outputs": [],
   "source": [
    "# Crea un dashboard completo con tutti i grafici\n",
    "if not trades_df.empty:\n",
    "    visualization.create_performance_dashboard(\n",
    "        subset_data, \n",
    "        trades_df, \n",
    "        backtester.performance_metrics\n",
    "    )"
   ]
  },
  {
   "cell_type": "markdown",
   "id": "aba157d7",
   "metadata": {},
   "source": [
    "## 10. Test con parametri diversi"
   ]
  },
  {
   "cell_type": "code",
   "execution_count": null,
   "id": "9ad54cff",
   "metadata": {},
   "outputs": [],
   "source": [
    "# Forza il reload del modulo per assicurarsi che le nuove funzioni siano disponibili\n",
    "import importlib\n",
    "import sys\n",
    "\n",
    "# Reload del modulo backtest_engine per caricare le nuove funzioni\n",
    "if 'backtester.backtest_engine' in sys.modules:\n",
    "    importlib.reload(sys.modules['backtester.backtest_engine'])\n",
    "\n",
    "# Importa le funzioni di ottimizzazione dal backtest_engine\n",
    "from modules.backtester.backtest_engine import optimize_parameters, plot_top_equity_curves\n",
    "\n",
    "# Esegui l'ottimizzazione dei parametri con multiprocessing\n",
    "print(\"Avvio ottimizzazione parametri...\")\n",
    "parameter_results = optimize_parameters(\n",
    "    minute_data=minute_data,\n",
    "    window_start=60,\n",
    "    window_stop=14400,\n",
    "    window_step=60,\n",
    "    std_start=0.2,\n",
    "    std_stop=4.0,\n",
    "    std_step=0.2,\n",
    "    price_column='midprice'\n",
    ")\n",
    "\n",
    "# Mostra i risultati completi\n",
    "print(\"\\n=== TUTTI I RISULTATI ===\")\n",
    "print(parameter_results.to_string(index=False))\n",
    "\n",
    "# Plotta le top 5 equity curves usando la funzione dedicata\n",
    "print(\"\\nGenerazione grafici delle migliori equity curves...\")\n",
    "plot_top_equity_curves(\n",
    "    results_df=parameter_results,\n",
    "    minute_data=minute_data,\n",
    "    top_n=5,\n",
    "    price_column='midprice'\n",
    ")"
   ]
  },
  {
   "cell_type": "markdown",
   "id": "4aec0f43",
   "metadata": {},
   "source": [
    "## Walk forward opt"
   ]
  },
  {
   "cell_type": "code",
   "execution_count": 5,
   "id": "8e3a7530",
   "metadata": {},
   "outputs": [
    {
     "name": "stdout",
     "output_type": "stream",
     "text": [
      "Subset creato: 929880 righe\n",
      "Periodo: 2023-01-02 00:42:00 - 2025-07-04 23:58:00\n",
      "                         bid      ask  midprice\n",
      "datetime                                       \n",
      "2023-01-02 00:42:00  0.98520  0.98688  0.986040\n",
      "2023-01-02 01:15:00  0.98607  0.98889  0.987480\n",
      "2023-01-02 01:16:00  0.98610  0.98891  0.987505\n",
      "2023-01-02 01:17:00  0.98609  0.98890  0.987495\n",
      "2023-01-02 01:18:00  0.98610  0.98891  0.987505\n"
     ]
    }
   ],
   "source": [
    "# Crea un subset di minute_data in base a start_date e end_date\n",
    "start_date = '2023-01-01'\n",
    "end_date = '2025-07-05'\n",
    "subset_df = minute_data.loc[start_date:end_date]\n",
    "\n",
    "print(f\"Subset creato: {len(subset_df)} righe\")\n",
    "print(f\"Periodo: {subset_df.index.min()} - {subset_df.index.max()}\")\n",
    "print(subset_df.head())"
   ]
  },
  {
   "cell_type": "code",
   "execution_count": 16,
   "id": "3dff1daa",
   "metadata": {},
   "outputs": [
    {
     "name": "stdout",
     "output_type": "stream",
     "text": [
      "Starting Walk Forward Optimization...\n",
      "=== WALK FORWARD OPTIMIZATION ===\n",
      "Lookback period: 180 days (259200 minutes)\n",
      "Optimization interval: 5 days\n",
      "Total data period: 2023-01-02 00:42:00 to 2025-07-04 23:58:00\n",
      "\n",
      "--- Period 1 ---\n",
      "Optimization: 2023-01-02 00:42:00 to 2023-09-12 16:09:00\n",
      "Trading: 2023-09-12 16:10:00 to 2023-09-19 18:01:00\n",
      "Starting optimization with 108 parameter combinations...\n",
      "Using single-threaded approach for reliability.\n"
     ]
    },
    {
     "name": "stderr",
     "output_type": "stream",
     "text": [
      "Parameter optimization: 100%|██████████| 108/108 [00:02<00:00, 38.83it/s]\n",
      "Parameter optimization: 100%|██████████| 108/108 [00:02<00:00, 38.83it/s]\n"
     ]
    },
    {
     "name": "stdout",
     "output_type": "stream",
     "text": [
      "Optimal parameters: window=8400, std_dev=0.5\n",
      "Insufficient trading data for period 1, skipping...\n",
      "\n",
      "--- Period 2 ---\n",
      "Optimization: 2023-01-09 03:54:00 to 2023-09-19 18:01:00\n",
      "Trading: 2023-09-19 18:02:00 to 2023-09-26 19:57:00\n",
      "Starting optimization with 108 parameter combinations...\n",
      "Using single-threaded approach for reliability.\n"
     ]
    },
    {
     "name": "stderr",
     "output_type": "stream",
     "text": [
      "Parameter optimization: 100%|██████████| 108/108 [00:02<00:00, 46.22it/s]\n",
      "Parameter optimization: 100%|██████████| 108/108 [00:02<00:00, 46.22it/s]\n"
     ]
    },
    {
     "name": "stdout",
     "output_type": "stream",
     "text": [
      "Optimal parameters: window=5400, std_dev=2.0\n",
      "Period 2 results: PnL=0.00 pips, Trades=0, Win Rate=0.0%\n",
      "\n",
      "--- Period 3 ---\n",
      "Optimization: 2023-01-16 05:11:00 to 2023-09-26 19:57:00\n",
      "Trading: 2023-09-26 19:58:00 to 2023-10-03 21:00:00\n",
      "Starting optimization with 108 parameter combinations...\n",
      "Using single-threaded approach for reliability.\n"
     ]
    },
    {
     "name": "stderr",
     "output_type": "stream",
     "text": [
      "Parameter optimization: 100%|██████████| 108/108 [00:02<00:00, 47.62it/s]\n",
      "Parameter optimization: 100%|██████████| 108/108 [00:02<00:00, 47.62it/s]\n"
     ]
    },
    {
     "name": "stdout",
     "output_type": "stream",
     "text": [
      "Optimal parameters: window=2400, std_dev=2.5\n",
      "Period 3 results: PnL=40.90 pips, Trades=4, Win Rate=75.0%\n",
      "\n",
      "--- Period 4 ---\n",
      "Optimization: 2023-01-23 05:56:00 to 2023-10-03 21:00:00\n",
      "Trading: 2023-10-03 21:01:00 to 2023-10-10 21:55:00\n",
      "Starting optimization with 108 parameter combinations...\n",
      "Using single-threaded approach for reliability.\n"
     ]
    },
    {
     "name": "stderr",
     "output_type": "stream",
     "text": [
      "Parameter optimization: 100%|██████████| 108/108 [00:02<00:00, 47.39it/s]\n",
      "Parameter optimization: 100%|██████████| 108/108 [00:02<00:00, 47.39it/s]\n"
     ]
    },
    {
     "name": "stdout",
     "output_type": "stream",
     "text": [
      "Optimal parameters: window=2400, std_dev=2.5\n",
      "Period 4 results: PnL=-13.90 pips, Trades=1, Win Rate=0.0%\n",
      "\n",
      "--- Period 5 ---\n",
      "Optimization: 2023-01-30 06:54:00 to 2023-10-10 21:55:00\n",
      "Trading: 2023-10-10 21:56:00 to 2023-10-17 23:21:00\n",
      "Starting optimization with 108 parameter combinations...\n",
      "Using single-threaded approach for reliability.\n"
     ]
    },
    {
     "name": "stderr",
     "output_type": "stream",
     "text": [
      "Parameter optimization: 100%|██████████| 108/108 [00:02<00:00, 45.12it/s]\n",
      "Parameter optimization: 100%|██████████| 108/108 [00:02<00:00, 45.12it/s]\n"
     ]
    },
    {
     "name": "stdout",
     "output_type": "stream",
     "text": [
      "Optimal parameters: window=2400, std_dev=2.5\n",
      "Period 5 results: PnL=-24.10 pips, Trades=3, Win Rate=66.7%\n",
      "\n",
      "--- Period 6 ---\n",
      "Optimization: 2023-02-06 07:39:00 to 2023-10-17 23:21:00\n",
      "Trading: 2023-10-17 23:23:00 to 2023-10-25 00:29:00\n",
      "Starting optimization with 108 parameter combinations...\n",
      "Using single-threaded approach for reliability.\n"
     ]
    },
    {
     "name": "stderr",
     "output_type": "stream",
     "text": [
      "Parameter optimization: 100%|██████████| 108/108 [00:02<00:00, 42.06it/s]\n",
      "Parameter optimization: 100%|██████████| 108/108 [00:02<00:00, 42.06it/s]\n"
     ]
    },
    {
     "name": "stdout",
     "output_type": "stream",
     "text": [
      "Optimal parameters: window=3400, std_dev=2.0\n",
      "Period 6 results: PnL=38.70 pips, Trades=2, Win Rate=100.0%\n",
      "\n",
      "--- Period 7 ---\n",
      "Optimization: 2023-02-13 08:17:00 to 2023-10-25 00:29:00\n",
      "Trading: 2023-10-25 00:30:00 to 2023-11-01 01:38:00\n",
      "Starting optimization with 108 parameter combinations...\n",
      "Using single-threaded approach for reliability.\n"
     ]
    },
    {
     "name": "stderr",
     "output_type": "stream",
     "text": [
      "Parameter optimization: 100%|██████████| 108/108 [00:02<00:00, 41.47it/s]\n",
      "\n"
     ]
    },
    {
     "name": "stdout",
     "output_type": "stream",
     "text": [
      "Optimal parameters: window=5400, std_dev=2.0\n",
      "Period 7 results: PnL=-58.30 pips, Trades=1, Win Rate=0.0%\n",
      "\n",
      "--- Period 8 ---\n",
      "Optimization: 2023-02-20 08:58:00 to 2023-11-01 01:38:00\n",
      "Trading: 2023-11-01 01:39:00 to 2023-11-08 02:58:00\n",
      "Starting optimization with 108 parameter combinations...\n",
      "Using single-threaded approach for reliability.\n"
     ]
    },
    {
     "name": "stderr",
     "output_type": "stream",
     "text": [
      "Parameter optimization: 100%|██████████| 108/108 [00:02<00:00, 39.32it/s]\n",
      "Parameter optimization: 100%|██████████| 108/108 [00:02<00:00, 39.32it/s]\n"
     ]
    },
    {
     "name": "stdout",
     "output_type": "stream",
     "text": [
      "Optimal parameters: window=5400, std_dev=2.0\n",
      "Period 8 results: PnL=0.00 pips, Trades=0, Win Rate=0.0%\n",
      "\n",
      "--- Period 9 ---\n",
      "Optimization: 2023-02-27 09:52:00 to 2023-11-08 02:58:00\n",
      "Trading: 2023-11-08 02:59:00 to 2023-11-15 04:45:00\n",
      "Starting optimization with 108 parameter combinations...\n",
      "Using single-threaded approach for reliability.\n"
     ]
    },
    {
     "name": "stderr",
     "output_type": "stream",
     "text": [
      "Parameter optimization: 100%|██████████| 108/108 [00:02<00:00, 40.66it/s]\n",
      "Parameter optimization: 100%|██████████| 108/108 [00:02<00:00, 40.66it/s]\n"
     ]
    },
    {
     "name": "stdout",
     "output_type": "stream",
     "text": [
      "Optimal parameters: window=5400, std_dev=2.0\n",
      "Period 9 results: PnL=-16.10 pips, Trades=1, Win Rate=0.0%\n",
      "\n",
      "--- Period 10 ---\n",
      "Optimization: 2023-03-06 10:44:00 to 2023-11-15 04:45:00\n",
      "Trading: 2023-11-15 04:46:00 to 2023-11-22 05:49:00\n",
      "Starting optimization with 108 parameter combinations...\n",
      "Using single-threaded approach for reliability.\n"
     ]
    },
    {
     "name": "stderr",
     "output_type": "stream",
     "text": [
      "Parameter optimization: 100%|██████████| 108/108 [00:02<00:00, 45.33it/s]\n",
      "Parameter optimization: 100%|██████████| 108/108 [00:02<00:00, 45.33it/s]\n"
     ]
    },
    {
     "name": "stdout",
     "output_type": "stream",
     "text": [
      "Optimal parameters: window=5400, std_dev=1.0\n",
      "Period 10 results: PnL=13.90 pips, Trades=2, Win Rate=50.0%\n",
      "\n",
      "--- Period 11 ---\n",
      "Optimization: 2023-03-13 12:03:00 to 2023-11-22 05:49:00\n",
      "Trading: 2023-11-22 05:50:00 to 2023-11-29 07:58:00\n",
      "Starting optimization with 108 parameter combinations...\n",
      "Using single-threaded approach for reliability.\n"
     ]
    },
    {
     "name": "stderr",
     "output_type": "stream",
     "text": [
      "Parameter optimization: 100%|██████████| 108/108 [00:02<00:00, 40.76it/s]\n",
      "\n"
     ]
    },
    {
     "name": "stdout",
     "output_type": "stream",
     "text": [
      "Optimal parameters: window=5400, std_dev=1.0\n",
      "Period 11 results: PnL=18.20 pips, Trades=3, Win Rate=100.0%\n",
      "\n",
      "--- Period 12 ---\n",
      "Optimization: 2023-03-20 13:05:00 to 2023-11-29 07:58:00\n",
      "Trading: 2023-11-29 07:59:00 to 2023-12-06 08:49:00\n",
      "Starting optimization with 108 parameter combinations...\n",
      "Using single-threaded approach for reliability.\n"
     ]
    },
    {
     "name": "stderr",
     "output_type": "stream",
     "text": [
      "Parameter optimization: 100%|██████████| 108/108 [00:02<00:00, 39.92it/s]\n",
      "\n"
     ]
    },
    {
     "name": "stdout",
     "output_type": "stream",
     "text": [
      "Optimal parameters: window=5400, std_dev=1.0\n",
      "Period 12 results: PnL=-15.30 pips, Trades=1, Win Rate=0.0%\n",
      "\n",
      "--- Period 13 ---\n",
      "Optimization: 2023-03-27 13:42:00 to 2023-12-06 08:49:00\n",
      "Trading: 2023-12-06 08:50:00 to 2023-12-13 09:47:00\n",
      "Starting optimization with 108 parameter combinations...\n",
      "Using single-threaded approach for reliability.\n"
     ]
    },
    {
     "name": "stderr",
     "output_type": "stream",
     "text": [
      "Parameter optimization: 100%|██████████| 108/108 [00:02<00:00, 41.80it/s]\n",
      "Parameter optimization: 100%|██████████| 108/108 [00:02<00:00, 41.80it/s]\n"
     ]
    },
    {
     "name": "stdout",
     "output_type": "stream",
     "text": [
      "Optimal parameters: window=5400, std_dev=1.0\n",
      "Period 13 results: PnL=21.10 pips, Trades=1, Win Rate=100.0%\n",
      "\n",
      "--- Period 14 ---\n",
      "Optimization: 2023-04-03 14:11:00 to 2023-12-13 09:47:00\n",
      "Trading: 2023-12-13 09:48:00 to 2023-12-20 10:22:00\n",
      "Starting optimization with 108 parameter combinations...\n",
      "Using single-threaded approach for reliability.\n"
     ]
    },
    {
     "name": "stderr",
     "output_type": "stream",
     "text": [
      "Parameter optimization: 100%|██████████| 108/108 [00:02<00:00, 44.28it/s]\n",
      "Parameter optimization: 100%|██████████| 108/108 [00:02<00:00, 44.28it/s]\n"
     ]
    },
    {
     "name": "stdout",
     "output_type": "stream",
     "text": [
      "Optimal parameters: window=5400, std_dev=1.0\n",
      "Period 14 results: PnL=-1.80 pips, Trades=2, Win Rate=50.0%\n",
      "\n",
      "--- Period 15 ---\n",
      "Optimization: 2023-04-10 15:10:00 to 2023-12-20 10:22:00\n",
      "Trading: 2023-12-20 10:23:00 to 2023-12-28 11:31:00\n",
      "Starting optimization with 108 parameter combinations...\n",
      "Using single-threaded approach for reliability.\n"
     ]
    },
    {
     "name": "stderr",
     "output_type": "stream",
     "text": [
      "Parameter optimization: 100%|██████████| 108/108 [00:02<00:00, 45.64it/s]\n",
      "Parameter optimization: 100%|██████████| 108/108 [00:02<00:00, 45.64it/s]\n"
     ]
    },
    {
     "name": "stdout",
     "output_type": "stream",
     "text": [
      "Optimal parameters: window=5400, std_dev=1.0\n",
      "Period 15 results: PnL=-41.30 pips, Trades=6, Win Rate=83.3%\n",
      "\n",
      "--- Period 16 ---\n",
      "Optimization: 2023-04-17 15:45:00 to 2023-12-28 11:31:00\n",
      "Trading: 2023-12-28 11:32:00 to 2024-01-05 12:37:00\n",
      "Starting optimization with 108 parameter combinations...\n",
      "Using single-threaded approach for reliability.\n"
     ]
    },
    {
     "name": "stderr",
     "output_type": "stream",
     "text": [
      "Parameter optimization: 100%|██████████| 108/108 [00:02<00:00, 46.07it/s]\n",
      "Parameter optimization: 100%|██████████| 108/108 [00:02<00:00, 46.07it/s]\n"
     ]
    },
    {
     "name": "stdout",
     "output_type": "stream",
     "text": [
      "Optimal parameters: window=5400, std_dev=1.0\n",
      "Period 16 results: PnL=42.60 pips, Trades=2, Win Rate=100.0%\n",
      "\n",
      "--- Period 17 ---\n",
      "Optimization: 2023-04-24 16:24:00 to 2024-01-05 12:37:00\n",
      "Trading: 2024-01-05 12:38:00 to 2024-01-12 13:34:00\n",
      "Starting optimization with 108 parameter combinations...\n",
      "Using single-threaded approach for reliability.\n"
     ]
    },
    {
     "name": "stderr",
     "output_type": "stream",
     "text": [
      "Parameter optimization: 100%|██████████| 108/108 [00:02<00:00, 46.18it/s]\n",
      "Parameter optimization: 100%|██████████| 108/108 [00:02<00:00, 46.18it/s]\n"
     ]
    },
    {
     "name": "stdout",
     "output_type": "stream",
     "text": [
      "Optimal parameters: window=5400, std_dev=1.0\n",
      "Period 17 results: PnL=-22.80 pips, Trades=1, Win Rate=0.0%\n",
      "\n",
      "--- Period 18 ---\n",
      "Optimization: 2023-05-01 17:18:00 to 2024-01-12 13:34:00\n",
      "Trading: 2024-01-12 13:35:00 to 2024-01-19 15:23:00\n",
      "Starting optimization with 108 parameter combinations...\n",
      "Using single-threaded approach for reliability.\n"
     ]
    },
    {
     "name": "stderr",
     "output_type": "stream",
     "text": [
      "Parameter optimization: 100%|██████████| 108/108 [00:02<00:00, 42.74it/s]\n",
      "Parameter optimization: 100%|██████████| 108/108 [00:02<00:00, 42.74it/s]\n"
     ]
    },
    {
     "name": "stdout",
     "output_type": "stream",
     "text": [
      "Optimal parameters: window=4400, std_dev=1.0\n",
      "Period 18 results: PnL=0.00 pips, Trades=0, Win Rate=0.0%\n",
      "\n",
      "--- Period 19 ---\n",
      "Optimization: 2023-05-08 17:56:00 to 2024-01-19 15:23:00\n",
      "Trading: 2024-01-19 15:24:00 to 2024-01-26 16:29:00\n",
      "Starting optimization with 108 parameter combinations...\n",
      "Using single-threaded approach for reliability.\n"
     ]
    },
    {
     "name": "stderr",
     "output_type": "stream",
     "text": [
      "Parameter optimization: 100%|██████████| 108/108 [00:02<00:00, 43.19it/s]\n",
      "Parameter optimization: 100%|██████████| 108/108 [00:02<00:00, 43.19it/s]\n"
     ]
    },
    {
     "name": "stdout",
     "output_type": "stream",
     "text": [
      "Optimal parameters: window=5400, std_dev=1.0\n",
      "Period 19 results: PnL=-51.90 pips, Trades=1, Win Rate=0.0%\n",
      "\n",
      "--- Period 20 ---\n",
      "Optimization: 2023-05-15 18:35:00 to 2024-01-26 16:29:00\n",
      "Trading: 2024-01-26 16:30:00 to 2024-02-02 17:17:00\n",
      "Starting optimization with 108 parameter combinations...\n",
      "Using single-threaded approach for reliability.\n"
     ]
    },
    {
     "name": "stderr",
     "output_type": "stream",
     "text": [
      "Parameter optimization: 100%|██████████| 108/108 [00:02<00:00, 42.15it/s]\n",
      "Parameter optimization: 100%|██████████| 108/108 [00:02<00:00, 42.15it/s]\n"
     ]
    },
    {
     "name": "stdout",
     "output_type": "stream",
     "text": [
      "Optimal parameters: window=5400, std_dev=1.0\n",
      "Period 20 results: PnL=7.90 pips, Trades=1, Win Rate=100.0%\n",
      "\n",
      "--- Period 21 ---\n",
      "Optimization: 2023-05-22 19:24:00 to 2024-02-02 17:17:00\n",
      "Trading: 2024-02-02 17:18:00 to 2024-02-09 18:26:00\n",
      "Starting optimization with 108 parameter combinations...\n",
      "Using single-threaded approach for reliability.\n"
     ]
    },
    {
     "name": "stderr",
     "output_type": "stream",
     "text": [
      "Parameter optimization: 100%|██████████| 108/108 [00:02<00:00, 43.72it/s]\n",
      "Parameter optimization: 100%|██████████| 108/108 [00:02<00:00, 43.72it/s]\n"
     ]
    },
    {
     "name": "stdout",
     "output_type": "stream",
     "text": [
      "Optimal parameters: window=3400, std_dev=1.0\n",
      "Period 21 results: PnL=-76.10 pips, Trades=1, Win Rate=0.0%\n",
      "\n",
      "--- Period 22 ---\n",
      "Optimization: 2023-05-29 20:37:00 to 2024-02-09 18:26:00\n",
      "Trading: 2024-02-09 18:27:00 to 2024-02-16 19:31:00\n",
      "Starting optimization with 108 parameter combinations...\n",
      "Using single-threaded approach for reliability.\n"
     ]
    },
    {
     "name": "stderr",
     "output_type": "stream",
     "text": [
      "Parameter optimization: 100%|██████████| 108/108 [00:02<00:00, 43.24it/s]\n",
      "Parameter optimization: 100%|██████████| 108/108 [00:02<00:00, 43.24it/s]\n"
     ]
    },
    {
     "name": "stdout",
     "output_type": "stream",
     "text": [
      "Optimal parameters: window=5400, std_dev=1.0\n",
      "Period 22 results: PnL=0.00 pips, Trades=0, Win Rate=0.0%\n",
      "\n",
      "--- Period 23 ---\n",
      "Optimization: 2023-06-05 21:35:00 to 2024-02-16 19:31:00\n",
      "Trading: 2024-02-16 19:32:00 to 2024-02-23 21:16:00\n",
      "Starting optimization with 108 parameter combinations...\n",
      "Using single-threaded approach for reliability.\n"
     ]
    },
    {
     "name": "stderr",
     "output_type": "stream",
     "text": [
      "Parameter optimization: 100%|██████████| 108/108 [00:02<00:00, 45.31it/s]\n",
      "Parameter optimization: 100%|██████████| 108/108 [00:02<00:00, 45.31it/s]\n"
     ]
    },
    {
     "name": "stdout",
     "output_type": "stream",
     "text": [
      "Optimal parameters: window=3400, std_dev=1.0\n",
      "Period 23 results: PnL=23.60 pips, Trades=4, Win Rate=75.0%\n",
      "\n",
      "--- Period 24 ---\n",
      "Optimization: 2023-06-12 22:26:00 to 2024-02-23 21:16:00\n",
      "Trading: 2024-02-23 21:17:00 to 2024-03-01 21:53:00\n",
      "Starting optimization with 108 parameter combinations...\n",
      "Using single-threaded approach for reliability.\n"
     ]
    },
    {
     "name": "stderr",
     "output_type": "stream",
     "text": [
      "Parameter optimization: 100%|██████████| 108/108 [00:02<00:00, 46.17it/s]\n",
      "Parameter optimization: 100%|██████████| 108/108 [00:02<00:00, 46.17it/s]\n"
     ]
    },
    {
     "name": "stdout",
     "output_type": "stream",
     "text": [
      "Optimal parameters: window=1400, std_dev=2.5\n",
      "Period 24 results: PnL=-20.90 pips, Trades=4, Win Rate=50.0%\n",
      "\n",
      "--- Period 25 ---\n",
      "Optimization: 2023-06-19 23:32:00 to 2024-03-01 21:53:00\n",
      "Trading: 2024-03-01 21:54:00 to 2024-03-08 22:23:00\n",
      "Starting optimization with 108 parameter combinations...\n",
      "Using single-threaded approach for reliability.\n"
     ]
    },
    {
     "name": "stderr",
     "output_type": "stream",
     "text": [
      "Parameter optimization: 100%|██████████| 108/108 [00:02<00:00, 46.90it/s]\n",
      "Parameter optimization: 100%|██████████| 108/108 [00:02<00:00, 46.90it/s]\n"
     ]
    },
    {
     "name": "stdout",
     "output_type": "stream",
     "text": [
      "Optimal parameters: window=5400, std_dev=1.0\n",
      "Period 25 results: PnL=2.60 pips, Trades=1, Win Rate=100.0%\n",
      "\n",
      "--- Period 26 ---\n",
      "Optimization: 2023-06-27 00:40:00 to 2024-03-08 22:23:00\n",
      "Trading: 2024-03-08 22:24:00 to 2024-03-15 23:19:00\n",
      "Starting optimization with 108 parameter combinations...\n",
      "Using single-threaded approach for reliability.\n"
     ]
    },
    {
     "name": "stderr",
     "output_type": "stream",
     "text": [
      "Parameter optimization: 100%|██████████| 108/108 [00:02<00:00, 47.11it/s]\n",
      "Parameter optimization: 100%|██████████| 108/108 [00:02<00:00, 47.11it/s]\n"
     ]
    },
    {
     "name": "stdout",
     "output_type": "stream",
     "text": [
      "Optimal parameters: window=2400, std_dev=1.5\n",
      "Period 26 results: PnL=-7.30 pips, Trades=4, Win Rate=75.0%\n",
      "\n",
      "--- Period 27 ---\n",
      "Optimization: 2023-07-04 02:01:00 to 2024-03-15 23:19:00\n",
      "Trading: 2024-03-15 23:20:00 to 2024-03-25 00:11:00\n",
      "Starting optimization with 108 parameter combinations...\n",
      "Using single-threaded approach for reliability.\n"
     ]
    },
    {
     "name": "stderr",
     "output_type": "stream",
     "text": [
      "Parameter optimization: 100%|██████████| 108/108 [00:02<00:00, 42.18it/s]\n",
      "Parameter optimization: 100%|██████████| 108/108 [00:02<00:00, 42.18it/s]\n"
     ]
    },
    {
     "name": "stdout",
     "output_type": "stream",
     "text": [
      "Optimal parameters: window=1400, std_dev=2.5\n",
      "Period 27 results: PnL=-6.20 pips, Trades=3, Win Rate=66.7%\n",
      "\n",
      "--- Period 28 ---\n",
      "Optimization: 2023-07-11 03:20:00 to 2024-03-25 00:11:00\n",
      "Trading: 2024-03-25 00:12:00 to 2024-04-01 01:27:00\n",
      "Starting optimization with 108 parameter combinations...\n",
      "Using single-threaded approach for reliability.\n"
     ]
    },
    {
     "name": "stderr",
     "output_type": "stream",
     "text": [
      "Parameter optimization: 100%|██████████| 108/108 [00:02<00:00, 47.00it/s]\n",
      "Parameter optimization: 100%|██████████| 108/108 [00:02<00:00, 47.00it/s]\n"
     ]
    },
    {
     "name": "stdout",
     "output_type": "stream",
     "text": [
      "Optimal parameters: window=4400, std_dev=5.5\n",
      "Period 28 results: PnL=0.00 pips, Trades=0, Win Rate=0.0%\n",
      "\n",
      "--- Period 29 ---\n",
      "Optimization: 2023-07-18 05:03:00 to 2024-04-01 01:27:00\n",
      "Trading: 2024-04-01 01:28:00 to 2024-04-08 02:17:00\n",
      "Starting optimization with 108 parameter combinations...\n",
      "Using single-threaded approach for reliability.\n"
     ]
    },
    {
     "name": "stderr",
     "output_type": "stream",
     "text": [
      "Parameter optimization: 100%|██████████| 108/108 [00:02<00:00, 46.25it/s]\n",
      "Parameter optimization: 100%|██████████| 108/108 [00:02<00:00, 46.25it/s]\n"
     ]
    },
    {
     "name": "stdout",
     "output_type": "stream",
     "text": [
      "Optimal parameters: window=4400, std_dev=5.5\n",
      "Period 29 results: PnL=0.00 pips, Trades=0, Win Rate=0.0%\n",
      "\n",
      "--- Period 30 ---\n",
      "Optimization: 2023-07-25 06:15:00 to 2024-04-08 02:17:00\n",
      "Trading: 2024-04-08 02:18:00 to 2024-04-15 03:08:00\n",
      "Starting optimization with 108 parameter combinations...\n",
      "Using single-threaded approach for reliability.\n"
     ]
    },
    {
     "name": "stderr",
     "output_type": "stream",
     "text": [
      "Parameter optimization: 100%|██████████| 108/108 [00:02<00:00, 44.17it/s]\n",
      "Parameter optimization: 100%|██████████| 108/108 [00:02<00:00, 44.17it/s]\n"
     ]
    },
    {
     "name": "stdout",
     "output_type": "stream",
     "text": [
      "Optimal parameters: window=4400, std_dev=5.5\n",
      "Period 30 results: PnL=-30.10 pips, Trades=1, Win Rate=0.0%\n",
      "\n",
      "--- Period 31 ---\n",
      "Optimization: 2023-08-01 07:38:00 to 2024-04-15 03:08:00\n",
      "Trading: 2024-04-15 03:09:00 to 2024-04-22 03:57:00\n",
      "Starting optimization with 108 parameter combinations...\n",
      "Using single-threaded approach for reliability.\n"
     ]
    },
    {
     "name": "stderr",
     "output_type": "stream",
     "text": [
      "Parameter optimization: 100%|██████████| 108/108 [00:02<00:00, 46.17it/s]\n",
      "Parameter optimization: 100%|██████████| 108/108 [00:02<00:00, 46.17it/s]\n"
     ]
    },
    {
     "name": "stdout",
     "output_type": "stream",
     "text": [
      "Optimal parameters: window=4400, std_dev=5.5\n",
      "Period 31 results: PnL=56.80 pips, Trades=1, Win Rate=100.0%\n",
      "\n",
      "--- Period 32 ---\n",
      "Optimization: 2023-08-08 08:44:00 to 2024-04-22 03:57:00\n",
      "Trading: 2024-04-22 03:58:00 to 2024-04-29 05:05:00\n",
      "Starting optimization with 108 parameter combinations...\n",
      "Using single-threaded approach for reliability.\n"
     ]
    },
    {
     "name": "stderr",
     "output_type": "stream",
     "text": [
      "Parameter optimization: 100%|██████████| 108/108 [00:02<00:00, 45.32it/s]\n",
      "Parameter optimization: 100%|██████████| 108/108 [00:02<00:00, 45.32it/s]\n"
     ]
    },
    {
     "name": "stdout",
     "output_type": "stream",
     "text": [
      "Optimal parameters: window=7400, std_dev=5.5\n",
      "Insufficient trading data for period 32, skipping...\n",
      "\n",
      "--- Period 33 ---\n",
      "Optimization: 2023-08-15 10:25:00 to 2024-04-29 05:05:00\n",
      "Trading: 2024-04-29 05:06:00 to 2024-05-06 05:50:00\n",
      "Starting optimization with 108 parameter combinations...\n",
      "Using single-threaded approach for reliability.\n"
     ]
    },
    {
     "name": "stderr",
     "output_type": "stream",
     "text": [
      "Parameter optimization: 100%|██████████| 108/108 [00:02<00:00, 45.64it/s]\n",
      "Parameter optimization: 100%|██████████| 108/108 [00:02<00:00, 45.64it/s]\n"
     ]
    },
    {
     "name": "stdout",
     "output_type": "stream",
     "text": [
      "Optimal parameters: window=7400, std_dev=5.5\n",
      "Insufficient trading data for period 33, skipping...\n",
      "\n",
      "--- Period 34 ---\n",
      "Optimization: 2023-08-22 11:30:00 to 2024-05-06 05:50:00\n",
      "Trading: 2024-05-06 05:51:00 to 2024-05-13 07:25:00\n",
      "Starting optimization with 108 parameter combinations...\n",
      "Using single-threaded approach for reliability.\n"
     ]
    },
    {
     "name": "stderr",
     "output_type": "stream",
     "text": [
      "Parameter optimization: 100%|██████████| 108/108 [00:02<00:00, 46.02it/s]\n",
      "Parameter optimization: 100%|██████████| 108/108 [00:02<00:00, 46.02it/s]\n"
     ]
    },
    {
     "name": "stdout",
     "output_type": "stream",
     "text": [
      "Optimal parameters: window=7400, std_dev=5.5\n",
      "Insufficient trading data for period 34, skipping...\n",
      "\n",
      "--- Period 35 ---\n",
      "Optimization: 2023-08-29 13:00:00 to 2024-05-13 07:25:00\n",
      "Trading: 2024-05-13 07:26:00 to 2024-05-20 08:58:00\n",
      "Starting optimization with 108 parameter combinations...\n",
      "Using single-threaded approach for reliability.\n"
     ]
    },
    {
     "name": "stderr",
     "output_type": "stream",
     "text": [
      "Parameter optimization: 100%|██████████| 108/108 [00:02<00:00, 46.31it/s]\n",
      "Parameter optimization: 100%|██████████| 108/108 [00:02<00:00, 46.31it/s]\n"
     ]
    },
    {
     "name": "stdout",
     "output_type": "stream",
     "text": [
      "Optimal parameters: window=7400, std_dev=5.5\n",
      "Insufficient trading data for period 35, skipping...\n",
      "\n",
      "--- Period 36 ---\n",
      "Optimization: 2023-09-05 14:45:00 to 2024-05-20 08:58:00\n",
      "Trading: 2024-05-20 08:59:00 to 2024-05-27 10:34:00\n",
      "Starting optimization with 108 parameter combinations...\n",
      "Using single-threaded approach for reliability.\n"
     ]
    },
    {
     "name": "stderr",
     "output_type": "stream",
     "text": [
      "Parameter optimization: 100%|██████████| 108/108 [00:02<00:00, 46.16it/s]\n",
      "Parameter optimization: 100%|██████████| 108/108 [00:02<00:00, 46.16it/s]\n"
     ]
    },
    {
     "name": "stdout",
     "output_type": "stream",
     "text": [
      "Optimal parameters: window=7400, std_dev=5.5\n",
      "Insufficient trading data for period 36, skipping...\n",
      "\n",
      "--- Period 37 ---\n",
      "Optimization: 2023-09-12 16:10:00 to 2024-05-27 10:34:00\n",
      "Trading: 2024-05-27 10:35:00 to 2024-06-03 12:07:00\n",
      "Starting optimization with 108 parameter combinations...\n",
      "Using single-threaded approach for reliability.\n"
     ]
    },
    {
     "name": "stderr",
     "output_type": "stream",
     "text": [
      "Parameter optimization: 100%|██████████| 108/108 [00:02<00:00, 44.09it/s]\n",
      "Parameter optimization: 100%|██████████| 108/108 [00:02<00:00, 44.09it/s]\n"
     ]
    },
    {
     "name": "stdout",
     "output_type": "stream",
     "text": [
      "Optimal parameters: window=7400, std_dev=5.5\n",
      "Insufficient trading data for period 37, skipping...\n",
      "\n",
      "--- Period 38 ---\n",
      "Optimization: 2023-09-19 18:02:00 to 2024-06-03 12:07:00\n",
      "Trading: 2024-06-03 12:08:00 to 2024-06-10 13:04:00\n",
      "Starting optimization with 108 parameter combinations...\n",
      "Using single-threaded approach for reliability.\n"
     ]
    },
    {
     "name": "stderr",
     "output_type": "stream",
     "text": [
      "Parameter optimization: 100%|██████████| 108/108 [00:02<00:00, 44.79it/s]\n",
      "Parameter optimization: 100%|██████████| 108/108 [00:02<00:00, 44.79it/s]\n"
     ]
    },
    {
     "name": "stdout",
     "output_type": "stream",
     "text": [
      "Optimal parameters: window=7400, std_dev=5.5\n",
      "Insufficient trading data for period 38, skipping...\n",
      "\n",
      "--- Period 39 ---\n",
      "Optimization: 2023-09-26 19:58:00 to 2024-06-10 13:04:00\n",
      "Trading: 2024-06-10 13:05:00 to 2024-06-17 14:57:00\n",
      "Starting optimization with 108 parameter combinations...\n",
      "Using single-threaded approach for reliability.\n"
     ]
    },
    {
     "name": "stderr",
     "output_type": "stream",
     "text": [
      "Parameter optimization: 100%|██████████| 108/108 [00:02<00:00, 44.49it/s]\n",
      "Parameter optimization: 100%|██████████| 108/108 [00:02<00:00, 44.49it/s]\n"
     ]
    },
    {
     "name": "stdout",
     "output_type": "stream",
     "text": [
      "Optimal parameters: window=4400, std_dev=5.5\n",
      "Period 39 results: PnL=0.00 pips, Trades=0, Win Rate=0.0%\n",
      "\n",
      "--- Period 40 ---\n",
      "Optimization: 2023-10-03 21:01:00 to 2024-06-17 14:57:00\n",
      "Trading: 2024-06-17 14:58:00 to 2024-06-24 17:08:00\n",
      "Starting optimization with 108 parameter combinations...\n",
      "Using single-threaded approach for reliability.\n"
     ]
    },
    {
     "name": "stderr",
     "output_type": "stream",
     "text": [
      "Parameter optimization: 100%|██████████| 108/108 [00:02<00:00, 46.45it/s]\n",
      "Parameter optimization: 100%|██████████| 108/108 [00:02<00:00, 46.45it/s]\n"
     ]
    },
    {
     "name": "stdout",
     "output_type": "stream",
     "text": [
      "Optimal parameters: window=5400, std_dev=6.0\n",
      "Period 40 results: PnL=0.00 pips, Trades=0, Win Rate=0.0%\n",
      "\n",
      "--- Period 41 ---\n",
      "Optimization: 2023-10-10 21:56:00 to 2024-06-24 17:08:00\n",
      "Trading: 2024-06-24 17:09:00 to 2024-07-01 18:28:00\n",
      "Starting optimization with 108 parameter combinations...\n",
      "Using single-threaded approach for reliability.\n"
     ]
    },
    {
     "name": "stderr",
     "output_type": "stream",
     "text": [
      "Parameter optimization: 100%|██████████| 108/108 [00:02<00:00, 45.96it/s]\n",
      "Parameter optimization: 100%|██████████| 108/108 [00:02<00:00, 45.96it/s]\n"
     ]
    },
    {
     "name": "stdout",
     "output_type": "stream",
     "text": [
      "Optimal parameters: window=5400, std_dev=6.0\n",
      "Period 41 results: PnL=0.00 pips, Trades=0, Win Rate=0.0%\n",
      "\n",
      "--- Period 42 ---\n",
      "Optimization: 2023-10-17 23:23:00 to 2024-07-01 18:28:00\n",
      "Trading: 2024-07-01 18:29:00 to 2024-07-08 21:18:00\n",
      "Starting optimization with 108 parameter combinations...\n",
      "Using single-threaded approach for reliability.\n"
     ]
    },
    {
     "name": "stderr",
     "output_type": "stream",
     "text": [
      "Parameter optimization: 100%|██████████| 108/108 [00:02<00:00, 44.60it/s]\n",
      "Parameter optimization: 100%|██████████| 108/108 [00:02<00:00, 44.60it/s]\n"
     ]
    },
    {
     "name": "stdout",
     "output_type": "stream",
     "text": [
      "Optimal parameters: window=5400, std_dev=6.0\n",
      "Period 42 results: PnL=0.00 pips, Trades=0, Win Rate=0.0%\n",
      "\n",
      "--- Period 43 ---\n",
      "Optimization: 2023-10-25 00:30:00 to 2024-07-08 21:18:00\n",
      "Trading: 2024-07-08 21:19:00 to 2024-07-15 23:09:00\n",
      "Starting optimization with 108 parameter combinations...\n",
      "Using single-threaded approach for reliability.\n"
     ]
    },
    {
     "name": "stderr",
     "output_type": "stream",
     "text": [
      "Parameter optimization: 100%|██████████| 108/108 [00:02<00:00, 42.59it/s]\n",
      "\n"
     ]
    },
    {
     "name": "stdout",
     "output_type": "stream",
     "text": [
      "Optimal parameters: window=5400, std_dev=6.0\n",
      "Period 43 results: PnL=0.00 pips, Trades=0, Win Rate=0.0%\n",
      "\n",
      "--- Period 44 ---\n",
      "Optimization: 2023-11-01 01:39:00 to 2024-07-15 23:09:00\n",
      "Trading: 2024-07-15 23:10:00 to 2024-07-23 00:28:00\n",
      "Starting optimization with 108 parameter combinations...\n",
      "Using single-threaded approach for reliability.\n"
     ]
    },
    {
     "name": "stderr",
     "output_type": "stream",
     "text": [
      "Parameter optimization: 100%|██████████| 108/108 [00:02<00:00, 45.43it/s]\n",
      "Parameter optimization: 100%|██████████| 108/108 [00:02<00:00, 45.43it/s]\n"
     ]
    },
    {
     "name": "stdout",
     "output_type": "stream",
     "text": [
      "Optimal parameters: window=5400, std_dev=6.0\n",
      "Period 44 results: PnL=0.00 pips, Trades=0, Win Rate=0.0%\n",
      "\n",
      "--- Period 45 ---\n",
      "Optimization: 2023-11-08 02:59:00 to 2024-07-23 00:28:00\n",
      "Trading: 2024-07-23 00:29:00 to 2024-07-30 01:22:00\n",
      "Starting optimization with 108 parameter combinations...\n",
      "Using single-threaded approach for reliability.\n"
     ]
    },
    {
     "name": "stderr",
     "output_type": "stream",
     "text": [
      "Parameter optimization: 100%|██████████| 108/108 [00:02<00:00, 43.72it/s]\n",
      "Parameter optimization: 100%|██████████| 108/108 [00:02<00:00, 43.72it/s]\n"
     ]
    },
    {
     "name": "stdout",
     "output_type": "stream",
     "text": [
      "Optimal parameters: window=5400, std_dev=6.0\n",
      "Period 45 results: PnL=0.00 pips, Trades=0, Win Rate=0.0%\n",
      "\n",
      "--- Period 46 ---\n",
      "Optimization: 2023-11-15 04:46:00 to 2024-07-30 01:22:00\n",
      "Trading: 2024-07-30 01:23:00 to 2024-08-06 02:19:00\n",
      "Starting optimization with 108 parameter combinations...\n",
      "Using single-threaded approach for reliability.\n"
     ]
    },
    {
     "name": "stderr",
     "output_type": "stream",
     "text": [
      "Parameter optimization: 100%|██████████| 108/108 [00:02<00:00, 46.85it/s]\n",
      "Parameter optimization: 100%|██████████| 108/108 [00:02<00:00, 46.85it/s]\n"
     ]
    },
    {
     "name": "stdout",
     "output_type": "stream",
     "text": [
      "Optimal parameters: window=5400, std_dev=6.0\n",
      "Period 46 results: PnL=0.00 pips, Trades=0, Win Rate=0.0%\n",
      "\n",
      "--- Period 47 ---\n",
      "Optimization: 2023-11-22 05:50:00 to 2024-08-06 02:19:00\n",
      "Trading: 2024-08-06 02:20:00 to 2024-08-13 03:02:00\n",
      "Starting optimization with 108 parameter combinations...\n",
      "Using single-threaded approach for reliability.\n"
     ]
    },
    {
     "name": "stderr",
     "output_type": "stream",
     "text": [
      "Parameter optimization: 100%|██████████| 108/108 [00:02<00:00, 46.64it/s]\n",
      "Parameter optimization: 100%|██████████| 108/108 [00:02<00:00, 46.64it/s]\n"
     ]
    },
    {
     "name": "stdout",
     "output_type": "stream",
     "text": [
      "Optimal parameters: window=5400, std_dev=6.0\n",
      "Period 47 results: PnL=0.00 pips, Trades=0, Win Rate=0.0%\n",
      "\n",
      "--- Period 48 ---\n",
      "Optimization: 2023-11-29 07:59:00 to 2024-08-13 03:02:00\n",
      "Trading: 2024-08-13 03:03:00 to 2024-08-20 03:37:00\n",
      "Starting optimization with 108 parameter combinations...\n",
      "Using single-threaded approach for reliability.\n"
     ]
    },
    {
     "name": "stderr",
     "output_type": "stream",
     "text": [
      "Parameter optimization: 100%|██████████| 108/108 [00:02<00:00, 46.74it/s]\n",
      "Parameter optimization: 100%|██████████| 108/108 [00:02<00:00, 46.74it/s]\n"
     ]
    },
    {
     "name": "stdout",
     "output_type": "stream",
     "text": [
      "Optimal parameters: window=5400, std_dev=6.0\n",
      "Period 48 results: PnL=0.00 pips, Trades=0, Win Rate=0.0%\n",
      "\n",
      "--- Period 49 ---\n",
      "Optimization: 2023-12-06 08:50:00 to 2024-08-20 03:37:00\n",
      "Trading: 2024-08-20 03:38:00 to 2024-08-27 04:14:00\n",
      "Starting optimization with 108 parameter combinations...\n",
      "Using single-threaded approach for reliability.\n"
     ]
    },
    {
     "name": "stderr",
     "output_type": "stream",
     "text": [
      "Parameter optimization: 100%|██████████| 108/108 [00:02<00:00, 44.23it/s]\n",
      "Parameter optimization: 100%|██████████| 108/108 [00:02<00:00, 44.23it/s]\n"
     ]
    },
    {
     "name": "stdout",
     "output_type": "stream",
     "text": [
      "Optimal parameters: window=5400, std_dev=6.0\n",
      "Period 49 results: PnL=0.00 pips, Trades=0, Win Rate=0.0%\n",
      "\n",
      "--- Period 50 ---\n",
      "Optimization: 2023-12-13 09:48:00 to 2024-08-27 04:14:00\n",
      "Trading: 2024-08-27 04:15:00 to 2024-09-03 05:34:00\n",
      "Starting optimization with 108 parameter combinations...\n",
      "Using single-threaded approach for reliability.\n"
     ]
    },
    {
     "name": "stderr",
     "output_type": "stream",
     "text": [
      "Parameter optimization: 100%|██████████| 108/108 [00:02<00:00, 43.57it/s]\n",
      "Parameter optimization: 100%|██████████| 108/108 [00:02<00:00, 43.57it/s]\n"
     ]
    },
    {
     "name": "stdout",
     "output_type": "stream",
     "text": [
      "Optimal parameters: window=5400, std_dev=6.0\n",
      "Period 50 results: PnL=0.00 pips, Trades=0, Win Rate=0.0%\n",
      "\n",
      "--- Period 51 ---\n",
      "Optimization: 2023-12-20 10:23:00 to 2024-09-03 05:34:00\n",
      "Trading: 2024-09-03 05:35:00 to 2024-09-10 06:18:00\n",
      "Starting optimization with 108 parameter combinations...\n",
      "Using single-threaded approach for reliability.\n"
     ]
    },
    {
     "name": "stderr",
     "output_type": "stream",
     "text": [
      "Parameter optimization: 100%|██████████| 108/108 [00:02<00:00, 43.20it/s]\n",
      "Parameter optimization: 100%|██████████| 108/108 [00:02<00:00, 43.20it/s]\n"
     ]
    },
    {
     "name": "stdout",
     "output_type": "stream",
     "text": [
      "Optimal parameters: window=7400, std_dev=5.5\n",
      "Insufficient trading data for period 51, skipping...\n",
      "\n",
      "--- Period 52 ---\n",
      "Optimization: 2023-12-28 11:32:00 to 2024-09-10 06:18:00\n",
      "Trading: 2024-09-10 06:19:00 to 2024-09-17 07:02:00\n",
      "Starting optimization with 108 parameter combinations...\n",
      "Using single-threaded approach for reliability.\n"
     ]
    },
    {
     "name": "stderr",
     "output_type": "stream",
     "text": [
      "Parameter optimization: 100%|██████████| 108/108 [00:02<00:00, 43.06it/s]\n",
      "Parameter optimization: 100%|██████████| 108/108 [00:02<00:00, 43.06it/s]\n"
     ]
    },
    {
     "name": "stdout",
     "output_type": "stream",
     "text": [
      "Optimal parameters: window=5400, std_dev=6.0\n",
      "Period 52 results: PnL=0.00 pips, Trades=0, Win Rate=0.0%\n",
      "\n",
      "--- Period 53 ---\n",
      "Optimization: 2024-01-05 12:38:00 to 2024-09-17 07:02:00\n",
      "Trading: 2024-09-17 07:03:00 to 2024-09-24 07:28:00\n",
      "Starting optimization with 108 parameter combinations...\n",
      "Using single-threaded approach for reliability.\n"
     ]
    },
    {
     "name": "stderr",
     "output_type": "stream",
     "text": [
      "Parameter optimization: 100%|██████████| 108/108 [00:02<00:00, 43.43it/s]\n",
      "Parameter optimization: 100%|██████████| 108/108 [00:02<00:00, 43.43it/s]\n"
     ]
    },
    {
     "name": "stdout",
     "output_type": "stream",
     "text": [
      "Optimal parameters: window=5400, std_dev=6.0\n",
      "Period 53 results: PnL=0.00 pips, Trades=0, Win Rate=0.0%\n",
      "\n",
      "--- Period 54 ---\n",
      "Optimization: 2024-01-12 13:35:00 to 2024-09-24 07:28:00\n",
      "Trading: 2024-09-24 07:29:00 to 2024-10-01 07:57:00\n",
      "Starting optimization with 108 parameter combinations...\n",
      "Using single-threaded approach for reliability.\n"
     ]
    },
    {
     "name": "stderr",
     "output_type": "stream",
     "text": [
      "Parameter optimization: 100%|██████████| 108/108 [00:02<00:00, 42.59it/s]\n",
      "Parameter optimization: 100%|██████████| 108/108 [00:02<00:00, 42.59it/s]\n"
     ]
    },
    {
     "name": "stdout",
     "output_type": "stream",
     "text": [
      "Optimal parameters: window=5400, std_dev=6.0\n",
      "Period 54 results: PnL=0.00 pips, Trades=0, Win Rate=0.0%\n",
      "\n",
      "--- Period 55 ---\n",
      "Optimization: 2024-01-19 15:24:00 to 2024-10-01 07:57:00\n",
      "Trading: 2024-10-01 07:58:00 to 2024-10-08 08:27:00\n",
      "Starting optimization with 108 parameter combinations...\n",
      "Using single-threaded approach for reliability.\n"
     ]
    },
    {
     "name": "stderr",
     "output_type": "stream",
     "text": [
      "Parameter optimization: 100%|██████████| 108/108 [00:02<00:00, 45.85it/s]\n",
      "Parameter optimization: 100%|██████████| 108/108 [00:02<00:00, 45.85it/s]\n"
     ]
    },
    {
     "name": "stdout",
     "output_type": "stream",
     "text": [
      "Optimal parameters: window=5400, std_dev=6.0\n",
      "Period 55 results: PnL=0.00 pips, Trades=0, Win Rate=0.0%\n",
      "\n",
      "--- Period 56 ---\n",
      "Optimization: 2024-01-26 16:30:00 to 2024-10-08 08:27:00\n",
      "Trading: 2024-10-08 08:28:00 to 2024-10-15 10:08:00\n",
      "Starting optimization with 108 parameter combinations...\n",
      "Using single-threaded approach for reliability.\n"
     ]
    },
    {
     "name": "stderr",
     "output_type": "stream",
     "text": [
      "Parameter optimization: 100%|██████████| 108/108 [00:02<00:00, 46.05it/s]\n",
      "Parameter optimization: 100%|██████████| 108/108 [00:02<00:00, 46.05it/s]\n"
     ]
    },
    {
     "name": "stdout",
     "output_type": "stream",
     "text": [
      "Optimal parameters: window=5400, std_dev=6.0\n",
      "Period 56 results: PnL=0.00 pips, Trades=0, Win Rate=0.0%\n",
      "\n",
      "--- Period 57 ---\n",
      "Optimization: 2024-02-02 17:18:00 to 2024-10-15 10:08:00\n",
      "Trading: 2024-10-15 10:09:00 to 2024-10-22 10:52:00\n",
      "Starting optimization with 108 parameter combinations...\n",
      "Using single-threaded approach for reliability.\n"
     ]
    },
    {
     "name": "stderr",
     "output_type": "stream",
     "text": [
      "Parameter optimization: 100%|██████████| 108/108 [00:02<00:00, 43.96it/s]\n",
      "Parameter optimization: 100%|██████████| 108/108 [00:02<00:00, 43.96it/s]\n"
     ]
    },
    {
     "name": "stdout",
     "output_type": "stream",
     "text": [
      "Optimal parameters: window=5400, std_dev=6.0\n",
      "Period 57 results: PnL=0.00 pips, Trades=0, Win Rate=0.0%\n",
      "\n",
      "--- Period 58 ---\n",
      "Optimization: 2024-02-09 18:27:00 to 2024-10-22 10:52:00\n",
      "Trading: 2024-10-22 10:53:00 to 2024-10-29 11:33:00\n",
      "Starting optimization with 108 parameter combinations...\n",
      "Using single-threaded approach for reliability.\n"
     ]
    },
    {
     "name": "stderr",
     "output_type": "stream",
     "text": [
      "Parameter optimization: 100%|██████████| 108/108 [00:02<00:00, 45.39it/s]\n",
      "Parameter optimization: 100%|██████████| 108/108 [00:02<00:00, 45.39it/s]\n"
     ]
    },
    {
     "name": "stdout",
     "output_type": "stream",
     "text": [
      "Optimal parameters: window=5400, std_dev=6.0\n",
      "Period 58 results: PnL=0.00 pips, Trades=0, Win Rate=0.0%\n",
      "\n",
      "--- Period 59 ---\n",
      "Optimization: 2024-02-16 19:32:00 to 2024-10-29 11:33:00\n",
      "Trading: 2024-10-29 11:34:00 to 2024-11-05 12:22:00\n",
      "Starting optimization with 108 parameter combinations...\n",
      "Using single-threaded approach for reliability.\n"
     ]
    },
    {
     "name": "stderr",
     "output_type": "stream",
     "text": [
      "Parameter optimization: 100%|██████████| 108/108 [00:02<00:00, 44.54it/s]\n",
      "Parameter optimization: 100%|██████████| 108/108 [00:02<00:00, 44.54it/s]\n"
     ]
    },
    {
     "name": "stdout",
     "output_type": "stream",
     "text": [
      "Optimal parameters: window=5400, std_dev=6.0\n",
      "Period 59 results: PnL=0.00 pips, Trades=0, Win Rate=0.0%\n",
      "\n",
      "--- Period 60 ---\n",
      "Optimization: 2024-02-23 21:17:00 to 2024-11-05 12:22:00\n",
      "Trading: 2024-11-05 12:23:00 to 2024-11-12 12:54:00\n",
      "Starting optimization with 108 parameter combinations...\n",
      "Using single-threaded approach for reliability.\n"
     ]
    },
    {
     "name": "stderr",
     "output_type": "stream",
     "text": [
      "Parameter optimization: 100%|██████████| 108/108 [00:02<00:00, 46.23it/s]\n",
      "Parameter optimization: 100%|██████████| 108/108 [00:02<00:00, 46.23it/s]\n"
     ]
    },
    {
     "name": "stdout",
     "output_type": "stream",
     "text": [
      "Optimal parameters: window=5400, std_dev=6.0\n",
      "Period 60 results: PnL=0.00 pips, Trades=0, Win Rate=0.0%\n",
      "\n",
      "--- Period 61 ---\n",
      "Optimization: 2024-03-01 21:54:00 to 2024-11-12 12:54:00\n",
      "Trading: 2024-11-12 12:55:00 to 2024-11-19 13:44:00\n",
      "Starting optimization with 108 parameter combinations...\n",
      "Using single-threaded approach for reliability.\n"
     ]
    },
    {
     "name": "stderr",
     "output_type": "stream",
     "text": [
      "Parameter optimization: 100%|██████████| 108/108 [00:02<00:00, 45.48it/s]\n",
      "Parameter optimization: 100%|██████████| 108/108 [00:02<00:00, 45.48it/s]\n"
     ]
    },
    {
     "name": "stdout",
     "output_type": "stream",
     "text": [
      "Optimal parameters: window=5400, std_dev=6.0\n",
      "Period 61 results: PnL=0.00 pips, Trades=0, Win Rate=0.0%\n",
      "\n",
      "--- Period 62 ---\n",
      "Optimization: 2024-03-08 22:24:00 to 2024-11-19 13:44:00\n",
      "Trading: 2024-11-19 13:45:00 to 2024-11-26 14:09:00\n",
      "Starting optimization with 108 parameter combinations...\n",
      "Using single-threaded approach for reliability.\n"
     ]
    },
    {
     "name": "stderr",
     "output_type": "stream",
     "text": [
      "Parameter optimization: 100%|██████████| 108/108 [00:02<00:00, 44.48it/s]\n",
      "Parameter optimization: 100%|██████████| 108/108 [00:02<00:00, 44.48it/s]\n"
     ]
    },
    {
     "name": "stdout",
     "output_type": "stream",
     "text": [
      "Optimal parameters: window=5400, std_dev=6.0\n",
      "Period 62 results: PnL=0.00 pips, Trades=0, Win Rate=0.0%\n",
      "\n",
      "--- Period 63 ---\n",
      "Optimization: 2024-03-15 23:20:00 to 2024-11-26 14:09:00\n",
      "Trading: 2024-11-26 14:10:00 to 2024-12-03 14:43:00\n",
      "Starting optimization with 108 parameter combinations...\n",
      "Using single-threaded approach for reliability.\n"
     ]
    },
    {
     "name": "stderr",
     "output_type": "stream",
     "text": [
      "Parameter optimization: 100%|██████████| 108/108 [00:02<00:00, 44.89it/s]\n",
      "Parameter optimization: 100%|██████████| 108/108 [00:02<00:00, 44.89it/s]\n"
     ]
    },
    {
     "name": "stdout",
     "output_type": "stream",
     "text": [
      "Optimal parameters: window=2400, std_dev=6.0\n",
      "Period 63 results: PnL=0.00 pips, Trades=0, Win Rate=0.0%\n",
      "\n",
      "--- Period 64 ---\n",
      "Optimization: 2024-03-25 00:12:00 to 2024-12-03 14:43:00\n",
      "Trading: 2024-12-03 14:44:00 to 2024-12-10 15:26:00\n",
      "Starting optimization with 108 parameter combinations...\n",
      "Using single-threaded approach for reliability.\n"
     ]
    },
    {
     "name": "stderr",
     "output_type": "stream",
     "text": [
      "Parameter optimization: 100%|██████████| 108/108 [00:02<00:00, 45.07it/s]\n",
      "Parameter optimization: 100%|██████████| 108/108 [00:02<00:00, 45.07it/s]\n"
     ]
    },
    {
     "name": "stdout",
     "output_type": "stream",
     "text": [
      "Optimal parameters: window=7400, std_dev=5.5\n",
      "Insufficient trading data for period 64, skipping...\n",
      "\n",
      "--- Period 65 ---\n",
      "Optimization: 2024-04-01 01:28:00 to 2024-12-10 15:26:00\n",
      "Trading: 2024-12-10 15:27:00 to 2024-12-17 16:00:00\n",
      "Starting optimization with 108 parameter combinations...\n",
      "Using single-threaded approach for reliability.\n"
     ]
    },
    {
     "name": "stderr",
     "output_type": "stream",
     "text": [
      "Parameter optimization: 100%|██████████| 108/108 [00:02<00:00, 45.32it/s]\n",
      "Parameter optimization: 100%|██████████| 108/108 [00:02<00:00, 45.32it/s]\n"
     ]
    },
    {
     "name": "stdout",
     "output_type": "stream",
     "text": [
      "Optimal parameters: window=7400, std_dev=5.5\n",
      "Insufficient trading data for period 65, skipping...\n",
      "\n",
      "--- Period 66 ---\n",
      "Optimization: 2024-04-08 02:18:00 to 2024-12-17 16:00:00\n",
      "Trading: 2024-12-17 16:01:00 to 2024-12-24 16:39:00\n",
      "Starting optimization with 108 parameter combinations...\n",
      "Using single-threaded approach for reliability.\n"
     ]
    },
    {
     "name": "stderr",
     "output_type": "stream",
     "text": [
      "Parameter optimization: 100%|██████████| 108/108 [00:02<00:00, 44.56it/s]\n",
      "Parameter optimization: 100%|██████████| 108/108 [00:02<00:00, 44.56it/s]\n"
     ]
    },
    {
     "name": "stdout",
     "output_type": "stream",
     "text": [
      "Optimal parameters: window=7400, std_dev=5.5\n",
      "Insufficient trading data for period 66, skipping...\n",
      "\n",
      "--- Period 67 ---\n",
      "Optimization: 2024-04-15 03:09:00 to 2024-12-24 16:39:00\n",
      "Trading: 2024-12-24 16:40:00 to 2025-01-02 14:21:00\n",
      "Starting optimization with 108 parameter combinations...\n",
      "Using single-threaded approach for reliability.\n"
     ]
    },
    {
     "name": "stderr",
     "output_type": "stream",
     "text": [
      "Parameter optimization: 100%|██████████| 108/108 [00:02<00:00, 44.12it/s]\n",
      "\n"
     ]
    },
    {
     "name": "stdout",
     "output_type": "stream",
     "text": [
      "Optimal parameters: window=2400, std_dev=6.0\n",
      "Period 67 results: PnL=0.00 pips, Trades=0, Win Rate=0.0%\n",
      "\n",
      "--- Period 68 ---\n",
      "Optimization: 2024-04-22 03:58:00 to 2025-01-02 14:21:00\n",
      "Trading: 2025-01-02 14:22:00 to 2025-01-09 14:46:00\n",
      "Starting optimization with 108 parameter combinations...\n",
      "Using single-threaded approach for reliability.\n"
     ]
    },
    {
     "name": "stderr",
     "output_type": "stream",
     "text": [
      "Parameter optimization: 100%|██████████| 108/108 [00:02<00:00, 44.79it/s]\n",
      "Parameter optimization: 100%|██████████| 108/108 [00:02<00:00, 44.79it/s]\n"
     ]
    },
    {
     "name": "stdout",
     "output_type": "stream",
     "text": [
      "Optimal parameters: window=2400, std_dev=6.0\n",
      "Period 68 results: PnL=0.00 pips, Trades=0, Win Rate=0.0%\n",
      "\n",
      "--- Period 69 ---\n",
      "Optimization: 2024-04-29 05:06:00 to 2025-01-09 14:46:00\n",
      "Trading: 2025-01-09 14:47:00 to 2025-01-16 15:09:00\n",
      "Starting optimization with 108 parameter combinations...\n",
      "Using single-threaded approach for reliability.\n"
     ]
    },
    {
     "name": "stderr",
     "output_type": "stream",
     "text": [
      "Parameter optimization: 100%|██████████| 108/108 [00:02<00:00, 44.89it/s]\n",
      "Parameter optimization: 100%|██████████| 108/108 [00:02<00:00, 44.89it/s]\n"
     ]
    },
    {
     "name": "stdout",
     "output_type": "stream",
     "text": [
      "Optimal parameters: window=2400, std_dev=6.0\n",
      "Period 69 results: PnL=0.00 pips, Trades=0, Win Rate=0.0%\n",
      "\n",
      "--- Period 70 ---\n",
      "Optimization: 2024-05-06 05:51:00 to 2025-01-16 15:09:00\n",
      "Trading: 2025-01-16 15:10:00 to 2025-01-23 15:37:00\n",
      "Starting optimization with 108 parameter combinations...\n",
      "Using single-threaded approach for reliability.\n"
     ]
    },
    {
     "name": "stderr",
     "output_type": "stream",
     "text": [
      "Parameter optimization: 100%|██████████| 108/108 [00:02<00:00, 45.28it/s]\n",
      "Parameter optimization: 100%|██████████| 108/108 [00:02<00:00, 45.28it/s]\n"
     ]
    },
    {
     "name": "stdout",
     "output_type": "stream",
     "text": [
      "Optimal parameters: window=2400, std_dev=6.0\n",
      "Period 70 results: PnL=0.00 pips, Trades=0, Win Rate=0.0%\n",
      "\n",
      "--- Period 71 ---\n",
      "Optimization: 2024-05-13 07:26:00 to 2025-01-23 15:37:00\n",
      "Trading: 2025-01-23 15:38:00 to 2025-01-30 16:00:00\n",
      "Starting optimization with 108 parameter combinations...\n",
      "Using single-threaded approach for reliability.\n"
     ]
    },
    {
     "name": "stderr",
     "output_type": "stream",
     "text": [
      "Parameter optimization: 100%|██████████| 108/108 [00:02<00:00, 46.23it/s]\n",
      "Parameter optimization: 100%|██████████| 108/108 [00:02<00:00, 46.23it/s]\n"
     ]
    },
    {
     "name": "stdout",
     "output_type": "stream",
     "text": [
      "Optimal parameters: window=2400, std_dev=6.0\n",
      "Period 71 results: PnL=0.00 pips, Trades=0, Win Rate=0.0%\n",
      "\n",
      "--- Period 72 ---\n",
      "Optimization: 2024-05-20 08:59:00 to 2025-01-30 16:00:00\n",
      "Trading: 2025-01-30 16:01:00 to 2025-02-06 16:24:00\n",
      "Starting optimization with 108 parameter combinations...\n",
      "Using single-threaded approach for reliability.\n"
     ]
    },
    {
     "name": "stderr",
     "output_type": "stream",
     "text": [
      "Parameter optimization: 100%|██████████| 108/108 [00:02<00:00, 46.10it/s]\n",
      "Parameter optimization: 100%|██████████| 108/108 [00:02<00:00, 46.10it/s]\n"
     ]
    },
    {
     "name": "stdout",
     "output_type": "stream",
     "text": [
      "Optimal parameters: window=2400, std_dev=6.0\n",
      "Period 72 results: PnL=0.00 pips, Trades=0, Win Rate=0.0%\n",
      "\n",
      "--- Period 73 ---\n",
      "Optimization: 2024-05-27 10:35:00 to 2025-02-06 16:24:00\n",
      "Trading: 2025-02-06 16:25:00 to 2025-02-13 17:00:00\n",
      "Starting optimization with 108 parameter combinations...\n",
      "Using single-threaded approach for reliability.\n"
     ]
    },
    {
     "name": "stderr",
     "output_type": "stream",
     "text": [
      "Parameter optimization: 100%|██████████| 108/108 [00:02<00:00, 46.88it/s]\n",
      "Parameter optimization: 100%|██████████| 108/108 [00:02<00:00, 46.88it/s]\n"
     ]
    },
    {
     "name": "stdout",
     "output_type": "stream",
     "text": [
      "Optimal parameters: window=8400, std_dev=0.5\n",
      "Insufficient trading data for period 73, skipping...\n",
      "\n",
      "--- Period 74 ---\n",
      "Optimization: 2024-06-03 12:08:00 to 2025-02-13 17:00:00\n",
      "Trading: 2025-02-13 17:01:00 to 2025-02-20 17:29:00\n",
      "Starting optimization with 108 parameter combinations...\n",
      "Using single-threaded approach for reliability.\n"
     ]
    },
    {
     "name": "stderr",
     "output_type": "stream",
     "text": [
      "Parameter optimization: 100%|██████████| 108/108 [00:02<00:00, 45.61it/s]\n",
      "Parameter optimization: 100%|██████████| 108/108 [00:02<00:00, 45.61it/s]\n"
     ]
    },
    {
     "name": "stdout",
     "output_type": "stream",
     "text": [
      "Optimal parameters: window=7400, std_dev=0.5\n",
      "Insufficient trading data for period 74, skipping...\n",
      "\n",
      "--- Period 75 ---\n",
      "Optimization: 2024-06-10 13:05:00 to 2025-02-20 17:29:00\n",
      "Trading: 2025-02-20 17:30:00 to 2025-02-27 17:59:00\n",
      "Starting optimization with 108 parameter combinations...\n",
      "Using single-threaded approach for reliability.\n"
     ]
    },
    {
     "name": "stderr",
     "output_type": "stream",
     "text": [
      "Parameter optimization: 100%|██████████| 108/108 [00:02<00:00, 43.14it/s]\n",
      "\n"
     ]
    },
    {
     "name": "stdout",
     "output_type": "stream",
     "text": [
      "Optimal parameters: window=7400, std_dev=0.5\n",
      "Insufficient trading data for period 75, skipping...\n",
      "\n",
      "--- Period 76 ---\n",
      "Optimization: 2024-06-17 14:58:00 to 2025-02-27 17:59:00\n",
      "Trading: 2025-02-27 18:00:00 to 2025-03-06 18:26:00\n",
      "Starting optimization with 108 parameter combinations...\n",
      "Using single-threaded approach for reliability.\n"
     ]
    },
    {
     "name": "stderr",
     "output_type": "stream",
     "text": [
      "Parameter optimization: 100%|██████████| 108/108 [00:02<00:00, 43.91it/s]\n",
      "Parameter optimization: 100%|██████████| 108/108 [00:02<00:00, 43.91it/s]\n"
     ]
    },
    {
     "name": "stdout",
     "output_type": "stream",
     "text": [
      "Optimal parameters: window=7400, std_dev=0.5\n",
      "Insufficient trading data for period 76, skipping...\n",
      "\n",
      "--- Period 77 ---\n",
      "Optimization: 2024-06-24 17:09:00 to 2025-03-06 18:26:00\n",
      "Trading: 2025-03-06 18:27:00 to 2025-03-13 19:10:00\n",
      "Starting optimization with 108 parameter combinations...\n",
      "Using single-threaded approach for reliability.\n"
     ]
    },
    {
     "name": "stderr",
     "output_type": "stream",
     "text": [
      "Parameter optimization: 100%|██████████| 108/108 [00:02<00:00, 44.47it/s]\n",
      "Parameter optimization: 100%|██████████| 108/108 [00:02<00:00, 44.47it/s]\n"
     ]
    },
    {
     "name": "stdout",
     "output_type": "stream",
     "text": [
      "Optimal parameters: window=7400, std_dev=0.5\n",
      "Insufficient trading data for period 77, skipping...\n",
      "\n",
      "--- Period 78 ---\n",
      "Optimization: 2024-07-01 18:29:00 to 2025-03-13 19:10:00\n",
      "Trading: 2025-03-13 19:11:00 to 2025-03-20 19:57:00\n",
      "Starting optimization with 108 parameter combinations...\n",
      "Using single-threaded approach for reliability.\n"
     ]
    },
    {
     "name": "stderr",
     "output_type": "stream",
     "text": [
      "Parameter optimization: 100%|██████████| 108/108 [00:02<00:00, 45.07it/s]\n",
      "Parameter optimization: 100%|██████████| 108/108 [00:02<00:00, 45.07it/s]\n"
     ]
    },
    {
     "name": "stdout",
     "output_type": "stream",
     "text": [
      "Optimal parameters: window=7400, std_dev=0.5\n",
      "Insufficient trading data for period 78, skipping...\n",
      "\n",
      "--- Period 79 ---\n",
      "Optimization: 2024-07-08 21:19:00 to 2025-03-20 19:57:00\n",
      "Trading: 2025-03-20 19:58:00 to 2025-03-27 20:32:00\n",
      "Starting optimization with 108 parameter combinations...\n",
      "Using single-threaded approach for reliability.\n"
     ]
    },
    {
     "name": "stderr",
     "output_type": "stream",
     "text": [
      "Parameter optimization: 100%|██████████| 108/108 [00:02<00:00, 43.53it/s]\n",
      "Parameter optimization: 100%|██████████| 108/108 [00:02<00:00, 43.53it/s]\n"
     ]
    },
    {
     "name": "stdout",
     "output_type": "stream",
     "text": [
      "Optimal parameters: window=7400, std_dev=0.5\n",
      "Insufficient trading data for period 79, skipping...\n",
      "\n",
      "--- Period 80 ---\n",
      "Optimization: 2024-07-15 23:10:00 to 2025-03-27 20:32:00\n",
      "Trading: 2025-03-27 20:33:00 to 2025-04-03 21:07:00\n",
      "Starting optimization with 108 parameter combinations...\n",
      "Using single-threaded approach for reliability.\n"
     ]
    },
    {
     "name": "stderr",
     "output_type": "stream",
     "text": [
      "Parameter optimization: 100%|██████████| 108/108 [00:02<00:00, 44.55it/s]\n",
      "Parameter optimization: 100%|██████████| 108/108 [00:02<00:00, 44.55it/s]\n"
     ]
    },
    {
     "name": "stdout",
     "output_type": "stream",
     "text": [
      "Optimal parameters: window=4400, std_dev=2.5\n",
      "Period 80 results: PnL=26.80 pips, Trades=2, Win Rate=50.0%\n",
      "\n",
      "--- Period 81 ---\n",
      "Optimization: 2024-07-23 00:29:00 to 2025-04-03 21:07:00\n",
      "Trading: 2025-04-03 21:08:00 to 2025-04-10 21:55:00\n",
      "Starting optimization with 108 parameter combinations...\n",
      "Using single-threaded approach for reliability.\n"
     ]
    },
    {
     "name": "stderr",
     "output_type": "stream",
     "text": [
      "Parameter optimization: 100%|██████████| 108/108 [00:02<00:00, 45.40it/s]\n",
      "Parameter optimization: 100%|██████████| 108/108 [00:02<00:00, 45.40it/s]\n"
     ]
    },
    {
     "name": "stdout",
     "output_type": "stream",
     "text": [
      "Optimal parameters: window=8400, std_dev=0.5\n",
      "Insufficient trading data for period 81, skipping...\n",
      "\n",
      "--- Period 82 ---\n",
      "Optimization: 2024-07-30 01:23:00 to 2025-04-10 21:55:00\n",
      "Trading: 2025-04-10 21:56:00 to 2025-04-17 22:37:00\n",
      "Starting optimization with 108 parameter combinations...\n",
      "Using single-threaded approach for reliability.\n"
     ]
    },
    {
     "name": "stderr",
     "output_type": "stream",
     "text": [
      "Parameter optimization: 100%|██████████| 108/108 [00:02<00:00, 45.52it/s]\n",
      "Parameter optimization: 100%|██████████| 108/108 [00:02<00:00, 45.52it/s]\n"
     ]
    },
    {
     "name": "stdout",
     "output_type": "stream",
     "text": [
      "Optimal parameters: window=4400, std_dev=2.5\n",
      "Period 82 results: PnL=10.20 pips, Trades=1, Win Rate=100.0%\n",
      "\n",
      "--- Period 83 ---\n",
      "Optimization: 2024-08-06 02:20:00 to 2025-04-17 22:37:00\n",
      "Trading: 2025-04-17 22:38:00 to 2025-04-24 23:34:00\n",
      "Starting optimization with 108 parameter combinations...\n",
      "Using single-threaded approach for reliability.\n"
     ]
    },
    {
     "name": "stderr",
     "output_type": "stream",
     "text": [
      "Parameter optimization: 100%|██████████| 108/108 [00:02<00:00, 43.59it/s]\n",
      "\n"
     ]
    },
    {
     "name": "stdout",
     "output_type": "stream",
     "text": [
      "Optimal parameters: window=4400, std_dev=1.0\n",
      "Period 83 results: PnL=-31.80 pips, Trades=1, Win Rate=0.0%\n",
      "\n",
      "--- Period 84 ---\n",
      "Optimization: 2024-08-13 03:03:00 to 2025-04-24 23:34:00\n",
      "Trading: 2025-04-24 23:35:00 to 2025-05-02 00:20:00\n",
      "Starting optimization with 108 parameter combinations...\n",
      "Using single-threaded approach for reliability.\n"
     ]
    },
    {
     "name": "stderr",
     "output_type": "stream",
     "text": [
      "Parameter optimization: 100%|██████████| 108/108 [00:02<00:00, 44.03it/s]\n",
      "Parameter optimization: 100%|██████████| 108/108 [00:02<00:00, 44.03it/s]\n"
     ]
    },
    {
     "name": "stdout",
     "output_type": "stream",
     "text": [
      "Optimal parameters: window=4400, std_dev=1.0\n",
      "Period 84 results: PnL=7.10 pips, Trades=2, Win Rate=50.0%\n",
      "\n",
      "--- Period 85 ---\n",
      "Optimization: 2024-08-20 03:38:00 to 2025-05-02 00:20:00\n",
      "Trading: 2025-05-02 00:21:00 to 2025-05-09 01:27:00\n",
      "Starting optimization with 108 parameter combinations...\n",
      "Using single-threaded approach for reliability.\n"
     ]
    },
    {
     "name": "stderr",
     "output_type": "stream",
     "text": [
      "Parameter optimization: 100%|██████████| 108/108 [00:02<00:00, 45.36it/s]\n",
      "Parameter optimization: 100%|██████████| 108/108 [00:02<00:00, 45.36it/s]\n"
     ]
    },
    {
     "name": "stdout",
     "output_type": "stream",
     "text": [
      "Optimal parameters: window=4400, std_dev=1.0\n",
      "Period 85 results: PnL=36.50 pips, Trades=2, Win Rate=100.0%\n",
      "\n",
      "--- Period 86 ---\n",
      "Optimization: 2024-08-27 04:15:00 to 2025-05-09 01:27:00\n",
      "Trading: 2025-05-09 01:28:00 to 2025-05-16 01:58:00\n",
      "Starting optimization with 108 parameter combinations...\n",
      "Using single-threaded approach for reliability.\n"
     ]
    },
    {
     "name": "stderr",
     "output_type": "stream",
     "text": [
      "Parameter optimization: 100%|██████████| 108/108 [00:02<00:00, 45.06it/s]\n",
      "Parameter optimization: 100%|██████████| 108/108 [00:02<00:00, 45.06it/s]\n"
     ]
    },
    {
     "name": "stdout",
     "output_type": "stream",
     "text": [
      "Optimal parameters: window=4400, std_dev=1.0\n",
      "Period 86 results: PnL=-24.40 pips, Trades=2, Win Rate=0.0%\n",
      "\n",
      "--- Period 87 ---\n",
      "Optimization: 2024-09-03 05:35:00 to 2025-05-16 01:58:00\n",
      "Trading: 2025-05-16 01:59:00 to 2025-05-23 02:44:00\n",
      "Starting optimization with 108 parameter combinations...\n",
      "Using single-threaded approach for reliability.\n"
     ]
    },
    {
     "name": "stderr",
     "output_type": "stream",
     "text": [
      "Parameter optimization: 100%|██████████| 108/108 [00:02<00:00, 45.46it/s]\n",
      "Parameter optimization: 100%|██████████| 108/108 [00:02<00:00, 45.46it/s]\n"
     ]
    },
    {
     "name": "stdout",
     "output_type": "stream",
     "text": [
      "Optimal parameters: window=4400, std_dev=1.0\n",
      "Period 87 results: PnL=31.40 pips, Trades=2, Win Rate=100.0%\n",
      "\n",
      "--- Period 88 ---\n",
      "Optimization: 2024-09-10 06:19:00 to 2025-05-23 02:44:00\n",
      "Trading: 2025-05-23 02:45:00 to 2025-05-30 03:43:00\n",
      "Starting optimization with 108 parameter combinations...\n",
      "Using single-threaded approach for reliability.\n"
     ]
    },
    {
     "name": "stderr",
     "output_type": "stream",
     "text": [
      "Parameter optimization: 100%|██████████| 108/108 [00:02<00:00, 45.20it/s]\n",
      "Parameter optimization: 100%|██████████| 108/108 [00:02<00:00, 45.20it/s]\n"
     ]
    },
    {
     "name": "stdout",
     "output_type": "stream",
     "text": [
      "Optimal parameters: window=4400, std_dev=1.0\n",
      "Period 88 results: PnL=68.70 pips, Trades=4, Win Rate=100.0%\n",
      "\n",
      "--- Period 89 ---\n",
      "Optimization: 2024-09-17 07:03:00 to 2025-05-30 03:43:00\n",
      "Trading: 2025-05-30 03:44:00 to 2025-06-06 04:08:00\n",
      "Starting optimization with 108 parameter combinations...\n",
      "Using single-threaded approach for reliability.\n"
     ]
    },
    {
     "name": "stderr",
     "output_type": "stream",
     "text": [
      "Parameter optimization: 100%|██████████| 108/108 [00:02<00:00, 45.85it/s]\n",
      "Parameter optimization: 100%|██████████| 108/108 [00:02<00:00, 45.85it/s]\n"
     ]
    },
    {
     "name": "stdout",
     "output_type": "stream",
     "text": [
      "Optimal parameters: window=4400, std_dev=1.0\n",
      "Period 89 results: PnL=3.20 pips, Trades=3, Win Rate=66.7%\n",
      "\n",
      "--- Period 90 ---\n",
      "Optimization: 2024-09-24 07:29:00 to 2025-06-06 04:08:00\n",
      "Trading: 2025-06-06 04:09:00 to 2025-06-13 04:33:00\n",
      "Starting optimization with 108 parameter combinations...\n",
      "Using single-threaded approach for reliability.\n"
     ]
    },
    {
     "name": "stderr",
     "output_type": "stream",
     "text": [
      "Parameter optimization: 100%|██████████| 108/108 [00:02<00:00, 44.80it/s]\n",
      "Parameter optimization: 100%|██████████| 108/108 [00:02<00:00, 44.80it/s]\n"
     ]
    },
    {
     "name": "stdout",
     "output_type": "stream",
     "text": [
      "Optimal parameters: window=4400, std_dev=1.0\n",
      "Period 90 results: PnL=-51.10 pips, Trades=3, Win Rate=33.3%\n",
      "\n",
      "--- Period 91 ---\n",
      "Optimization: 2024-10-01 07:58:00 to 2025-06-13 04:33:00\n",
      "Trading: 2025-06-13 04:34:00 to 2025-06-20 05:02:00\n",
      "Starting optimization with 108 parameter combinations...\n",
      "Using single-threaded approach for reliability.\n"
     ]
    },
    {
     "name": "stderr",
     "output_type": "stream",
     "text": [
      "Parameter optimization: 100%|██████████| 108/108 [00:02<00:00, 44.61it/s]\n",
      "Parameter optimization: 100%|██████████| 108/108 [00:02<00:00, 44.61it/s]\n"
     ]
    },
    {
     "name": "stdout",
     "output_type": "stream",
     "text": [
      "Optimal parameters: window=3400, std_dev=1.5\n",
      "Period 91 results: PnL=104.70 pips, Trades=5, Win Rate=100.0%\n",
      "\n",
      "--- Period 92 ---\n",
      "Optimization: 2024-10-08 08:28:00 to 2025-06-20 05:02:00\n",
      "Trading: 2025-06-20 05:03:00 to 2025-06-27 05:28:00\n",
      "Starting optimization with 108 parameter combinations...\n",
      "Using single-threaded approach for reliability.\n"
     ]
    },
    {
     "name": "stderr",
     "output_type": "stream",
     "text": [
      "Parameter optimization: 100%|██████████| 108/108 [00:02<00:00, 45.18it/s]\n",
      "Parameter optimization: 100%|██████████| 108/108 [00:02<00:00, 45.18it/s]\n"
     ]
    },
    {
     "name": "stdout",
     "output_type": "stream",
     "text": [
      "Optimal parameters: window=3400, std_dev=1.5\n",
      "Period 92 results: PnL=-9.30 pips, Trades=1, Win Rate=0.0%\n",
      "\n",
      "--- Period 93 ---\n",
      "Optimization: 2024-10-15 10:09:00 to 2025-06-27 05:28:00\n",
      "Trading: 2025-06-27 05:29:00 to 2025-07-04 05:56:00\n",
      "Starting optimization with 108 parameter combinations...\n",
      "Using single-threaded approach for reliability.\n"
     ]
    },
    {
     "name": "stderr",
     "output_type": "stream",
     "text": [
      "Parameter optimization: 100%|██████████| 108/108 [00:02<00:00, 45.82it/s]\n",
      "\n"
     ]
    },
    {
     "name": "stdout",
     "output_type": "stream",
     "text": [
      "Optimal parameters: window=3400, std_dev=1.5\n",
      "Period 93 results: PnL=25.80 pips, Trades=3, Win Rate=66.7%\n"
     ]
    },
    {
     "data": {
      "image/png": "[encoded data removed]",
      "text/plain": [
       "<Figure size 1500x1000 with 5 Axes>"
      ]
     },
     "metadata": {},
     "output_type": "display_data"
    },
    {
     "name": "stdout",
     "output_type": "stream",
     "text": [
      "\n",
      "=== WALK FORWARD OPTIMIZATION SUMMARY ===\n",
      "Total Periods: 93\n",
      "Total PnL: 78.00 pips\n",
      "Total Trades: 82\n",
      "Winning Trades: 54\n",
      "Losing Trades: 28\n",
      "Win Rate: 65.85%\n",
      "Max Drawdown: 242.80 pips\n",
      "Average PnL per Period: 0.84 pips\n",
      "Average PnL per Trade: 0.95 pips\n",
      "=============================================\n"
     ]
    }
   ],
   "source": [
    "# Force reload of the modules to ensure latest changes are loaded\n",
    "import importlib\n",
    "import sys\n",
    "\n",
    "# Reload all backtester modules\n",
    "modules_to_reload = [\n",
    "    'modules.backtester.walk_forward',\n",
    "    'modules.backtester.backtest_engine',\n",
    "    'modules.backtester.indicators',\n",
    "    'modules.backtester.data_loader',\n",
    "    'modules.backtester.visualization',\n",
    "    'modules.backtester.utils'\n",
    "]\n",
    "\n",
    "for module_name in modules_to_reload:\n",
    "    if module_name in sys.modules:\n",
    "        importlib.reload(sys.modules[module_name])\n",
    "\n",
    "# Re-import the walk forward functions with the fixes\n",
    "from modules.backtester.walk_forward import walk_forward_optimization, plot_wfo_results\n",
    "\n",
    "# Execute Walk Forward Optimization with proper error handling\n",
    "try:\n",
    "    print(\"Starting Walk Forward Optimization...\")\n",
    "    wfo_results = walk_forward_optimization(\n",
    "        minute_data=subset_df,\n",
    "        lookback_days=180,  # Use 10 days of data for optimization\n",
    "        optimization_interval_days=5,  # Re-optimize every 5 days\n",
    "        window_start=400,\n",
    "        window_stop=8000,\n",
    "        window_step=1000,\n",
    "        std_start=0.5,\n",
    "        std_stop=6.0,\n",
    "        std_step=0.5,\n",
    "        price_column='midprice'\n",
    "    )\n",
    "    \n",
    "    # Plot and analyze results\n",
    "    plot_wfo_results(wfo_results)\n",
    "    \n",
    "except Exception as e:\n",
    "    print(f\"Error during Walk Forward Optimization: {e}\")\n",
    "    import traceback\n",
    "    traceback.print_exc()\n",
    "    print(\"Please check your data and parameters.\")"
   ]
  }
 ],
 "metadata": {
  "kernelspec": {
   "display_name": ".venv (3.10.12)",
   "language": "python",
   "name": "python3"
  },
  "language_info": {
   "codemirror_mode": {
    "name": "ipython",
    "version": 3
   },
   "file_extension": ".py",
   "mimetype": "text/x-python",
   "name": "python",
   "nbconvert_exporter": "python",
   "pygments_lexer": "ipython3",
   "version": "3.10.12"
  }
 },
 "nbformat": 4,
 "nbformat_minor": 5
}
